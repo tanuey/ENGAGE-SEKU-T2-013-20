{
 "cells": [
  {
   "cell_type": "markdown",
   "metadata": {
    "id": "1-HtS8QdUHd1"
   },
   "source": [
    "<h2 style=\"color:red\">Supervised machine learning algorithms</h2>\n",
    "\n",
    "As we said in the previous session, supervised machine learning uses data that has labels. There are two categories of supervised machine learning: Regression and classification\n",
    "\n",
    "<h3>Learning outcomes</h3>\n",
    "\n",
    "At the end of this session the learner should be able to;\n",
    "\n",
    "1. Explain the difference between the regression and classification machine learning algorithms\n",
    "2. Train at least one regression and one classification algorithm\n",
    "3. Visualize the result of the algorithm\n",
    "4. Evaluate the performance of the trained machine learning algorithms using different metrics\n",
    "5. Interprate and communicate the results of the machine learning algorithms\n",
    "\n",
    "<h3>Regression</h3>\n",
    "\n",
    "In regression, the idea is to predict a numerical variable like age, salary. We are going to look at two algorithms for regression i.e simple linear regression and multiple linear regression.\n",
    "\n",
    "<h2>Linear Regression</h2>\n",
    "Linear regression is used to model the relationship between a dependent variable (also known as the target or response variable) and one or more independent variables (also known as predictor variables or features). It’s a supervised learning technique widely employed for prediction and inference tasks.\n",
    "\n",
    "<h2>Simple linear regression</h2>\n",
    "\n",
    "In simple linear regression, we have one indepedent(predictor) variable and one dependent variable(outcome variable).\n",
    "\n",
    "The formulae for simple linear regression is\n",
    "\n",
    "    y=mx+c\n",
    "Lets look at what each of the elements of the formulae mean:\n",
    "\n",
    "x is the value of the indepedent variable. It is the variable we are going to use to predict the outcome variable.\n",
    "\n",
    "m: is the gradient(Slope): The slope indicates the rate at which the outcome variable changes as the depedent variable changes.\n",
    "\n",
    "c:Intercept-The intercept indicates the value of the depedent variable when the indepedent variable is equal to zero.\n",
    "\n",
    "y:is the depedent(outcome) variable\n",
    "\n",
    "Now that we have understood the formulae for linear regression, We are going to do an example of predicting someones weight based on their height. The indepedent variable in this case is the height and the depedent variable is the weight.\n",
    "\n",
    "We are going to use the linear regression algorithm function that has been developed in the sklearn python library. The sklearn cointains other functions that we will be using to create other machine learning algorithms.\n",
    "\n",
    "To start we will import the libraries that we are going use. Wa will need the pandas library for reading data and presenting our data in a tabular format. We will also need the numpy library for converting our data into a 2 dimensional arrays. The sklearn library contains the functions for creating various machine learning models in this case we are interested in linear models, so we will import that particular class of models. We also need to seperate our data into training and testing data for the purpose of evaluating our algorithm. In order to do that we will need the function for dividing our data into training and testing data called train_test_split. This function is also found in the sklearn library. Finaly we will need to draw some graphs about our data, to do that we will import the matplotlib library."
   ]
  },
  {
   "cell_type": "code",
   "execution_count": 7,
   "metadata": {
    "id": "q4GMRDojZBTP"
   },
   "outputs": [],
   "source": [
    "#importing libraries\n",
    "import pandas as pd\n",
    "import numpy as np\n",
    "from sklearn import linear_model\n",
    "from sklearn.model_selection import train_test_split\n",
    "import matplotlib.pyplot as plt\n"
   ]
  },
  {
   "cell_type": "markdown",
   "metadata": {
    "id": "-BQMpbbWzcVg"
   },
   "source": [
    "After importing the necessary library, we are going to read our data that contains the age and weight of children in Bungoma county. In order to do that we are going to create a variable that will store our data, we are calling the variable 'data'. Then we are going to use the function in the pandas library for reading the excel file called 'read_excel' because our file is in excel. The funcion 'read_excel' expects as an argument the path to where our file is located. In this case our file is located in the drive in a folder called engage dataset hat is inside another folder called, revised  Engage Data science materials.\n",
    "\n",
    "**NOTE: Be sure to change the content in inside the quotation marks to indicate where your data is located**"
   ]
  },
  {
   "cell_type": "code",
   "execution_count": 8,
   "metadata": {
    "id": "Gl8y2_UST3Tb"
   },
   "outputs": [],
   "source": [
    "#Reading data\n",
    "data=pd.read_excel(\"child_data .xlsx\")\n"
   ]
  },
  {
   "cell_type": "markdown",
   "metadata": {
    "id": "08OUL_ZI1I4M"
   },
   "source": [
    "After reading the data, we can view a few rows to just see how the data looks like using the head() function introduced earlier\n",
    "\n"
   ]
  },
  {
   "cell_type": "code",
   "execution_count": 10,
   "metadata": {
    "colab": {
     "base_uri": "https://localhost:8080/",
     "height": 226
    },
    "executionInfo": {
     "elapsed": 457,
     "status": "ok",
     "timestamp": 1721288465240,
     "user": {
      "displayName": "George Musumba",
      "userId": "16799300476353448120"
     },
     "user_tz": -180
    },
    "id": "-_BUAPOI034Q",
    "outputId": "e839567e-87cd-4244-f3a2-00e4b55271c4"
   },
   "outputs": [
    {
     "data": {
      "text/html": [
       "<div>\n",
       "<style scoped>\n",
       "    .dataframe tbody tr th:only-of-type {\n",
       "        vertical-align: middle;\n",
       "    }\n",
       "\n",
       "    .dataframe tbody tr th {\n",
       "        vertical-align: top;\n",
       "    }\n",
       "\n",
       "    .dataframe thead th {\n",
       "        text-align: right;\n",
       "    }\n",
       "</style>\n",
       "<table border=\"1\" class=\"dataframe\">\n",
       "  <thead>\n",
       "    <tr style=\"text-align: right;\">\n",
       "      <th></th>\n",
       "      <th>Age (months)</th>\n",
       "      <th>Sex</th>\n",
       "      <th>Mother's education</th>\n",
       "      <th>Area</th>\n",
       "      <th>Wealth index quintile</th>\n",
       "      <th>Child's weight (kilograms)</th>\n",
       "    </tr>\n",
       "  </thead>\n",
       "  <tbody>\n",
       "    <tr>\n",
       "      <th>0</th>\n",
       "      <td>45</td>\n",
       "      <td>0</td>\n",
       "      <td>1</td>\n",
       "      <td>0</td>\n",
       "      <td>0</td>\n",
       "      <td>16.2</td>\n",
       "    </tr>\n",
       "    <tr>\n",
       "      <th>1</th>\n",
       "      <td>45</td>\n",
       "      <td>1</td>\n",
       "      <td>0</td>\n",
       "      <td>0</td>\n",
       "      <td>1</td>\n",
       "      <td>13.5</td>\n",
       "    </tr>\n",
       "    <tr>\n",
       "      <th>2</th>\n",
       "      <td>36</td>\n",
       "      <td>1</td>\n",
       "      <td>0</td>\n",
       "      <td>0</td>\n",
       "      <td>2</td>\n",
       "      <td>13.4</td>\n",
       "    </tr>\n",
       "    <tr>\n",
       "      <th>3</th>\n",
       "      <td>51</td>\n",
       "      <td>0</td>\n",
       "      <td>0</td>\n",
       "      <td>0</td>\n",
       "      <td>2</td>\n",
       "      <td>15.0</td>\n",
       "    </tr>\n",
       "    <tr>\n",
       "      <th>4</th>\n",
       "      <td>56</td>\n",
       "      <td>0</td>\n",
       "      <td>0</td>\n",
       "      <td>0</td>\n",
       "      <td>2</td>\n",
       "      <td>15.2</td>\n",
       "    </tr>\n",
       "  </tbody>\n",
       "</table>\n",
       "</div>"
      ],
      "text/plain": [
       "   Age (months)  Sex  Mother's education  Area  Wealth index quintile  \\\n",
       "0            45    0                   1     0                      0   \n",
       "1            45    1                   0     0                      1   \n",
       "2            36    1                   0     0                      2   \n",
       "3            51    0                   0     0                      2   \n",
       "4            56    0                   0     0                      2   \n",
       "\n",
       "   Child's weight (kilograms)  \n",
       "0                        16.2  \n",
       "1                        13.5  \n",
       "2                        13.4  \n",
       "3                        15.0  \n",
       "4                        15.2  "
      ]
     },
     "execution_count": 10,
     "metadata": {},
     "output_type": "execute_result"
    }
   ],
   "source": [
    "data.head()"
   ]
  },
  {
   "cell_type": "markdown",
   "metadata": {
    "id": "emqpVLrN09wm"
   },
   "source": [
    "We can check to  see if the data coitained in our two columns cointains any missing values by using the isnull() function and the sum() function."
   ]
  },
  {
   "cell_type": "code",
   "execution_count": 11,
   "metadata": {
    "colab": {
     "base_uri": "https://localhost:8080/"
    },
    "executionInfo": {
     "elapsed": 650,
     "status": "ok",
     "timestamp": 1721288546022,
     "user": {
      "displayName": "George Musumba",
      "userId": "16799300476353448120"
     },
     "user_tz": -180
    },
    "id": "987ksjFV08mr",
    "outputId": "4bc28e1a-80a1-4eba-ba5a-ce43cf1196bb"
   },
   "outputs": [
    {
     "data": {
      "text/plain": [
       "Age (months)                  0\n",
       "Sex                           0\n",
       "Mother's education            0\n",
       "Area                          0\n",
       "Wealth index quintile         0\n",
       "Child's weight (kilograms)    0\n",
       "dtype: int64"
      ]
     },
     "execution_count": 11,
     "metadata": {},
     "output_type": "execute_result"
    }
   ],
   "source": [
    "data.isnull().sum()"
   ]
  },
  {
   "cell_type": "markdown",
   "metadata": {
    "id": "PPcVYuef6qXM"
   },
   "source": [
    "We can see that our dataset has null values with the weight column having 65 and the age column having 28. We can remove the null values from our dataset using the pandas dropna()function."
   ]
  },
  {
   "cell_type": "code",
   "execution_count": 12,
   "metadata": {
    "id": "HDS4XDmT64iN"
   },
   "outputs": [],
   "source": [
    "data.dropna(inplace=True)"
   ]
  },
  {
   "cell_type": "code",
   "execution_count": 13,
   "metadata": {
    "colab": {
     "base_uri": "https://localhost:8080/"
    },
    "executionInfo": {
     "elapsed": 456,
     "status": "ok",
     "timestamp": 1721288553314,
     "user": {
      "displayName": "George Musumba",
      "userId": "16799300476353448120"
     },
     "user_tz": -180
    },
    "id": "AJyUVIWQiYUT",
    "outputId": "8681face-8971-4be4-8b86-3eea30393fce"
   },
   "outputs": [
    {
     "data": {
      "text/plain": [
       "(768, 6)"
      ]
     },
     "execution_count": 13,
     "metadata": {},
     "output_type": "execute_result"
    }
   ],
   "source": [
    "data.shape\n"
   ]
  },
  {
   "cell_type": "code",
   "execution_count": 14,
   "metadata": {
    "colab": {
     "base_uri": "https://localhost:8080/"
    },
    "executionInfo": {
     "elapsed": 414,
     "status": "ok",
     "timestamp": 1721288556529,
     "user": {
      "displayName": "George Musumba",
      "userId": "16799300476353448120"
     },
     "user_tz": -180
    },
    "id": "y4Y9rEYx7IZo",
    "outputId": "e6312ee5-70f8-4216-d23f-25b0ac0fc29c"
   },
   "outputs": [
    {
     "data": {
      "text/plain": [
       "Age (months)                  0\n",
       "Sex                           0\n",
       "Mother's education            0\n",
       "Area                          0\n",
       "Wealth index quintile         0\n",
       "Child's weight (kilograms)    0\n",
       "dtype: int64"
      ]
     },
     "execution_count": 14,
     "metadata": {},
     "output_type": "execute_result"
    }
   ],
   "source": [
    "data.isnull().sum()"
   ]
  },
  {
   "cell_type": "markdown",
   "metadata": {
    "id": "4MToUKxBhSrn"
   },
   "source": [
    "Now we can see that our dataset has no null values. We can now go a head and use our data."
   ]
  },
  {
   "cell_type": "markdown",
   "metadata": {
    "id": "ZZgtLrVc2lRl"
   },
   "source": [
    "We can see from our data that there are three columns:index, Child's weight (kilograms), Age (months) and the columns  Child's weight (kilograms)and Age (months) contains numerical values.\n",
    "\n",
    "We can also get a feel of how our two variables are related by creating a scatter plot as shown below. From the diagram we can see that our variables exibit a linear relationship."
   ]
  },
  {
   "cell_type": "code",
   "execution_count": 15,
   "metadata": {
    "colab": {
     "base_uri": "https://localhost:8080/",
     "height": 469
    },
    "executionInfo": {
     "elapsed": 868,
     "status": "ok",
     "timestamp": 1721288561441,
     "user": {
      "displayName": "George Musumba",
      "userId": "16799300476353448120"
     },
     "user_tz": -180
    },
    "id": "P_QDNtoQ2aZS",
    "outputId": "5cc684b4-5ef3-4ab4-b52b-a2c17c2efadc"
   },
   "outputs": [
    {
     "data": {
      "image/png": "[encoded data removed]",
      "text/plain": [
       "<Figure size 640x480 with 1 Axes>"
      ]
     },
     "metadata": {},
     "output_type": "display_data"
    }
   ],
   "source": [
    "# Scatter plot\n",
    "data.plot(kind='scatter', x=\"Age (months)\", y=\"Child's weight (kilograms)\", s=32, alpha=.8)\n",
    "plt.gca().spines[['top', 'right',]].set_visible(False)"
   ]
  },
  {
   "cell_type": "markdown",
   "metadata": {
    "id": "SsiAg_Oy336G"
   },
   "source": [
    "Before we use the data to train our algorithm, it is important also to be able to establish weather our data has some missing data. In order to do so we will use the isnull() function and culculate the sum of all the missing values for each columns using the sum() function as shown below."
   ]
  },
  {
   "cell_type": "code",
   "execution_count": 16,
   "metadata": {
    "colab": {
     "base_uri": "https://localhost:8080/"
    },
    "executionInfo": {
     "elapsed": 425,
     "status": "ok",
     "timestamp": 1721288566060,
     "user": {
      "displayName": "George Musumba",
      "userId": "16799300476353448120"
     },
     "user_tz": -180
    },
    "id": "_ouW8JWIaIzV",
    "outputId": "a27d8521-3a2e-4a80-86a5-7baa09f1af43"
   },
   "outputs": [
    {
     "data": {
      "text/plain": [
       "Age (months)                  0\n",
       "Sex                           0\n",
       "Mother's education            0\n",
       "Area                          0\n",
       "Wealth index quintile         0\n",
       "Child's weight (kilograms)    0\n",
       "dtype: int64"
      ]
     },
     "execution_count": 16,
     "metadata": {},
     "output_type": "execute_result"
    }
   ],
   "source": [
    "#checking if there is missing data\n",
    "data.isnull().sum()"
   ]
  },
  {
   "cell_type": "markdown",
   "metadata": {
    "id": "PCrwsC6J4jm9"
   },
   "source": [
    "We can see the sum for missing values is zero in all the columns. This means that our data has no missing values. Once we have established that our data is okay, we can now go ahead and extract our indepedent (x variable) and the depedent(y variable) from our dataset. In this case our x variable will be the column for height and the y variable will be the column for weight."
   ]
  },
  {
   "cell_type": "code",
   "execution_count": 17,
   "metadata": {
    "id": "rmCiSMGqbrFZ"
   },
   "outputs": [],
   "source": [
    "#Creating x and y values: X being the indepedent variable and y being the dependant variable\n",
    "\n",
    "x=data[[\"Age (months)\"]]\n",
    "y=data[[\"Child's weight (kilograms)\"]]"
   ]
  },
  {
   "cell_type": "markdown",
   "metadata": {
    "id": "WlDJ4X0q5U82"
   },
   "source": [
    "After creating our x and y values, we can now create the model using the function LiearRegression cointained in the linear_model class as shown below."
   ]
  },
  {
   "cell_type": "code",
   "execution_count": 18,
   "metadata": {
    "colab": {
     "base_uri": "https://localhost:8080/",
     "height": 156
    },
    "executionInfo": {
     "elapsed": 7,
     "status": "error",
     "timestamp": 1723640381978,
     "user": {
      "displayName": "Anne Wanjiru Wangombe",
      "userId": "13625639037032528920"
     },
     "user_tz": -180
    },
    "id": "wwfmSiN_cLeN",
    "outputId": "6426a9af-a48e-436b-a43a-a0467a8a9ff6"
   },
   "outputs": [],
   "source": [
    "#creating the model\n",
    "model=linear_model.LinearRegression()\n"
   ]
  },
  {
   "cell_type": "markdown",
   "metadata": {
    "id": "F62HHUXR5oRT"
   },
   "source": [
    "In order to train our algorithm, we will need to first split our data into training and testing data using the train_test_split function we had imported as swown in the code below."
   ]
  },
  {
   "cell_type": "code",
   "execution_count": 19,
   "metadata": {
    "id": "XvVRt2jOcc4x"
   },
   "outputs": [],
   "source": [
    "#splitting the data into 70% training and 30% testing\n",
    "x_train,x_test, y_train, y_test=train_test_split(x,y, test_size=0.3, random_state=42)"
   ]
  },
  {
   "cell_type": "markdown",
   "metadata": {
    "id": "4mNuFGGn6Ep2"
   },
   "source": [
    "After splitting the data we can check to just see the number of records in the test and train dataset using the shape attribute."
   ]
  },
  {
   "cell_type": "code",
   "execution_count": 21,
   "metadata": {
    "colab": {
     "base_uri": "https://localhost:8080/"
    },
    "executionInfo": {
     "elapsed": 648,
     "status": "ok",
     "timestamp": 1721288578655,
     "user": {
      "displayName": "George Musumba",
      "userId": "16799300476353448120"
     },
     "user_tz": -180
    },
    "id": "C-ZHKS6Ed2Io",
    "outputId": "28ec4342-3802-46de-87a2-692ecb2b6194"
   },
   "outputs": [
    {
     "name": "stdout",
     "output_type": "stream",
     "text": [
      "(537, 1)\n",
      "(537, 1)\n"
     ]
    }
   ],
   "source": [
    "print(x_train.shape)\n",
    "print(y_train.shape)"
   ]
  },
  {
   "cell_type": "markdown",
   "metadata": {
    "id": "AXULTInH6n1I"
   },
   "source": [
    "We can see that our training data has 559 rows and 1 column. The test data has 7500 rows and 1 column.\n",
    "\n",
    "**Culculate the percentage using the hand and see if we have 70% training data and 30%test data**\n",
    "\n",
    "Now that we split our data into training and testing data, we can now train the algorithm using the x_train and the y_train data using the function called fit as shown in the code below;"
   ]
  },
  {
   "cell_type": "code",
   "execution_count": 22,
   "metadata": {
    "colab": {
     "base_uri": "https://localhost:8080/",
     "height": 94
    },
    "executionInfo": {
     "elapsed": 405,
     "status": "ok",
     "timestamp": 1721288582284,
     "user": {
      "displayName": "George Musumba",
      "userId": "16799300476353448120"
     },
     "user_tz": -180
    },
    "id": "4zqkL-IgdCuY",
    "outputId": "70e01627-ddca-497e-8571-3a9d3269fd30"
   },
   "outputs": [
    {
     "data": {
      "text/html": [
       "<style>#sk-container-id-1 {color: black;background-color: white;}#sk-container-id-1 pre{padding: 0;}#sk-container-id-1 div.sk-toggleable {background-color: white;}#sk-container-id-1 label.sk-toggleable__label {cursor: pointer;display: block;width: 100%;margin-bottom: 0;padding: 0.3em;box-sizing: border-box;text-align: center;}#sk-container-id-1 label.sk-toggleable__label-arrow:before {content: \"▸\";float: left;margin-right: 0.25em;color: #696969;}#sk-container-id-1 label.sk-toggleable__label-arrow:hover:before {color: black;}#sk-container-id-1 div.sk-estimator:hover label.sk-toggleable__label-arrow:before {color: black;}#sk-container-id-1 div.sk-toggleable__content {max-height: 0;max-width: 0;overflow: hidden;text-align: left;background-color: #f0f8ff;}#sk-container-id-1 div.sk-toggleable__content pre {margin: 0.2em;color: black;border-radius: 0.25em;background-color: #f0f8ff;}#sk-container-id-1 input.sk-toggleable__control:checked~div.sk-toggleable__content {max-height: 200px;max-width: 100%;overflow: auto;}#sk-container-id-1 input.sk-toggleable__control:checked~label.sk-toggleable__label-arrow:before {content: \"▾\";}#sk-container-id-1 div.sk-estimator input.sk-toggleable__control:checked~label.sk-toggleable__label {background-color: #d4ebff;}#sk-container-id-1 div.sk-label input.sk-toggleable__control:checked~label.sk-toggleable__label {background-color: #d4ebff;}#sk-container-id-1 input.sk-hidden--visually {border: 0;clip: rect(1px 1px 1px 1px);clip: rect(1px, 1px, 1px, 1px);height: 1px;margin: -1px;overflow: hidden;padding: 0;position: absolute;width: 1px;}#sk-container-id-1 div.sk-estimator {font-family: monospace;background-color: #f0f8ff;border: 1px dotted black;border-radius: 0.25em;box-sizing: border-box;margin-bottom: 0.5em;}#sk-container-id-1 div.sk-estimator:hover {background-color: #d4ebff;}#sk-container-id-1 div.sk-parallel-item::after {content: \"\";width: 100%;border-bottom: 1px solid gray;flex-grow: 1;}#sk-container-id-1 div.sk-label:hover label.sk-toggleable__label {background-color: #d4ebff;}#sk-container-id-1 div.sk-serial::before {content: \"\";position: absolute;border-left: 1px solid gray;box-sizing: border-box;top: 0;bottom: 0;left: 50%;z-index: 0;}#sk-container-id-1 div.sk-serial {display: flex;flex-direction: column;align-items: center;background-color: white;padding-right: 0.2em;padding-left: 0.2em;position: relative;}#sk-container-id-1 div.sk-item {position: relative;z-index: 1;}#sk-container-id-1 div.sk-parallel {display: flex;align-items: stretch;justify-content: center;background-color: white;position: relative;}#sk-container-id-1 div.sk-item::before, #sk-container-id-1 div.sk-parallel-item::before {content: \"\";position: absolute;border-left: 1px solid gray;box-sizing: border-box;top: 0;bottom: 0;left: 50%;z-index: -1;}#sk-container-id-1 div.sk-parallel-item {display: flex;flex-direction: column;z-index: 1;position: relative;background-color: white;}#sk-container-id-1 div.sk-parallel-item:first-child::after {align-self: flex-end;width: 50%;}#sk-container-id-1 div.sk-parallel-item:last-child::after {align-self: flex-start;width: 50%;}#sk-container-id-1 div.sk-parallel-item:only-child::after {width: 0;}#sk-container-id-1 div.sk-dashed-wrapped {border: 1px dashed gray;margin: 0 0.4em 0.5em 0.4em;box-sizing: border-box;padding-bottom: 0.4em;background-color: white;}#sk-container-id-1 div.sk-label label {font-family: monospace;font-weight: bold;display: inline-block;line-height: 1.2em;}#sk-container-id-1 div.sk-label-container {text-align: center;}#sk-container-id-1 div.sk-container {/* jupyter's `normalize.less` sets `[hidden] { display: none; }` but bootstrap.min.css set `[hidden] { display: none !important; }` so we also need the `!important` here to be able to override the default hidden behavior on the sphinx rendered scikit-learn.org. See: https://github.com/scikit-learn/scikit-learn/issues/21755 */display: inline-block !important;position: relative;}#sk-container-id-1 div.sk-text-repr-fallback {display: none;}</style><div id=\"sk-container-id-1\" class=\"sk-top-container\"><div class=\"sk-text-repr-fallback\"><pre>LinearRegression()</pre><b>In a Jupyter environment, please rerun this cell to show the HTML representation or trust the notebook. <br />On GitHub, the HTML representation is unable to render, please try loading this page with nbviewer.org.</b></div><div class=\"sk-container\" hidden><div class=\"sk-item\"><div class=\"sk-estimator sk-toggleable\"><input class=\"sk-toggleable__control sk-hidden--visually\" id=\"sk-estimator-id-1\" type=\"checkbox\" checked><label for=\"sk-estimator-id-1\" class=\"sk-toggleable__label sk-toggleable__label-arrow\">LinearRegression</label><div class=\"sk-toggleable__content\"><pre>LinearRegression()</pre></div></div></div></div></div>"
      ],
      "text/plain": [
       "LinearRegression()"
      ]
     },
     "execution_count": 22,
     "metadata": {},
     "output_type": "execute_result"
    }
   ],
   "source": [
    "#training the model\n",
    "\n",
    "model.fit(x_train,y_train)"
   ]
  },
  {
   "cell_type": "markdown",
   "metadata": {
    "id": "iz7dQU_y7lq9"
   },
   "source": [
    "Once the model is trained, we can now use it to predict the data it has not seen saved in the x_test variable using the predict() function."
   ]
  },
  {
   "cell_type": "code",
   "execution_count": 25,
   "metadata": {
    "id": "CBY82cCPeM5o"
   },
   "outputs": [],
   "source": [
    "y_pred=model.predict(x_test)"
   ]
  },
  {
   "cell_type": "markdown",
   "metadata": {
    "id": "9IECpWdl79ji"
   },
   "source": [
    "After getting the predicted values, we can compare it with the actual values saved in the y_test. We can do that by ploting the lines that show the predicted values and the actual values using the matplotlib library as shown below"
   ]
  },
  {
   "cell_type": "code",
   "execution_count": 24,
   "metadata": {
    "colab": {
     "base_uri": "https://localhost:8080/",
     "height": 559
    },
    "executionInfo": {
     "elapsed": 1875,
     "status": "ok",
     "timestamp": 1721288591619,
     "user": {
      "displayName": "George Musumba",
      "userId": "16799300476353448120"
     },
     "user_tz": -180
    },
    "id": "zQ2J362OegTh",
    "outputId": "0b06e562-59c6-4c53-d90a-8e4095c29c1d"
   },
   "outputs": [
    {
     "data": {
      "text/plain": [
       "[<matplotlib.lines.Line2D at 0x1fb84576450>]"
      ]
     },
     "execution_count": 24,
     "metadata": {},
     "output_type": "execute_result"
    },
    {
     "data": {
      "image/png": "[encoded data removed]",
      "text/plain": [
       "<Figure size 1000x600 with 1 Axes>"
      ]
     },
     "metadata": {},
     "output_type": "display_data"
    }
   ],
   "source": [
    "plt.figure(figsize=(10, 6))\n",
    "plt.plot(x_test, y_test, label='Actual Values', color='blue', marker='o')\n",
    "\n",
    "# Plot predicted values\n",
    "plt.plot(x_test, y_pred, label='Predicted Values', color='red', marker='x')\n"
   ]
  },
  {
   "cell_type": "markdown",
   "metadata": {
    "id": "ZErxD7Ab8gSO"
   },
   "source": [
    "The red line indicates the predicted values while the blue lines indicate the actual values. As we can see from the graph it seems our model did not fit all the values correctily.\n",
    "\n",
    "From the model, we can also get the value of the intercept and the value of the slop(coefficient)"
   ]
  },
  {
   "cell_type": "markdown",
   "metadata": {
    "id": "ciVVCG-thwcM"
   },
   "source": [
    "The intercept from the model is 6.58567429 which means when the age is equal to 0 the weight is 6.58567429 kgs."
   ]
  },
  {
   "cell_type": "code",
   "execution_count": 26,
   "metadata": {
    "colab": {
     "base_uri": "https://localhost:8080/"
    },
    "executionInfo": {
     "elapsed": 435,
     "status": "ok",
     "timestamp": 1721288597775,
     "user": {
      "displayName": "George Musumba",
      "userId": "16799300476353448120"
     },
     "user_tz": -180
    },
    "id": "pEM7-W0geFIs",
    "outputId": "8edb71b1-7ecc-4f89-fa84-072e7e0b0bfc"
   },
   "outputs": [
    {
     "data": {
      "text/plain": [
       "array([6.6575953])"
      ]
     },
     "execution_count": 26,
     "metadata": {},
     "output_type": "execute_result"
    }
   ],
   "source": [
    "model.intercept_"
   ]
  },
  {
   "cell_type": "markdown",
   "metadata": {
    "id": "J-LBP_VFimYS"
   },
   "source": [
    "The coefficient means that if the height increases by 1 inch the weight increases by 3.089"
   ]
  },
  {
   "cell_type": "code",
   "execution_count": 27,
   "metadata": {
    "colab": {
     "base_uri": "https://localhost:8080/"
    },
    "executionInfo": {
     "elapsed": 579,
     "status": "ok",
     "timestamp": 1721288601024,
     "user": {
      "displayName": "George Musumba",
      "userId": "16799300476353448120"
     },
     "user_tz": -180
    },
    "id": "p4Y6xDGTeIMX",
    "outputId": "20ec53bd-6f41-4d1c-ee6b-5a6ca8f663c2"
   },
   "outputs": [
    {
     "data": {
      "text/plain": [
       "array([[0.16890263]])"
      ]
     },
     "execution_count": 27,
     "metadata": {},
     "output_type": "execute_result"
    }
   ],
   "source": [
    "model.coef_"
   ]
  },
  {
   "cell_type": "markdown",
   "metadata": {
    "id": "AZA4PPyxMltQ"
   },
   "source": [
    "We can now use the created model to predict the weight of  of a new baby, lets say for a baby who is 5.5 months old. We will use the predict() function provided by sklearn as follows"
   ]
  },
  {
   "cell_type": "code",
   "execution_count": 28,
   "metadata": {
    "colab": {
     "base_uri": "https://localhost:8080/"
    },
    "executionInfo": {
     "elapsed": 420,
     "status": "ok",
     "timestamp": 1721288604516,
     "user": {
      "displayName": "George Musumba",
      "userId": "16799300476353448120"
     },
     "user_tz": -180
    },
    "id": "53NwLq4sNCIk",
    "outputId": "8a65faff-b70c-4d45-96d5-29ba250fb226"
   },
   "outputs": [
    {
     "name": "stdout",
     "output_type": "stream",
     "text": [
      "[[8.34662162]]\n"
     ]
    },
    {
     "name": "stderr",
     "output_type": "stream",
     "text": [
      "C:\\ProgramData\\anaconda3\\Lib\\site-packages\\sklearn\\base.py:439: UserWarning: X does not have valid feature names, but LinearRegression was fitted with feature names\n",
      "  warnings.warn(\n"
     ]
    }
   ],
   "source": [
    "predicted_weigtht= model.predict([[10]])\n",
    "print(predicted_weigtht)"
   ]
  },
  {
   "cell_type": "markdown",
   "metadata": {
    "id": "6Bq038Jsme_J"
   },
   "source": [
    "We can see from the value the predicted model displayed, a child who is 5.5 months old will approximetely weigh 7.4kgs. We can use this model to be able to estimate the weight a child should be having at certain age, major deviation from the predicted values might be an indication of oveweight or underweight."
   ]
  },
  {
   "cell_type": "markdown",
   "metadata": {
    "id": "tgNNEC23A9Qt"
   },
   "source": [
    "<h2>Evaluating our created model</h2>\n",
    "\n",
    "In order to know how well our model performs, we will have to test to see how well it predicts the data that it was not trained on.\n",
    "\n",
    "There are several metrics that are used to evaluate a linear model. These are;\n",
    "\n",
    "**Mean Absolute error(MAE):** It measures the  absolute differences between predicted and actual values without considering their direction. It ranges from zero to infinity. The lower the values the better\n",
    "\n",
    "**Mean squared error (MSE):** It measures the average squared difference between the actual values and the predicted values. It ranges from zro to infinity.Higher values indicate a high error margin.\n",
    "\n",
    "**R2-squared:** It is also known as the coefficient of determination. It measurers how well the indepedent variable predicts the depedent variable. It ranges from 0 to 1. Higher values indicates a better fit.\n",
    "\n",
    "**Root Mean Squared Error (RMSE):**Measures the avarage difference between the actual and predicted values.\n",
    "\n",
    "In this example we are going to evaluate the linear regression r_squared, mean absolute error, mean squared error. In order to do that we have to import the functions from skelarn and then use them to evaluate the performance of our algorithm as shown below.\n"
   ]
  },
  {
   "cell_type": "code",
   "execution_count": 29,
   "metadata": {
    "colab": {
     "base_uri": "https://localhost:8080/"
    },
    "executionInfo": {
     "elapsed": 439,
     "status": "ok",
     "timestamp": 1721288615600,
     "user": {
      "displayName": "George Musumba",
      "userId": "16799300476353448120"
     },
     "user_tz": -180
    },
    "id": "iR6fJuz-JdqI",
    "outputId": "f7657c60-9fc4-41d0-818c-0dc62077d3bd"
   },
   "outputs": [
    {
     "name": "stdout",
     "output_type": "stream",
     "text": [
      "Mean squared error\n",
      "3.76699923173311\n",
      "R_squared\n",
      "0.6901916485037674\n",
      "Mean absolute error\n",
      "1.4593651984532783\n"
     ]
    }
   ],
   "source": [
    "from sklearn.metrics import r2_score,mean_absolute_error,mean_squared_error\n",
    "print(\"Mean squared error\")\n",
    "print(mean_squared_error(y_test,y_pred))\n",
    "print(\"R_squared\")\n",
    "print(r2_score(y_test,y_pred))\n",
    "print(\"Mean absolute error\")\n",
    "print(mean_absolute_error(y_test,y_pred))"
   ]
  },
  {
   "cell_type": "code",
   "execution_count": 18,
   "metadata": {},
   "outputs": [
    {
     "data": {
      "text/plain": [
       "['linear_regression_model2.joblib']"
      ]
     },
     "execution_count": 18,
     "metadata": {},
     "output_type": "execute_result"
    }
   ],
   "source": [
    "import joblib\n",
    "joblib_file = \"linear_regression_model2.joblib\"\n",
    "joblib.dump(model, joblib_file)"
   ]
  },
  {
   "cell_type": "markdown",
   "metadata": {
    "id": "ByButVJ9L2Tr"
   },
   "source": [
    "**<h3>Model result interpretatition</h3>**\n",
    "\n",
    "From the metrics result, we can see our model is okay but with a good fit as the r_squared is low at 0.68. This means that the our predictor variable weight only explains 68% of the variation in the in the childs weight. The other 32% variation is explained by other factors not included in our data. This means that age alone can predict the weight of a person but might need additional variables to improve the performance.\n",
    "\n",
    "The mean absolute error of 1.43 shows that on average  the predictions made by your linear regression model differ from the actual values by approximately 1.43kgs. This means that if the actual weight of a person is of a child is 9 the model will predict it to be 10.43 or 7.57\n",
    "\n",
    "The mean squared error of 3.42 shows that our algorithm squared error between the actual value and the predicted value is 3.42. Because the mean squared error squares the errors, it is more sensitive to the outliers, therofore higher values indicate the presence of outliers in our data. In his case our value is low meaning we did not have outliers in our model.\n",
    "\n"
   ]
  },
  {
   "cell_type": "markdown",
   "metadata": {
    "id": "S5wMC8c5Gtsf"
   },
   "source": [
    "**<h2>Guided practical activity 2 </h2>**\n",
    "\n",
    "Create a simple regression model to predict the height of the child based on their age using the Bungoma county dataset provded."
   ]
  },
  {
   "cell_type": "markdown",
   "metadata": {
    "id": "6yGFTp6B-lFw"
   },
   "source": [
    "<h2>Multiple linear regression</h2>\n",
    "\n",
    "Multiple linear regression extends simple linear regression to incorporate more than one independent variable. It assumes a linear relationship between the dependent variable and multiple independent variables.\n",
    "\n",
    "We are going to use the example of predicting the weight of a child based on the age, gender, if they live in a rural or urban area, the mothers level of education and the household wealth index. In this case we have five indepedent variable and our depedent variable which is the child's weight. As usual we will read our data as shown below."
   ]
  },
  {
   "cell_type": "code",
   "execution_count": 30,
   "metadata": {
    "colab": {
     "base_uri": "https://localhost:8080/",
     "height": 330
    },
    "executionInfo": {
     "elapsed": 482,
     "status": "ok",
     "timestamp": 1720533451320,
     "user": {
      "displayName": "Selina Atwani Ochukut",
      "userId": "02295218241410605702"
     },
     "user_tz": -180
    },
    "id": "bQIjSIuweLF6",
    "outputId": "38653fc2-ee42-4a15-f51c-2180f215124b"
   },
   "outputs": [
    {
     "data": {
      "text/html": [
       "<div>\n",
       "<style scoped>\n",
       "    .dataframe tbody tr th:only-of-type {\n",
       "        vertical-align: middle;\n",
       "    }\n",
       "\n",
       "    .dataframe tbody tr th {\n",
       "        vertical-align: top;\n",
       "    }\n",
       "\n",
       "    .dataframe thead th {\n",
       "        text-align: right;\n",
       "    }\n",
       "</style>\n",
       "<table border=\"1\" class=\"dataframe\">\n",
       "  <thead>\n",
       "    <tr style=\"text-align: right;\">\n",
       "      <th></th>\n",
       "      <th>Cluster number</th>\n",
       "      <th>Household number</th>\n",
       "      <th>Line number</th>\n",
       "      <th>Cluster number.1</th>\n",
       "      <th>Household number.1</th>\n",
       "      <th>Child's line number</th>\n",
       "      <th>Mother / Caretaker's line number</th>\n",
       "      <th>Day of interview</th>\n",
       "      <th>Month of interview</th>\n",
       "      <th>Year of interview</th>\n",
       "      <th>...</th>\n",
       "      <th>Age in days</th>\n",
       "      <th>Mother's education</th>\n",
       "      <th>Ethnicity of household head</th>\n",
       "      <th>Children's sample weight</th>\n",
       "      <th>Combined wealth score</th>\n",
       "      <th>Wealth index quintile</th>\n",
       "      <th>Urban wealth score</th>\n",
       "      <th>Urban wealth index quintile</th>\n",
       "      <th>Rural wealth score</th>\n",
       "      <th>Rural wealth index quintile</th>\n",
       "    </tr>\n",
       "  </thead>\n",
       "  <tbody>\n",
       "    <tr>\n",
       "      <th>0</th>\n",
       "      <td>1</td>\n",
       "      <td>5</td>\n",
       "      <td>3</td>\n",
       "      <td>1</td>\n",
       "      <td>5</td>\n",
       "      <td>3</td>\n",
       "      <td>2</td>\n",
       "      <td>16</td>\n",
       "      <td>12</td>\n",
       "      <td>2013</td>\n",
       "      <td>...</td>\n",
       "      <td>1359.0</td>\n",
       "      <td>Secondary+</td>\n",
       "      <td>Luhya</td>\n",
       "      <td>0.954126</td>\n",
       "      <td>1.364988</td>\n",
       "      <td>Richest</td>\n",
       "      <td>NaN</td>\n",
       "      <td>NaN</td>\n",
       "      <td>2.098202</td>\n",
       "      <td>Richest</td>\n",
       "    </tr>\n",
       "    <tr>\n",
       "      <th>1</th>\n",
       "      <td>1</td>\n",
       "      <td>6</td>\n",
       "      <td>4</td>\n",
       "      <td>1</td>\n",
       "      <td>6</td>\n",
       "      <td>4</td>\n",
       "      <td>1</td>\n",
       "      <td>16</td>\n",
       "      <td>12</td>\n",
       "      <td>2013</td>\n",
       "      <td>...</td>\n",
       "      <td>1361.0</td>\n",
       "      <td>Primary</td>\n",
       "      <td>Luhya</td>\n",
       "      <td>0.954126</td>\n",
       "      <td>-0.677891</td>\n",
       "      <td>Second</td>\n",
       "      <td>NaN</td>\n",
       "      <td>NaN</td>\n",
       "      <td>-0.440037</td>\n",
       "      <td>Second</td>\n",
       "    </tr>\n",
       "    <tr>\n",
       "      <th>2</th>\n",
       "      <td>1</td>\n",
       "      <td>9</td>\n",
       "      <td>5</td>\n",
       "      <td>1</td>\n",
       "      <td>9</td>\n",
       "      <td>5</td>\n",
       "      <td>2</td>\n",
       "      <td>16</td>\n",
       "      <td>12</td>\n",
       "      <td>2013</td>\n",
       "      <td>...</td>\n",
       "      <td>1108.0</td>\n",
       "      <td>Primary</td>\n",
       "      <td>Luhya</td>\n",
       "      <td>0.954126</td>\n",
       "      <td>0.191034</td>\n",
       "      <td>Fourth</td>\n",
       "      <td>NaN</td>\n",
       "      <td>NaN</td>\n",
       "      <td>0.639586</td>\n",
       "      <td>Fourth</td>\n",
       "    </tr>\n",
       "    <tr>\n",
       "      <th>3</th>\n",
       "      <td>1</td>\n",
       "      <td>9</td>\n",
       "      <td>7</td>\n",
       "      <td>1</td>\n",
       "      <td>9</td>\n",
       "      <td>7</td>\n",
       "      <td>2</td>\n",
       "      <td>16</td>\n",
       "      <td>12</td>\n",
       "      <td>2013</td>\n",
       "      <td>...</td>\n",
       "      <td>1553.0</td>\n",
       "      <td>Primary</td>\n",
       "      <td>Luhya</td>\n",
       "      <td>0.954126</td>\n",
       "      <td>0.191034</td>\n",
       "      <td>Fourth</td>\n",
       "      <td>NaN</td>\n",
       "      <td>NaN</td>\n",
       "      <td>0.639586</td>\n",
       "      <td>Fourth</td>\n",
       "    </tr>\n",
       "    <tr>\n",
       "      <th>4</th>\n",
       "      <td>1</td>\n",
       "      <td>14</td>\n",
       "      <td>6</td>\n",
       "      <td>1</td>\n",
       "      <td>14</td>\n",
       "      <td>6</td>\n",
       "      <td>2</td>\n",
       "      <td>16</td>\n",
       "      <td>12</td>\n",
       "      <td>2013</td>\n",
       "      <td>...</td>\n",
       "      <td>1703.0</td>\n",
       "      <td>Primary</td>\n",
       "      <td>Luhya</td>\n",
       "      <td>0.954126</td>\n",
       "      <td>-0.039894</td>\n",
       "      <td>Fourth</td>\n",
       "      <td>NaN</td>\n",
       "      <td>NaN</td>\n",
       "      <td>0.352662</td>\n",
       "      <td>Fourth</td>\n",
       "    </tr>\n",
       "  </tbody>\n",
       "</table>\n",
       "<p>5 rows × 300 columns</p>\n",
       "</div>"
      ],
      "text/plain": [
       "   Cluster number  Household number  Line number  Cluster number.1  \\\n",
       "0               1                 5            3                 1   \n",
       "1               1                 6            4                 1   \n",
       "2               1                 9            5                 1   \n",
       "3               1                 9            7                 1   \n",
       "4               1                14            6                 1   \n",
       "\n",
       "   Household number.1  Child's line number  Mother / Caretaker's line number  \\\n",
       "0                   5                    3                                 2   \n",
       "1                   6                    4                                 1   \n",
       "2                   9                    5                                 2   \n",
       "3                   9                    7                                 2   \n",
       "4                  14                    6                                 2   \n",
       "\n",
       "   Day of interview  Month of interview  Year of interview  ... Age in days  \\\n",
       "0                16                  12               2013  ...      1359.0   \n",
       "1                16                  12               2013  ...      1361.0   \n",
       "2                16                  12               2013  ...      1108.0   \n",
       "3                16                  12               2013  ...      1553.0   \n",
       "4                16                  12               2013  ...      1703.0   \n",
       "\n",
       "  Mother's education Ethnicity of household head  Children's sample weight  \\\n",
       "0         Secondary+                       Luhya                  0.954126   \n",
       "1            Primary                       Luhya                  0.954126   \n",
       "2            Primary                       Luhya                  0.954126   \n",
       "3            Primary                       Luhya                  0.954126   \n",
       "4            Primary                       Luhya                  0.954126   \n",
       "\n",
       "   Combined wealth score Wealth index quintile Urban wealth score  \\\n",
       "0               1.364988               Richest                NaN   \n",
       "1              -0.677891                Second                NaN   \n",
       "2               0.191034                Fourth                NaN   \n",
       "3               0.191034                Fourth                NaN   \n",
       "4              -0.039894                Fourth                NaN   \n",
       "\n",
       "  Urban wealth index quintile Rural wealth score Rural wealth index quintile  \n",
       "0                         NaN           2.098202                     Richest  \n",
       "1                         NaN          -0.440037                      Second  \n",
       "2                         NaN           0.639586                      Fourth  \n",
       "3                         NaN           0.639586                      Fourth  \n",
       "4                         NaN           0.352662                      Fourth  \n",
       "\n",
       "[5 rows x 300 columns]"
      ]
     },
     "execution_count": 30,
     "metadata": {},
     "output_type": "execute_result"
    }
   ],
   "source": [
    "#reading the data\n",
    "data_multi=pd.read_excel(\"CHILD HEALTH DATA - Bungoma County.xlsx\")\n",
    "#displaying the first five rows\n",
    "data_multi.head()"
   ]
  },
  {
   "cell_type": "code",
   "execution_count": 31,
   "metadata": {
    "colab": {
     "base_uri": "https://localhost:8080/"
    },
    "executionInfo": {
     "elapsed": 468,
     "status": "ok",
     "timestamp": 1720533458409,
     "user": {
      "displayName": "Selina Atwani Ochukut",
      "userId": "02295218241410605702"
     },
     "user_tz": -180
    },
    "id": "X3Uv6PTbrBgj",
    "outputId": "9a02fbaa-c661-4e09-f6df-a37e1125a04a"
   },
   "outputs": [
    {
     "data": {
      "text/plain": [
       "Index(['Age (months)', 'Sex', 'Mother's education', 'Area',\n",
       "       'Wealth index quintile', 'Child's weight (kilograms)'],\n",
       "      dtype='object')"
      ]
     },
     "execution_count": 31,
     "metadata": {},
     "output_type": "execute_result"
    }
   ],
   "source": [
    "data.columns"
   ]
  },
  {
   "cell_type": "markdown",
   "metadata": {
    "id": "U9asAiE2ptoz"
   },
   "source": [
    "As we can see from our dataset, our data cointains other columns we are not interested in, so we are going to create a subset of the dataset that will only cointain the varibles we are interested in as follows."
   ]
  },
  {
   "cell_type": "code",
   "execution_count": 32,
   "metadata": {
    "colab": {
     "base_uri": "https://localhost:8080/",
     "height": 206
    },
    "executionInfo": {
     "elapsed": 461,
     "status": "ok",
     "timestamp": 1720533460963,
     "user": {
      "displayName": "Selina Atwani Ochukut",
      "userId": "02295218241410605702"
     },
     "user_tz": -180
    },
    "id": "_9LjtkBdqCoj",
    "outputId": "b65c6291-0a76-4776-a758-90535bae7c84"
   },
   "outputs": [
    {
     "data": {
      "text/html": [
       "<div>\n",
       "<style scoped>\n",
       "    .dataframe tbody tr th:only-of-type {\n",
       "        vertical-align: middle;\n",
       "    }\n",
       "\n",
       "    .dataframe tbody tr th {\n",
       "        vertical-align: top;\n",
       "    }\n",
       "\n",
       "    .dataframe thead th {\n",
       "        text-align: right;\n",
       "    }\n",
       "</style>\n",
       "<table border=\"1\" class=\"dataframe\">\n",
       "  <thead>\n",
       "    <tr style=\"text-align: right;\">\n",
       "      <th></th>\n",
       "      <th>Age (months)</th>\n",
       "      <th>Sex</th>\n",
       "      <th>Mother's education</th>\n",
       "      <th>Area</th>\n",
       "      <th>Wealth index quintile</th>\n",
       "      <th>Child's weight (kilograms)</th>\n",
       "    </tr>\n",
       "  </thead>\n",
       "  <tbody>\n",
       "    <tr>\n",
       "      <th>0</th>\n",
       "      <td>45.0</td>\n",
       "      <td>Female</td>\n",
       "      <td>Secondary+</td>\n",
       "      <td>Rural</td>\n",
       "      <td>Richest</td>\n",
       "      <td>16.2</td>\n",
       "    </tr>\n",
       "    <tr>\n",
       "      <th>1</th>\n",
       "      <td>45.0</td>\n",
       "      <td>Male</td>\n",
       "      <td>Primary</td>\n",
       "      <td>Rural</td>\n",
       "      <td>Second</td>\n",
       "      <td>13.5</td>\n",
       "    </tr>\n",
       "    <tr>\n",
       "      <th>2</th>\n",
       "      <td>36.0</td>\n",
       "      <td>Male</td>\n",
       "      <td>Primary</td>\n",
       "      <td>Rural</td>\n",
       "      <td>Fourth</td>\n",
       "      <td>13.4</td>\n",
       "    </tr>\n",
       "    <tr>\n",
       "      <th>3</th>\n",
       "      <td>51.0</td>\n",
       "      <td>Female</td>\n",
       "      <td>Primary</td>\n",
       "      <td>Rural</td>\n",
       "      <td>Fourth</td>\n",
       "      <td>15</td>\n",
       "    </tr>\n",
       "    <tr>\n",
       "      <th>4</th>\n",
       "      <td>56.0</td>\n",
       "      <td>Female</td>\n",
       "      <td>Primary</td>\n",
       "      <td>Rural</td>\n",
       "      <td>Fourth</td>\n",
       "      <td>15.2</td>\n",
       "    </tr>\n",
       "  </tbody>\n",
       "</table>\n",
       "</div>"
      ],
      "text/plain": [
       "   Age (months)     Sex Mother's education   Area Wealth index quintile  \\\n",
       "0          45.0  Female         Secondary+  Rural               Richest   \n",
       "1          45.0    Male            Primary  Rural                Second   \n",
       "2          36.0    Male            Primary  Rural                Fourth   \n",
       "3          51.0  Female            Primary  Rural                Fourth   \n",
       "4          56.0  Female            Primary  Rural                Fourth   \n",
       "\n",
       "  Child's weight (kilograms)  \n",
       "0                       16.2  \n",
       "1                       13.5  \n",
       "2                       13.4  \n",
       "3                         15  \n",
       "4                       15.2  "
      ]
     },
     "execution_count": 32,
     "metadata": {},
     "output_type": "execute_result"
    }
   ],
   "source": [
    "new_data=data_multi[[\"Age (months)\",\"Sex\",\"Mother's education\",\"Area\",\"Wealth index quintile\",\"Child's weight (kilograms)\"]]\n",
    "new_data.head()"
   ]
  },
  {
   "cell_type": "code",
   "execution_count": 33,
   "metadata": {
    "colab": {
     "base_uri": "https://localhost:8080/"
    },
    "executionInfo": {
     "elapsed": 516,
     "status": "ok",
     "timestamp": 1720533467109,
     "user": {
      "displayName": "Selina Atwani Ochukut",
      "userId": "02295218241410605702"
     },
     "user_tz": -180
    },
    "id": "JwVlRwtysi3g",
    "outputId": "73ee94c2-8bba-4739-c977-e08f1ac6a537"
   },
   "outputs": [
    {
     "data": {
      "text/plain": [
       "Age (months)                  28\n",
       "Sex                            0\n",
       "Mother's education            32\n",
       "Area                           0\n",
       "Wealth index quintile          0\n",
       "Child's weight (kilograms)    65\n",
       "dtype: int64"
      ]
     },
     "execution_count": 33,
     "metadata": {},
     "output_type": "execute_result"
    }
   ],
   "source": [
    "#Check for missing values\n",
    "new_data.isnull().sum()"
   ]
  },
  {
   "cell_type": "code",
   "execution_count": 34,
   "metadata": {
    "colab": {
     "base_uri": "https://localhost:8080/"
    },
    "executionInfo": {
     "elapsed": 509,
     "status": "ok",
     "timestamp": 1720533471075,
     "user": {
      "displayName": "Selina Atwani Ochukut",
      "userId": "02295218241410605702"
     },
     "user_tz": -180
    },
    "id": "4qhaLIPbssl5",
    "outputId": "5e2cc2f1-6ab2-4d72-cfe2-c48516e897dc"
   },
   "outputs": [
    {
     "name": "stderr",
     "output_type": "stream",
     "text": [
      "C:\\Users\\ADMIN\\AppData\\Local\\Temp\\ipykernel_3128\\2747523402.py:2: SettingWithCopyWarning: \n",
      "A value is trying to be set on a copy of a slice from a DataFrame\n",
      "\n",
      "See the caveats in the documentation: https://pandas.pydata.org/pandas-docs/stable/user_guide/indexing.html#returning-a-view-versus-a-copy\n",
      "  new_data.dropna(inplace=True)\n"
     ]
    }
   ],
   "source": [
    "#replace the missing values\n",
    "new_data.dropna(inplace=True)"
   ]
  },
  {
   "cell_type": "code",
   "execution_count": 35,
   "metadata": {
    "colab": {
     "base_uri": "https://localhost:8080/"
    },
    "executionInfo": {
     "elapsed": 5,
     "status": "ok",
     "timestamp": 1720533476869,
     "user": {
      "displayName": "Selina Atwani Ochukut",
      "userId": "02295218241410605702"
     },
     "user_tz": -180
    },
    "id": "BnHzokH4s3EW",
    "outputId": "cecb231a-cee7-47f2-de6f-109a7adb51cb"
   },
   "outputs": [
    {
     "data": {
      "text/plain": [
       "Age (months)                  0\n",
       "Sex                           0\n",
       "Mother's education            0\n",
       "Area                          0\n",
       "Wealth index quintile         0\n",
       "Child's weight (kilograms)    0\n",
       "dtype: int64"
      ]
     },
     "execution_count": 35,
     "metadata": {},
     "output_type": "execute_result"
    }
   ],
   "source": [
    "#checking to see if there are still missing values in the dataset\n",
    "new_data.isnull().sum()"
   ]
  },
  {
   "cell_type": "code",
   "execution_count": 36,
   "metadata": {},
   "outputs": [
    {
     "name": "stdout",
     "output_type": "stream",
     "text": [
      "<class 'pandas.core.frame.DataFrame'>\n",
      "Index: 768 entries, 0 to 873\n",
      "Data columns (total 6 columns):\n",
      " #   Column                      Non-Null Count  Dtype  \n",
      "---  ------                      --------------  -----  \n",
      " 0   Age (months)                768 non-null    float64\n",
      " 1   Sex                         768 non-null    object \n",
      " 2   Mother's education          768 non-null    object \n",
      " 3   Area                        768 non-null    object \n",
      " 4   Wealth index quintile       768 non-null    object \n",
      " 5   Child's weight (kilograms)  768 non-null    float64\n",
      "dtypes: float64(2), object(4)\n",
      "memory usage: 42.0+ KB\n"
     ]
    },
    {
     "name": "stderr",
     "output_type": "stream",
     "text": [
      "C:\\Users\\ADMIN\\AppData\\Local\\Temp\\ipykernel_3128\\87038229.py:1: SettingWithCopyWarning: \n",
      "A value is trying to be set on a copy of a slice from a DataFrame.\n",
      "Try using .loc[row_indexer,col_indexer] = value instead\n",
      "\n",
      "See the caveats in the documentation: https://pandas.pydata.org/pandas-docs/stable/user_guide/indexing.html#returning-a-view-versus-a-copy\n",
      "  new_data[\"Child's weight (kilograms)\"]=pd.to_numeric(new_data[\"Child's weight (kilograms)\"],errors='coerce')\n"
     ]
    }
   ],
   "source": [
    "new_data[\"Child's weight (kilograms)\"]=pd.to_numeric(new_data[\"Child's weight (kilograms)\"],errors='coerce')\n",
    "df_cleaned=new_data.dropna(subset=\"Child's weight (kilograms)\")\n",
    "df_cleaned.info()"
   ]
  },
  {
   "cell_type": "code",
   "execution_count": 37,
   "metadata": {
    "colab": {
     "base_uri": "https://localhost:8080/"
    },
    "executionInfo": {
     "elapsed": 504,
     "status": "ok",
     "timestamp": 1720533483270,
     "user": {
      "displayName": "Selina Atwani Ochukut",
      "userId": "02295218241410605702"
     },
     "user_tz": -180
    },
    "id": "Oc80UC_FtJfm",
    "outputId": "1a9c1e0a-184b-451b-9db3-c63133251520"
   },
   "outputs": [
    {
     "name": "stdout",
     "output_type": "stream",
     "text": [
      "<class 'pandas.core.frame.DataFrame'>\n",
      "Index: 778 entries, 0 to 873\n",
      "Data columns (total 6 columns):\n",
      " #   Column                      Non-Null Count  Dtype  \n",
      "---  ------                      --------------  -----  \n",
      " 0   Age (months)                778 non-null    float64\n",
      " 1   Sex                         778 non-null    object \n",
      " 2   Mother's education          778 non-null    object \n",
      " 3   Area                        778 non-null    object \n",
      " 4   Wealth index quintile       778 non-null    object \n",
      " 5   Child's weight (kilograms)  768 non-null    float64\n",
      "dtypes: float64(2), object(4)\n",
      "memory usage: 42.5+ KB\n"
     ]
    }
   ],
   "source": [
    "new_data.info()"
   ]
  },
  {
   "cell_type": "code",
   "execution_count": 38,
   "metadata": {
    "colab": {
     "base_uri": "https://localhost:8080/",
     "height": 391
    },
    "executionInfo": {
     "elapsed": 871,
     "status": "ok",
     "timestamp": 1720533489604,
     "user": {
      "displayName": "Selina Atwani Ochukut",
      "userId": "02295218241410605702"
     },
     "user_tz": -180
    },
    "id": "VF4sFzH7-5QS",
    "outputId": "1bdda643-9e46-4628-85d8-21c54c4cae8c"
   },
   "outputs": [
    {
     "data": {
      "image/png": "[encoded data removed]",
      "text/plain": [
       "<Figure size 800x400 with 1 Axes>"
      ]
     },
     "metadata": {},
     "output_type": "display_data"
    }
   ],
   "source": [
    "# Child's weight\n",
    "\n",
    "from matplotlib import pyplot as plt\n",
    "df_cleaned[\"Child's weight (kilograms)\"].plot(kind=\"line\", figsize=(8, 4), title=\"Weight\")\n",
    "plt.gca().spines[['top', 'right']].set_visible(False)"
   ]
  },
  {
   "cell_type": "code",
   "execution_count": 39,
   "metadata": {
    "colab": {
     "base_uri": "https://localhost:8080/"
    },
    "executionInfo": {
     "elapsed": 32149,
     "status": "ok",
     "timestamp": 1720701639711,
     "user": {
      "displayName": "Selina Atwani Ochukut",
      "userId": "02295218241410605702"
     },
     "user_tz": -180
    },
    "id": "o8VZhCXZN0cF",
    "outputId": "5f7e8a60-0c58-4d3a-97f6-9759c066dfe4"
   },
   "outputs": [
    {
     "ename": "ModuleNotFoundError",
     "evalue": "No module named 'google.colab'",
     "output_type": "error",
     "traceback": [
      "\u001b[1;31m---------------------------------------------------------------------------\u001b[0m",
      "\u001b[1;31mModuleNotFoundError\u001b[0m                       Traceback (most recent call last)",
      "Cell \u001b[1;32mIn[39], line 1\u001b[0m\n\u001b[1;32m----> 1\u001b[0m \u001b[38;5;28;01mfrom\u001b[39;00m \u001b[38;5;21;01mgoogle\u001b[39;00m\u001b[38;5;21;01m.\u001b[39;00m\u001b[38;5;21;01mcolab\u001b[39;00m \u001b[38;5;28;01mimport\u001b[39;00m drive\n\u001b[0;32m      2\u001b[0m drive\u001b[38;5;241m.\u001b[39mmount(\u001b[38;5;124m'\u001b[39m\u001b[38;5;124m/content/drive\u001b[39m\u001b[38;5;124m'\u001b[39m)\n",
      "\u001b[1;31mModuleNotFoundError\u001b[0m: No module named 'google.colab'"
     ]
    }
   ],
   "source": [
    "from google.colab import drive\n",
    "drive.mount('/content/drive')"
   ]
  },
  {
   "cell_type": "code",
   "execution_count": 40,
   "metadata": {
    "colab": {
     "base_uri": "https://localhost:8080/"
    },
    "executionInfo": {
     "elapsed": 437,
     "status": "ok",
     "timestamp": 1720533496674,
     "user": {
      "displayName": "Selina Atwani Ochukut",
      "userId": "02295218241410605702"
     },
     "user_tz": -180
    },
    "id": "kEJCIIrbRvGx",
    "outputId": "4c09c84a-b14e-4727-9f88-d345b398ba5b"
   },
   "outputs": [
    {
     "data": {
      "text/plain": [
       "(768, 6)"
      ]
     },
     "execution_count": 40,
     "metadata": {},
     "output_type": "execute_result"
    }
   ],
   "source": [
    "#Shape of the data\n",
    "df_cleaned.shape"
   ]
  },
  {
   "cell_type": "markdown",
   "metadata": {
    "id": "jQNIpg8EXb2V"
   },
   "source": [
    "In this dataset we have some categorical data that we will need to convert to numerical before using it to train our model.Categorical data is data that groups data points into categories e.g gender where we have female and male, whether someone smokes or no. To convert the categerocial data to numerical we will use a function called get_dummies() to convert the gender, Sex, Mother's education, Area, Wealth index quintile variables. The get_dummies function converts the variables into 0 or 1."
   ]
  },
  {
   "cell_type": "code",
   "execution_count": 41,
   "metadata": {
    "colab": {
     "base_uri": "https://localhost:8080/"
    },
    "executionInfo": {
     "elapsed": 473,
     "status": "ok",
     "timestamp": 1720533504388,
     "user": {
      "displayName": "Selina Atwani Ochukut",
      "userId": "02295218241410605702"
     },
     "user_tz": -180
    },
    "id": "Qsj5XdxLvsC_",
    "outputId": "f2c457fe-c00d-4fda-abb0-399b32a95181"
   },
   "outputs": [
    {
     "data": {
      "text/plain": [
       "array(['Richest', 'Second', 'Fourth', 'Poorest', 'Middle'], dtype=object)"
      ]
     },
     "execution_count": 41,
     "metadata": {},
     "output_type": "execute_result"
    }
   ],
   "source": [
    "df_cleaned[\"Wealth index quintile\"].unique()"
   ]
  },
  {
   "cell_type": "code",
   "execution_count": 42,
   "metadata": {
    "colab": {
     "base_uri": "https://localhost:8080/"
    },
    "executionInfo": {
     "elapsed": 2,
     "status": "ok",
     "timestamp": 1720533506398,
     "user": {
      "displayName": "Selina Atwani Ochukut",
      "userId": "02295218241410605702"
     },
     "user_tz": -180
    },
    "id": "ZByK_iEhgnpN",
    "outputId": "efff3e4c-19e8-4ecb-e402-35c42f4ffcd9"
   },
   "outputs": [
    {
     "name": "stderr",
     "output_type": "stream",
     "text": [
      "C:\\Users\\ADMIN\\AppData\\Local\\Temp\\ipykernel_3128\\4231030755.py:1: SettingWithCopyWarning: \n",
      "A value is trying to be set on a copy of a slice from a DataFrame.\n",
      "Try using .loc[row_indexer,col_indexer] = value instead\n",
      "\n",
      "See the caveats in the documentation: https://pandas.pydata.org/pandas-docs/stable/user_guide/indexing.html#returning-a-view-versus-a-copy\n",
      "  df_cleaned[\"Sex\"]=pd.get_dummies(new_data['Sex'], dtype=int,drop_first=True)\n"
     ]
    }
   ],
   "source": [
    "df_cleaned[\"Sex\"]=pd.get_dummies(new_data['Sex'], dtype=int,drop_first=True)"
   ]
  },
  {
   "cell_type": "code",
   "execution_count": 43,
   "metadata": {
    "colab": {
     "base_uri": "https://localhost:8080/"
    },
    "executionInfo": {
     "elapsed": 467,
     "status": "ok",
     "timestamp": 1720533511453,
     "user": {
      "displayName": "Selina Atwani Ochukut",
      "userId": "02295218241410605702"
     },
     "user_tz": -180
    },
    "id": "x7qdaLz_iMHf",
    "outputId": "3bd838e2-1761-42b7-b956-d390f348f750"
   },
   "outputs": [
    {
     "name": "stderr",
     "output_type": "stream",
     "text": [
      "C:\\Users\\ADMIN\\AppData\\Local\\Temp\\ipykernel_3128\\3104322415.py:1: SettingWithCopyWarning: \n",
      "A value is trying to be set on a copy of a slice from a DataFrame.\n",
      "Try using .loc[row_indexer,col_indexer] = value instead\n",
      "\n",
      "See the caveats in the documentation: https://pandas.pydata.org/pandas-docs/stable/user_guide/indexing.html#returning-a-view-versus-a-copy\n",
      "  df_cleaned[\"Mother's education\"]=pd.get_dummies(new_data[\"Mother's education\"], dtype=int,drop_first=True)\n",
      "C:\\Users\\ADMIN\\AppData\\Local\\Temp\\ipykernel_3128\\3104322415.py:2: SettingWithCopyWarning: \n",
      "A value is trying to be set on a copy of a slice from a DataFrame.\n",
      "Try using .loc[row_indexer,col_indexer] = value instead\n",
      "\n",
      "See the caveats in the documentation: https://pandas.pydata.org/pandas-docs/stable/user_guide/indexing.html#returning-a-view-versus-a-copy\n",
      "  df_cleaned[\"Area\"]=pd.get_dummies(new_data[\"Area\"], dtype=int,drop_first=True)\n"
     ]
    }
   ],
   "source": [
    "df_cleaned[\"Mother's education\"]=pd.get_dummies(new_data[\"Mother's education\"], dtype=int,drop_first=True)\n",
    "df_cleaned[\"Area\"]=pd.get_dummies(new_data[\"Area\"], dtype=int,drop_first=True)"
   ]
  },
  {
   "cell_type": "markdown",
   "metadata": {
    "id": "J4zZGKq3xPO_"
   },
   "source": [
    "Becasue our wealth quartile dataset cointains more than two categories. We will use an encoding method to code the different categories so that we can have one column as follows"
   ]
  },
  {
   "cell_type": "code",
   "execution_count": 44,
   "metadata": {
    "colab": {
     "base_uri": "https://localhost:8080/"
    },
    "executionInfo": {
     "elapsed": 477,
     "status": "ok",
     "timestamp": 1720533516566,
     "user": {
      "displayName": "Selina Atwani Ochukut",
      "userId": "02295218241410605702"
     },
     "user_tz": -180
    },
    "id": "vP2T93Hxxu_D",
    "outputId": "e36b3c5a-bb09-4c85-c7a4-5f7ee04621a8"
   },
   "outputs": [
    {
     "name": "stderr",
     "output_type": "stream",
     "text": [
      "C:\\Users\\ADMIN\\AppData\\Local\\Temp\\ipykernel_3128\\957246321.py:1: SettingWithCopyWarning: \n",
      "A value is trying to be set on a copy of a slice from a DataFrame.\n",
      "Try using .loc[row_indexer,col_indexer] = value instead\n",
      "\n",
      "See the caveats in the documentation: https://pandas.pydata.org/pandas-docs/stable/user_guide/indexing.html#returning-a-view-versus-a-copy\n",
      "  df_cleaned[\"Wealth index quintile\"] = pd.factorize(df_cleaned[\"Wealth index quintile\"])[0]\n"
     ]
    }
   ],
   "source": [
    "df_cleaned[\"Wealth index quintile\"] = pd.factorize(df_cleaned[\"Wealth index quintile\"])[0]"
   ]
  },
  {
   "cell_type": "code",
   "execution_count": 45,
   "metadata": {
    "colab": {
     "base_uri": "https://localhost:8080/",
     "height": 206
    },
    "executionInfo": {
     "elapsed": 544,
     "status": "ok",
     "timestamp": 1720533521829,
     "user": {
      "displayName": "Selina Atwani Ochukut",
      "userId": "02295218241410605702"
     },
     "user_tz": -180
    },
    "id": "TleJQBFdx8B4",
    "outputId": "90d46de3-b9f5-4d78-d1ed-fdf79ec5aa87"
   },
   "outputs": [
    {
     "data": {
      "text/html": [
       "<div>\n",
       "<style scoped>\n",
       "    .dataframe tbody tr th:only-of-type {\n",
       "        vertical-align: middle;\n",
       "    }\n",
       "\n",
       "    .dataframe tbody tr th {\n",
       "        vertical-align: top;\n",
       "    }\n",
       "\n",
       "    .dataframe thead th {\n",
       "        text-align: right;\n",
       "    }\n",
       "</style>\n",
       "<table border=\"1\" class=\"dataframe\">\n",
       "  <thead>\n",
       "    <tr style=\"text-align: right;\">\n",
       "      <th></th>\n",
       "      <th>Age (months)</th>\n",
       "      <th>Sex</th>\n",
       "      <th>Mother's education</th>\n",
       "      <th>Area</th>\n",
       "      <th>Wealth index quintile</th>\n",
       "      <th>Child's weight (kilograms)</th>\n",
       "    </tr>\n",
       "  </thead>\n",
       "  <tbody>\n",
       "    <tr>\n",
       "      <th>0</th>\n",
       "      <td>45.0</td>\n",
       "      <td>0</td>\n",
       "      <td>1</td>\n",
       "      <td>0</td>\n",
       "      <td>0</td>\n",
       "      <td>16.2</td>\n",
       "    </tr>\n",
       "    <tr>\n",
       "      <th>1</th>\n",
       "      <td>45.0</td>\n",
       "      <td>1</td>\n",
       "      <td>0</td>\n",
       "      <td>0</td>\n",
       "      <td>1</td>\n",
       "      <td>13.5</td>\n",
       "    </tr>\n",
       "    <tr>\n",
       "      <th>2</th>\n",
       "      <td>36.0</td>\n",
       "      <td>1</td>\n",
       "      <td>0</td>\n",
       "      <td>0</td>\n",
       "      <td>2</td>\n",
       "      <td>13.4</td>\n",
       "    </tr>\n",
       "    <tr>\n",
       "      <th>3</th>\n",
       "      <td>51.0</td>\n",
       "      <td>0</td>\n",
       "      <td>0</td>\n",
       "      <td>0</td>\n",
       "      <td>2</td>\n",
       "      <td>15.0</td>\n",
       "    </tr>\n",
       "    <tr>\n",
       "      <th>4</th>\n",
       "      <td>56.0</td>\n",
       "      <td>0</td>\n",
       "      <td>0</td>\n",
       "      <td>0</td>\n",
       "      <td>2</td>\n",
       "      <td>15.2</td>\n",
       "    </tr>\n",
       "  </tbody>\n",
       "</table>\n",
       "</div>"
      ],
      "text/plain": [
       "   Age (months)  Sex  Mother's education  Area  Wealth index quintile  \\\n",
       "0          45.0    0                   1     0                      0   \n",
       "1          45.0    1                   0     0                      1   \n",
       "2          36.0    1                   0     0                      2   \n",
       "3          51.0    0                   0     0                      2   \n",
       "4          56.0    0                   0     0                      2   \n",
       "\n",
       "   Child's weight (kilograms)  \n",
       "0                        16.2  \n",
       "1                        13.5  \n",
       "2                        13.4  \n",
       "3                        15.0  \n",
       "4                        15.2  "
      ]
     },
     "execution_count": 45,
     "metadata": {},
     "output_type": "execute_result"
    }
   ],
   "source": [
    "df_cleaned.head()"
   ]
  },
  {
   "cell_type": "markdown",
   "metadata": {
    "id": "nvqovNTe_WB5"
   },
   "source": [
    "As you can see our categorical columns have been converted to numerical columns. Having converted the categorical columns into numerical columns,"
   ]
  },
  {
   "cell_type": "markdown",
   "metadata": {
    "id": "NcsYOmxeARPh"
   },
   "source": [
    "Now when you look at the data, we do not have the categorical values. Our data now cointains numerical values. We can save the values to a new file for future use using the to_csv() pandas function"
   ]
  },
  {
   "cell_type": "code",
   "execution_count": 46,
   "metadata": {
    "id": "DiOEsWmJjAeO"
   },
   "outputs": [],
   "source": [
    "df_cleaned.to_excel(\"child_data.xlsx\", index=False)"
   ]
  },
  {
   "cell_type": "markdown",
   "metadata": {
    "id": "0OcTF8w_AQC8"
   },
   "source": [
    "Once we are satisfied with how our data looks like, we can now create the values for the x and y variables. The x values in this case will cointain more that one column and the y value will contain only one column"
   ]
  },
  {
   "cell_type": "code",
   "execution_count": 47,
   "metadata": {
    "id": "EEHMufboirRk"
   },
   "outputs": [],
   "source": [
    "#Creating the x values\n",
    "x=df_cleaned.drop(columns=\"Child's weight (kilograms)\")"
   ]
  },
  {
   "cell_type": "code",
   "execution_count": 48,
   "metadata": {
    "id": "2h7hNlhEjYXb"
   },
   "outputs": [],
   "source": [
    "#creating the output variable\n",
    "y=df_cleaned[\"Child's weight (kilograms)\"]"
   ]
  },
  {
   "cell_type": "code",
   "execution_count": 49,
   "metadata": {
    "id": "onpDBda1jeOg"
   },
   "outputs": [],
   "source": [
    "#Creating the model\n",
    "model=linear_model.LinearRegression()"
   ]
  },
  {
   "cell_type": "code",
   "execution_count": 50,
   "metadata": {
    "id": "RVIExhs5joHW"
   },
   "outputs": [],
   "source": [
    "#spliting the data set into train and test data\n",
    "x_train,x_test,y_train,y_test=train_test_split(x,y,test_size=0.3)"
   ]
  },
  {
   "cell_type": "code",
   "execution_count": 51,
   "metadata": {
    "colab": {
     "base_uri": "https://localhost:8080/",
     "height": 74
    },
    "executionInfo": {
     "elapsed": 5,
     "status": "ok",
     "timestamp": 1720533736468,
     "user": {
      "displayName": "Selina Atwani Ochukut",
      "userId": "02295218241410605702"
     },
     "user_tz": -180
    },
    "id": "ySwb6d37j-7l",
    "outputId": "83d8fc31-4f8b-41e2-ac1c-7b00dd4189ff"
   },
   "outputs": [
    {
     "data": {
      "text/html": [
       "<style>#sk-container-id-2 {color: black;background-color: white;}#sk-container-id-2 pre{padding: 0;}#sk-container-id-2 div.sk-toggleable {background-color: white;}#sk-container-id-2 label.sk-toggleable__label {cursor: pointer;display: block;width: 100%;margin-bottom: 0;padding: 0.3em;box-sizing: border-box;text-align: center;}#sk-container-id-2 label.sk-toggleable__label-arrow:before {content: \"▸\";float: left;margin-right: 0.25em;color: #696969;}#sk-container-id-2 label.sk-toggleable__label-arrow:hover:before {color: black;}#sk-container-id-2 div.sk-estimator:hover label.sk-toggleable__label-arrow:before {color: black;}#sk-container-id-2 div.sk-toggleable__content {max-height: 0;max-width: 0;overflow: hidden;text-align: left;background-color: #f0f8ff;}#sk-container-id-2 div.sk-toggleable__content pre {margin: 0.2em;color: black;border-radius: 0.25em;background-color: #f0f8ff;}#sk-container-id-2 input.sk-toggleable__control:checked~div.sk-toggleable__content {max-height: 200px;max-width: 100%;overflow: auto;}#sk-container-id-2 input.sk-toggleable__control:checked~label.sk-toggleable__label-arrow:before {content: \"▾\";}#sk-container-id-2 div.sk-estimator input.sk-toggleable__control:checked~label.sk-toggleable__label {background-color: #d4ebff;}#sk-container-id-2 div.sk-label input.sk-toggleable__control:checked~label.sk-toggleable__label {background-color: #d4ebff;}#sk-container-id-2 input.sk-hidden--visually {border: 0;clip: rect(1px 1px 1px 1px);clip: rect(1px, 1px, 1px, 1px);height: 1px;margin: -1px;overflow: hidden;padding: 0;position: absolute;width: 1px;}#sk-container-id-2 div.sk-estimator {font-family: monospace;background-color: #f0f8ff;border: 1px dotted black;border-radius: 0.25em;box-sizing: border-box;margin-bottom: 0.5em;}#sk-container-id-2 div.sk-estimator:hover {background-color: #d4ebff;}#sk-container-id-2 div.sk-parallel-item::after {content: \"\";width: 100%;border-bottom: 1px solid gray;flex-grow: 1;}#sk-container-id-2 div.sk-label:hover label.sk-toggleable__label {background-color: #d4ebff;}#sk-container-id-2 div.sk-serial::before {content: \"\";position: absolute;border-left: 1px solid gray;box-sizing: border-box;top: 0;bottom: 0;left: 50%;z-index: 0;}#sk-container-id-2 div.sk-serial {display: flex;flex-direction: column;align-items: center;background-color: white;padding-right: 0.2em;padding-left: 0.2em;position: relative;}#sk-container-id-2 div.sk-item {position: relative;z-index: 1;}#sk-container-id-2 div.sk-parallel {display: flex;align-items: stretch;justify-content: center;background-color: white;position: relative;}#sk-container-id-2 div.sk-item::before, #sk-container-id-2 div.sk-parallel-item::before {content: \"\";position: absolute;border-left: 1px solid gray;box-sizing: border-box;top: 0;bottom: 0;left: 50%;z-index: -1;}#sk-container-id-2 div.sk-parallel-item {display: flex;flex-direction: column;z-index: 1;position: relative;background-color: white;}#sk-container-id-2 div.sk-parallel-item:first-child::after {align-self: flex-end;width: 50%;}#sk-container-id-2 div.sk-parallel-item:last-child::after {align-self: flex-start;width: 50%;}#sk-container-id-2 div.sk-parallel-item:only-child::after {width: 0;}#sk-container-id-2 div.sk-dashed-wrapped {border: 1px dashed gray;margin: 0 0.4em 0.5em 0.4em;box-sizing: border-box;padding-bottom: 0.4em;background-color: white;}#sk-container-id-2 div.sk-label label {font-family: monospace;font-weight: bold;display: inline-block;line-height: 1.2em;}#sk-container-id-2 div.sk-label-container {text-align: center;}#sk-container-id-2 div.sk-container {/* jupyter's `normalize.less` sets `[hidden] { display: none; }` but bootstrap.min.css set `[hidden] { display: none !important; }` so we also need the `!important` here to be able to override the default hidden behavior on the sphinx rendered scikit-learn.org. See: https://github.com/scikit-learn/scikit-learn/issues/21755 */display: inline-block !important;position: relative;}#sk-container-id-2 div.sk-text-repr-fallback {display: none;}</style><div id=\"sk-container-id-2\" class=\"sk-top-container\"><div class=\"sk-text-repr-fallback\"><pre>LinearRegression()</pre><b>In a Jupyter environment, please rerun this cell to show the HTML representation or trust the notebook. <br />On GitHub, the HTML representation is unable to render, please try loading this page with nbviewer.org.</b></div><div class=\"sk-container\" hidden><div class=\"sk-item\"><div class=\"sk-estimator sk-toggleable\"><input class=\"sk-toggleable__control sk-hidden--visually\" id=\"sk-estimator-id-2\" type=\"checkbox\" checked><label for=\"sk-estimator-id-2\" class=\"sk-toggleable__label sk-toggleable__label-arrow\">LinearRegression</label><div class=\"sk-toggleable__content\"><pre>LinearRegression()</pre></div></div></div></div></div>"
      ],
      "text/plain": [
       "LinearRegression()"
      ]
     },
     "execution_count": 51,
     "metadata": {},
     "output_type": "execute_result"
    }
   ],
   "source": [
    "#training the model using the training data data\n",
    "model.fit(x_train,y_train)"
   ]
  },
  {
   "cell_type": "markdown",
   "metadata": {
    "id": "3W-hDVIfMsum"
   },
   "source": [
    "**What happens during training**\n",
    "\n",
    "During the training the algorithm tries to find the best values of the coefficients that will lead to the best line that fits the data points. To do that, it calculates the difference between the actual value of y and the predicted value of y. This difference is usually called the **loss function**. The most commonly used loss function in regression is called the mean squared error (MSE). The mean squared error squares the difference between the predicted and the actual values of y, sums them up and then divides with the total number of the data points.\n",
    "\n",
    "At each iteration of the algorithm tries to minimize the loss function by using an optimization algorithm. The commonly used optimization algorithm in linear regression is called **Gradient descent**. What gradient descent does at every iteration adjust the values of the coefficients so as to lower the value of the loss function. The gradient descent does this until there is no change in the loss function or the number of iteration are reached.\n",
    "\n",
    "Once you have finished training the model, you can use it to predict the values for the test data and measure how well it does the prediction."
   ]
  },
  {
   "cell_type": "code",
   "execution_count": 52,
   "metadata": {
    "id": "ilB1whPckDYN"
   },
   "outputs": [],
   "source": [
    "#predicting the values for the x_testing values\n",
    "y_predict=model.predict(x_test)"
   ]
  },
  {
   "cell_type": "code",
   "execution_count": 53,
   "metadata": {
    "colab": {
     "base_uri": "https://localhost:8080/"
    },
    "executionInfo": {
     "elapsed": 3,
     "status": "ok",
     "timestamp": 1720533748860,
     "user": {
      "displayName": "Selina Atwani Ochukut",
      "userId": "02295218241410605702"
     },
     "user_tz": -180
    },
    "id": "Nojm5AvOPHo8",
    "outputId": "a5c56440-861c-45de-913f-dd556d71ec86"
   },
   "outputs": [
    {
     "data": {
      "text/plain": [
       "(231,)"
      ]
     },
     "execution_count": 53,
     "metadata": {},
     "output_type": "execute_result"
    }
   ],
   "source": [
    "y_predict.shape"
   ]
  },
  {
   "cell_type": "markdown",
   "metadata": {
    "id": "RoAU9RGQwghT"
   },
   "source": [
    "To evaluate our algorithm, we are going to use the R_squared, the adjusted R_squared and the mean_absolute error as they are the most commonly used metrics.\n",
    "\n",
    "The adjusted r_squared: The adjusted r_squared metric adjusts the value of the r_squared based on the number of paremeters and the data size for the test."
   ]
  },
  {
   "cell_type": "code",
   "execution_count": 54,
   "metadata": {
    "colab": {
     "base_uri": "https://localhost:8080/"
    },
    "executionInfo": {
     "elapsed": 472,
     "status": "ok",
     "timestamp": 1720533758048,
     "user": {
      "displayName": "Selina Atwani Ochukut",
      "userId": "02295218241410605702"
     },
     "user_tz": -180
    },
    "id": "1uO5XPjYkSXC",
    "outputId": "5efd6889-319e-4ceb-8ea4-45a0d11bd6ae"
   },
   "outputs": [
    {
     "name": "stdout",
     "output_type": "stream",
     "text": [
      "R_squared\n",
      "Adjusted R 0.7245566924461331\n",
      "0.7279911476525405\n",
      "Mean absolute error\n",
      "1.4365182263475926\n"
     ]
    }
   ],
   "source": [
    "from sklearn.metrics import r2_score, mean_absolute_error\n",
    "\n",
    "#Evaluating the performance of the model\n",
    "print(\"R_squared\")\n",
    "r_squa=r2_score(y_test,y_predict)\n",
    "adjusted_r2 = 1 - (1 - r_squa) * (402 - 1) / (402 - 5 - 1)\n",
    "print(\"Adjusted R\", adjusted_r2)\n",
    "print(r2_score(y_test,y_predict))\n",
    "print(\"Mean absolute error\")\n",
    "print(mean_absolute_error(y_test,y_predict))"
   ]
  },
  {
   "cell_type": "code",
   "execution_count": 23,
   "metadata": {},
   "outputs": [
    {
     "data": {
      "text/plain": [
       "['linear']"
      ]
     },
     "execution_count": 23,
     "metadata": {},
     "output_type": "execute_result"
    }
   ],
   "source": [
    "import joblib\n",
    "joblib_file = \"linear\"\n",
    "joblib.dump(model, joblib_file)"
   ]
  },
  {
   "cell_type": "markdown",
   "metadata": {
    "id": "hKDEajdmw606"
   },
   "source": [
    "**<h3>Model evaluation results interpretation</h3>**\n",
    "\n",
    "From the result, we can see our algorithm is working very well with an R_squared is 0.71. This means that 71 percent of the change in our outcome variable which is the expense is explained by the predictor variables. Only 27% is explained by other factors outside the predictors.\n",
    "\n",
    "The mean **absolute error** from the model is 1.38 meaning that on avarage the difference between the predicted value and the actual value is 1.38. This means that our model predicted child's weight is 1.38 higher that the actual child's weight.\n",
    "\n",
    "**<h3>RUGULARIZATION</h3>**\n",
    "\n",
    "Sometimes when training the model, the model can learn very well how to map the input to the output in the training data, but fails to do a good job in mapping data that it was not trained in. This results to the model having good performance in the training data and not so good performance on the test data. This is usually reffered to as **overfitting**. In order to prevent overfitting we introduce a way of penalizing larger coefficients. This process is what is reffered to as **Regularizarion**.\n",
    "\n",
    "There are two main types of regularization techniques\n",
    "\n",
    "1. Lasso regularization also reffered to as L1 regularization\n",
    "2. RIdge also reffered to us L2 regularization\n",
    "\n",
    "Combining both the ridge and Lasso regularization, results to what is reffered to as **Elastic Net**\n",
    "\n",
    "Lets look at this regularization techniques in detail\n",
    "\n",
    "**Lasso regularization**\n",
    "\n",
    "Lasso regularization adds a penality that is the same as the sum of absolute values of the coefficients. This penality is introduced when calculating the **loss function**.\n",
    "\n",
    "The loss function is the function that calculates the difference between the predicted value and the actual value of y. When training our linear regression, what the algorithm does is to reduce the difference between the predicted value and the actual value of y at each iteration or pass.\n",
    "\n",
    "By using the absolute value of the coefficients, lasso regression also helps in feature selection. This is because as we try to reduce the loss function some of the coefficients will tend towards zero hence the not so important features will not be used to determine the output variable as their value will be zero or very close to zero.\n",
    "\n",
    "Lets train our model with Lasso regression and compare the performance with the previous model that was not using lasso"
   ]
  },
  {
   "cell_type": "code",
   "execution_count": 63,
   "metadata": {
    "id": "kGswL6bxSOFS"
   },
   "outputs": [],
   "source": [
    "model_lasso=linear_model.Lasso(alpha=0.1)"
   ]
  },
  {
   "cell_type": "code",
   "execution_count": 62,
   "metadata": {
    "colab": {
     "base_uri": "https://localhost:8080/",
     "height": 74
    },
    "executionInfo": {
     "elapsed": 733,
     "status": "ok",
     "timestamp": 1720534052617,
     "user": {
      "displayName": "Selina Atwani Ochukut",
      "userId": "02295218241410605702"
     },
     "user_tz": -180
    },
    "id": "jBw5W6ycSlyO",
    "outputId": "523e66bd-5532-482a-8ee1-6a779dcbf7bc"
   },
   "outputs": [
    {
     "data": {
      "text/html": [
       "<style>#sk-container-id-4 {color: black;background-color: white;}#sk-container-id-4 pre{padding: 0;}#sk-container-id-4 div.sk-toggleable {background-color: white;}#sk-container-id-4 label.sk-toggleable__label {cursor: pointer;display: block;width: 100%;margin-bottom: 0;padding: 0.3em;box-sizing: border-box;text-align: center;}#sk-container-id-4 label.sk-toggleable__label-arrow:before {content: \"▸\";float: left;margin-right: 0.25em;color: #696969;}#sk-container-id-4 label.sk-toggleable__label-arrow:hover:before {color: black;}#sk-container-id-4 div.sk-estimator:hover label.sk-toggleable__label-arrow:before {color: black;}#sk-container-id-4 div.sk-toggleable__content {max-height: 0;max-width: 0;overflow: hidden;text-align: left;background-color: #f0f8ff;}#sk-container-id-4 div.sk-toggleable__content pre {margin: 0.2em;color: black;border-radius: 0.25em;background-color: #f0f8ff;}#sk-container-id-4 input.sk-toggleable__control:checked~div.sk-toggleable__content {max-height: 200px;max-width: 100%;overflow: auto;}#sk-container-id-4 input.sk-toggleable__control:checked~label.sk-toggleable__label-arrow:before {content: \"▾\";}#sk-container-id-4 div.sk-estimator input.sk-toggleable__control:checked~label.sk-toggleable__label {background-color: #d4ebff;}#sk-container-id-4 div.sk-label input.sk-toggleable__control:checked~label.sk-toggleable__label {background-color: #d4ebff;}#sk-container-id-4 input.sk-hidden--visually {border: 0;clip: rect(1px 1px 1px 1px);clip: rect(1px, 1px, 1px, 1px);height: 1px;margin: -1px;overflow: hidden;padding: 0;position: absolute;width: 1px;}#sk-container-id-4 div.sk-estimator {font-family: monospace;background-color: #f0f8ff;border: 1px dotted black;border-radius: 0.25em;box-sizing: border-box;margin-bottom: 0.5em;}#sk-container-id-4 div.sk-estimator:hover {background-color: #d4ebff;}#sk-container-id-4 div.sk-parallel-item::after {content: \"\";width: 100%;border-bottom: 1px solid gray;flex-grow: 1;}#sk-container-id-4 div.sk-label:hover label.sk-toggleable__label {background-color: #d4ebff;}#sk-container-id-4 div.sk-serial::before {content: \"\";position: absolute;border-left: 1px solid gray;box-sizing: border-box;top: 0;bottom: 0;left: 50%;z-index: 0;}#sk-container-id-4 div.sk-serial {display: flex;flex-direction: column;align-items: center;background-color: white;padding-right: 0.2em;padding-left: 0.2em;position: relative;}#sk-container-id-4 div.sk-item {position: relative;z-index: 1;}#sk-container-id-4 div.sk-parallel {display: flex;align-items: stretch;justify-content: center;background-color: white;position: relative;}#sk-container-id-4 div.sk-item::before, #sk-container-id-4 div.sk-parallel-item::before {content: \"\";position: absolute;border-left: 1px solid gray;box-sizing: border-box;top: 0;bottom: 0;left: 50%;z-index: -1;}#sk-container-id-4 div.sk-parallel-item {display: flex;flex-direction: column;z-index: 1;position: relative;background-color: white;}#sk-container-id-4 div.sk-parallel-item:first-child::after {align-self: flex-end;width: 50%;}#sk-container-id-4 div.sk-parallel-item:last-child::after {align-self: flex-start;width: 50%;}#sk-container-id-4 div.sk-parallel-item:only-child::after {width: 0;}#sk-container-id-4 div.sk-dashed-wrapped {border: 1px dashed gray;margin: 0 0.4em 0.5em 0.4em;box-sizing: border-box;padding-bottom: 0.4em;background-color: white;}#sk-container-id-4 div.sk-label label {font-family: monospace;font-weight: bold;display: inline-block;line-height: 1.2em;}#sk-container-id-4 div.sk-label-container {text-align: center;}#sk-container-id-4 div.sk-container {/* jupyter's `normalize.less` sets `[hidden] { display: none; }` but bootstrap.min.css set `[hidden] { display: none !important; }` so we also need the `!important` here to be able to override the default hidden behavior on the sphinx rendered scikit-learn.org. See: https://github.com/scikit-learn/scikit-learn/issues/21755 */display: inline-block !important;position: relative;}#sk-container-id-4 div.sk-text-repr-fallback {display: none;}</style><div id=\"sk-container-id-4\" class=\"sk-top-container\"><div class=\"sk-text-repr-fallback\"><pre>Lasso(alpha=0.1)</pre><b>In a Jupyter environment, please rerun this cell to show the HTML representation or trust the notebook. <br />On GitHub, the HTML representation is unable to render, please try loading this page with nbviewer.org.</b></div><div class=\"sk-container\" hidden><div class=\"sk-item\"><div class=\"sk-estimator sk-toggleable\"><input class=\"sk-toggleable__control sk-hidden--visually\" id=\"sk-estimator-id-4\" type=\"checkbox\" checked><label for=\"sk-estimator-id-4\" class=\"sk-toggleable__label sk-toggleable__label-arrow\">Lasso</label><div class=\"sk-toggleable__content\"><pre>Lasso(alpha=0.1)</pre></div></div></div></div></div>"
      ],
      "text/plain": [
       "Lasso(alpha=0.1)"
      ]
     },
     "execution_count": 62,
     "metadata": {},
     "output_type": "execute_result"
    }
   ],
   "source": [
    "model_lasso.fit(x_train,y_train)"
   ]
  },
  {
   "cell_type": "code",
   "execution_count": 61,
   "metadata": {
    "id": "edrnUtQvSy08"
   },
   "outputs": [],
   "source": [
    "y_predict_lasso=model_lasso.predict(x_test)"
   ]
  },
  {
   "cell_type": "code",
   "execution_count": 60,
   "metadata": {
    "colab": {
     "base_uri": "https://localhost:8080/"
    },
    "executionInfo": {
     "elapsed": 433,
     "status": "ok",
     "timestamp": 1720534057298,
     "user": {
      "displayName": "Selina Atwani Ochukut",
      "userId": "02295218241410605702"
     },
     "user_tz": -180
    },
    "id": "Ir0bbwxCS94l",
    "outputId": "fac5b41a-a048-40bd-8b8a-b3219db3434c"
   },
   "outputs": [
    {
     "name": "stdout",
     "output_type": "stream",
     "text": [
      "R_squared\n",
      "Adjusted R 0.7203310164111105\n",
      "0.7238181608448873\n",
      "Mean absolute error\n",
      "1.4487386377039464\n"
     ]
    }
   ],
   "source": [
    "from sklearn.metrics import r2_score, mean_absolute_error\n",
    "\n",
    "#Evaluating the performance of the model\n",
    "print(\"R_squared\")\n",
    "r_squa=r2_score(y_test,y_predict_lasso)\n",
    "adjusted_r2 = 1 - (1 - r_squa) * (402 - 1) / (402 - 5 - 1)\n",
    "print(\"Adjusted R\", adjusted_r2)\n",
    "print(r2_score(y_test,y_predict_lasso))\n",
    "print(\"Mean absolute error\")\n",
    "print(mean_absolute_error(y_test,y_predict_lasso))"
   ]
  },
  {
   "cell_type": "markdown",
   "metadata": {
    "id": "XUhPMZLnTmaD"
   },
   "source": [
    "**<h3>Ridge regression**\n",
    "\n",
    "The difference between lasso and ridge regularization is in how the penality is applied. While laso uses the absolute values of the coefficients, ridge regression uses the square of the coefficients."
   ]
  },
  {
   "cell_type": "code",
   "execution_count": 64,
   "metadata": {
    "id": "Dv6oyi-00u-s"
   },
   "outputs": [],
   "source": [
    "from sklearn.linear_model import Ridge"
   ]
  },
  {
   "cell_type": "code",
   "execution_count": 65,
   "metadata": {
    "id": "EOUnDeVM0_rr"
   },
   "outputs": [],
   "source": [
    "# Initialize the Ridge regression model with a specific alpha value\n",
    "ridge_model = Ridge(alpha=1.0)\n",
    "\n",
    "# Fit the model to the training data\n",
    "ridge_model.fit(x_train, y_train)\n",
    "\n",
    "# Make predictions on the test data\n",
    "y_pred_ridge = ridge_model.predict(x_test)"
   ]
  },
  {
   "cell_type": "code",
   "execution_count": 66,
   "metadata": {
    "colab": {
     "base_uri": "https://localhost:8080/"
    },
    "executionInfo": {
     "elapsed": 738,
     "status": "ok",
     "timestamp": 1720534257014,
     "user": {
      "displayName": "Selina Atwani Ochukut",
      "userId": "02295218241410605702"
     },
     "user_tz": -180
    },
    "id": "sa5IEqyp1LaV",
    "outputId": "bc3a4cce-c8e9-41fe-fd76-9d56b6b1eb4b"
   },
   "outputs": [
    {
     "name": "stdout",
     "output_type": "stream",
     "text": [
      "R_squared\n",
      "Adjusted R 0.7245720831528055\n",
      "0.7280063464551396\n",
      "Mean absolute error\n",
      "1.436367668499075\n"
     ]
    }
   ],
   "source": [
    "#Evaluating the performance of the model\n",
    "print(\"R_squared\")\n",
    "r_squa=r2_score(y_test,y_pred_ridge)\n",
    "adjusted_r2 = 1 - (1 - r_squa) * (402 - 1) / (402 - 5 - 1)\n",
    "print(\"Adjusted R\", adjusted_r2)\n",
    "print(r2_score(y_test,y_pred_ridge))\n",
    "print(\"Mean absolute error\")\n",
    "print(mean_absolute_error(y_test,y_pred_ridge))"
   ]
  },
  {
   "cell_type": "code",
   "execution_count": 22,
   "metadata": {},
   "outputs": [
    {
     "data": {
      "text/plain": [
       "['linear_Regression3']"
      ]
     },
     "execution_count": 22,
     "metadata": {},
     "output_type": "execute_result"
    }
   ],
   "source": [
    "import joblib\n",
    "joblib_file = \"linear_Regression3\"\n",
    "joblib.dump(model, joblib_file)"
   ]
  },
  {
   "cell_type": "markdown",
   "metadata": {
    "id": "ooFpPhW4R1dk"
   },
   "source": [
    "**<H2>Guided practical activity 2</h2>**\n",
    "Create and evaluate a model for predicting the a child's height using the age, gender, if they live in a rural or urban area, the mothers level of education and the household wealth index.\n",
    "\n",
    "Using the dataset called child_data.xlsx"
   ]
  },
  {
   "cell_type": "markdown",
   "metadata": {
    "id": "_uzGI6Edxhqo"
   },
   "source": [
    "**<h2>Classification algorithms</h2>**\n",
    "\n",
    "As we said earlier supervised machine learning is divided into regression and classification. In classification the outcome variable is categorical while in regression, the outcome variable is numerical.\n",
    "In this section we are going to look at an example of a classification algorithm called Logistic regression.\n",
    "\n",
    "**<h3>Logistic regression</h3>**\n",
    "\n",
    "Logistic regression is a commonly used machine learning technique for modeling binary outcomes. It’s particularly useful when the dependent variable (target) is categorical. Logistic regression is used for binary classification tasks. Unlike linear regression, which predicts continuous outcomes, logistic regression predicts the probability that a given observation belongs to a particular category or class. For example, if we want to know the probaility of someone dying from cholera based on the age, the source of drinking water, the kind of toilet they use and the area they come from either formal settlemt or not. In this case the outcome variable is either they are likely to live or they are likely to die.\n",
    "\n",
    "We are going to demonstrate how logistic regression works using the data collected about cholera outbreak in Lamu county. As we did earlier we are going to import our libraries, load our data, create our model, train our model and test our model."
   ]
  },
  {
   "cell_type": "code",
   "execution_count": 20,
   "metadata": {
    "id": "cMjV2uU97DfC"
   },
   "outputs": [],
   "source": [
    "#importing the libraries\n",
    "import pandas as pd\n",
    "import numpy as np\n",
    "from sklearn.linear_model import LogisticRegression\n",
    "import matplotlib.pyplot as plt\n",
    "from sklearn.model_selection import train_test_split\n",
    "from sklearn.metrics import accuracy_score, confusion_matrix, classification_report"
   ]
  },
  {
   "cell_type": "markdown",
   "metadata": {
    "id": "PxEA0irS8-va"
   },
   "source": [
    "We are going to load the data we are going to use using the pandas library read_excel() function because our data is in excel file."
   ]
  },
  {
   "cell_type": "code",
   "execution_count": 5,
   "metadata": {
    "id": "B4SY-yrk8Uw-"
   },
   "outputs": [],
   "source": [
    "data_cholera=pd.read_excel(\"cholera outbreak dataset (2).xlsx \")"
   ]
  },
  {
   "cell_type": "code",
   "execution_count": 7,
   "metadata": {
    "colab": {
     "base_uri": "https://localhost:8080/",
     "height": 206
    },
    "executionInfo": {
     "elapsed": 7,
     "status": "ok",
     "timestamp": 1716358963457,
     "user": {
      "displayName": "Selina Atwani Ochukut",
      "userId": "02295218241410605702"
     },
     "user_tz": -180
    },
    "id": "uwhh_HhQ9swU",
    "outputId": "451b8aff-d90d-4905-fd4f-e0171d8a4585"
   },
   "outputs": [
    {
     "data": {
      "text/html": [
       "<div>\n",
       "<style scoped>\n",
       "    .dataframe tbody tr th:only-of-type {\n",
       "        vertical-align: middle;\n",
       "    }\n",
       "\n",
       "    .dataframe tbody tr th {\n",
       "        vertical-align: top;\n",
       "    }\n",
       "\n",
       "    .dataframe thead th {\n",
       "        text-align: right;\n",
       "    }\n",
       "</style>\n",
       "<table border=\"1\" class=\"dataframe\">\n",
       "  <thead>\n",
       "    <tr style=\"text-align: right;\">\n",
       "      <th></th>\n",
       "      <th>Test_result</th>\n",
       "      <th>Test_date</th>\n",
       "      <th>Sex</th>\n",
       "      <th>Age</th>\n",
       "      <th>Subcounty</th>\n",
       "      <th>Water</th>\n",
       "      <th>Sanitation</th>\n",
       "      <th>Income</th>\n",
       "      <th>Informal_settlement</th>\n",
       "      <th>Outcome</th>\n",
       "    </tr>\n",
       "  </thead>\n",
       "  <tbody>\n",
       "    <tr>\n",
       "      <th>0</th>\n",
       "      <td>0</td>\n",
       "      <td>2023-05-12</td>\n",
       "      <td>2</td>\n",
       "      <td>15</td>\n",
       "      <td>4</td>\n",
       "      <td>1</td>\n",
       "      <td>3</td>\n",
       "      <td>3</td>\n",
       "      <td>2</td>\n",
       "      <td>0</td>\n",
       "    </tr>\n",
       "    <tr>\n",
       "      <th>1</th>\n",
       "      <td>1</td>\n",
       "      <td>2023-05-13</td>\n",
       "      <td>2</td>\n",
       "      <td>6</td>\n",
       "      <td>2</td>\n",
       "      <td>3</td>\n",
       "      <td>3</td>\n",
       "      <td>1</td>\n",
       "      <td>1</td>\n",
       "      <td>0</td>\n",
       "    </tr>\n",
       "    <tr>\n",
       "      <th>2</th>\n",
       "      <td>0</td>\n",
       "      <td>2023-05-14</td>\n",
       "      <td>2</td>\n",
       "      <td>9</td>\n",
       "      <td>3</td>\n",
       "      <td>2</td>\n",
       "      <td>2</td>\n",
       "      <td>5</td>\n",
       "      <td>2</td>\n",
       "      <td>0</td>\n",
       "    </tr>\n",
       "    <tr>\n",
       "      <th>3</th>\n",
       "      <td>0</td>\n",
       "      <td>2023-05-15</td>\n",
       "      <td>2</td>\n",
       "      <td>10</td>\n",
       "      <td>1</td>\n",
       "      <td>4</td>\n",
       "      <td>4</td>\n",
       "      <td>5</td>\n",
       "      <td>2</td>\n",
       "      <td>0</td>\n",
       "    </tr>\n",
       "    <tr>\n",
       "      <th>4</th>\n",
       "      <td>0</td>\n",
       "      <td>2023-05-16</td>\n",
       "      <td>1</td>\n",
       "      <td>10</td>\n",
       "      <td>2</td>\n",
       "      <td>2</td>\n",
       "      <td>4</td>\n",
       "      <td>1</td>\n",
       "      <td>1</td>\n",
       "      <td>0</td>\n",
       "    </tr>\n",
       "  </tbody>\n",
       "</table>\n",
       "</div>"
      ],
      "text/plain": [
       "   Test_result  Test_date  Sex  Age  Subcounty  Water  Sanitation  Income  \\\n",
       "0            0 2023-05-12    2   15          4      1           3       3   \n",
       "1            1 2023-05-13    2    6          2      3           3       1   \n",
       "2            0 2023-05-14    2    9          3      2           2       5   \n",
       "3            0 2023-05-15    2   10          1      4           4       5   \n",
       "4            0 2023-05-16    1   10          2      2           4       1   \n",
       "\n",
       "   Informal_settlement  Outcome  \n",
       "0                    2        0  \n",
       "1                    1        0  \n",
       "2                    2        0  \n",
       "3                    2        0  \n",
       "4                    1        0  "
      ]
     },
     "execution_count": 7,
     "metadata": {},
     "output_type": "execute_result"
    }
   ],
   "source": [
    "#Displaying a few rows\n",
    "data_cholera.head()"
   ]
  },
  {
   "cell_type": "code",
   "execution_count": 8,
   "metadata": {},
   "outputs": [
    {
     "data": {
      "text/plain": [
       "(312, 10)"
      ]
     },
     "execution_count": 8,
     "metadata": {},
     "output_type": "execute_result"
    }
   ],
   "source": [
    "data_cholera.shape"
   ]
  },
  {
   "cell_type": "code",
   "execution_count": 9,
   "metadata": {},
   "outputs": [
    {
     "data": {
      "text/plain": [
       "<bound method NDFrame.describe of      Test_result  Test_date  Sex  Age  Subcounty  Water  Sanitation  Income  \\\n",
       "0              0 2023-05-12    2   15          4      1           3       3   \n",
       "1              1 2023-05-13    2    6          2      3           3       1   \n",
       "2              0 2023-05-14    2    9          3      2           2       5   \n",
       "3              0 2023-05-15    2   10          1      4           4       5   \n",
       "4              0 2023-05-16    1   10          2      2           4       1   \n",
       "..           ...        ...  ...  ...        ...    ...         ...     ...   \n",
       "307            1 2023-05-08    2   10          1      3           3       4   \n",
       "308            1 2023-05-24    2    4          2      3           3       5   \n",
       "309            1 2023-05-22    1    3          2      3           3       1   \n",
       "310            0 2023-05-14    2    0          4      2           2       2   \n",
       "311            1 2023-05-14    2    5          6      3           3       2   \n",
       "\n",
       "     Informal_settlement  Outcome  \n",
       "0                      2        0  \n",
       "1                      1        0  \n",
       "2                      2        0  \n",
       "3                      2        0  \n",
       "4                      1        0  \n",
       "..                   ...      ...  \n",
       "307                    2        0  \n",
       "308                    2        0  \n",
       "309                    2        0  \n",
       "310                    2        0  \n",
       "311                    2        0  \n",
       "\n",
       "[312 rows x 10 columns]>"
      ]
     },
     "execution_count": 9,
     "metadata": {},
     "output_type": "execute_result"
    }
   ],
   "source": [
    "data_cholera.describe"
   ]
  },
  {
   "cell_type": "markdown",
   "metadata": {
    "id": "oJpZUe7b957G"
   },
   "source": [
    "Our data has 10 columns. We will use the Test_result, sex, age, subcounty, water, sanitation, income and whether they live in a formal or informal setlement as our indepedent variables and the Outcome column as our depedent variable."
   ]
  },
  {
   "cell_type": "code",
   "execution_count": 10,
   "metadata": {
    "id": "ucpD10hUCU5g"
   },
   "outputs": [],
   "source": [
    "#Seperating the x and the y variables and converting them to numpy array\n",
    "X=data_cholera.drop(columns=[\"Outcome\",\"Test_date\"])\n",
    "y=data_cholera['Outcome']\n",
    "X=X.to_numpy()\n",
    "y=y.to_numpy()"
   ]
  },
  {
   "cell_type": "markdown",
   "metadata": {
    "id": "DOGD7JrFC0So"
   },
   "source": [
    "After creating our x and y values, we will  now split the data into training and testing data"
   ]
  },
  {
   "cell_type": "code",
   "execution_count": 11,
   "metadata": {
    "id": "OQ9UNx839zCj"
   },
   "outputs": [],
   "source": [
    "#Splitting the data into training and testing data\n",
    "X_train, X_test, y_train, y_test = train_test_split(X, y, test_size=0.3, random_state=42)"
   ]
  },
  {
   "cell_type": "markdown",
   "metadata": {
    "id": "UsLhNbvUDa1k"
   },
   "source": [
    "After splitting our data, we can now create our model"
   ]
  },
  {
   "cell_type": "code",
   "execution_count": 12,
   "metadata": {
    "id": "2_4gEGkIDkjz"
   },
   "outputs": [],
   "source": [
    "model=LogisticRegression()"
   ]
  },
  {
   "cell_type": "code",
   "execution_count": 13,
   "metadata": {
    "colab": {
     "base_uri": "https://localhost:8080/",
     "height": 74
    },
    "executionInfo": {
     "elapsed": 6,
     "status": "ok",
     "timestamp": 1716360509404,
     "user": {
      "displayName": "Selina Atwani Ochukut",
      "userId": "02295218241410605702"
     },
     "user_tz": -180
    },
    "id": "2hP3wYtbDon6",
    "outputId": "512c9e7f-107a-4207-af77-62ec491b734e"
   },
   "outputs": [
    {
     "data": {
      "text/html": [
       "<style>#sk-container-id-1 {color: black;background-color: white;}#sk-container-id-1 pre{padding: 0;}#sk-container-id-1 div.sk-toggleable {background-color: white;}#sk-container-id-1 label.sk-toggleable__label {cursor: pointer;display: block;width: 100%;margin-bottom: 0;padding: 0.3em;box-sizing: border-box;text-align: center;}#sk-container-id-1 label.sk-toggleable__label-arrow:before {content: \"▸\";float: left;margin-right: 0.25em;color: #696969;}#sk-container-id-1 label.sk-toggleable__label-arrow:hover:before {color: black;}#sk-container-id-1 div.sk-estimator:hover label.sk-toggleable__label-arrow:before {color: black;}#sk-container-id-1 div.sk-toggleable__content {max-height: 0;max-width: 0;overflow: hidden;text-align: left;background-color: #f0f8ff;}#sk-container-id-1 div.sk-toggleable__content pre {margin: 0.2em;color: black;border-radius: 0.25em;background-color: #f0f8ff;}#sk-container-id-1 input.sk-toggleable__control:checked~div.sk-toggleable__content {max-height: 200px;max-width: 100%;overflow: auto;}#sk-container-id-1 input.sk-toggleable__control:checked~label.sk-toggleable__label-arrow:before {content: \"▾\";}#sk-container-id-1 div.sk-estimator input.sk-toggleable__control:checked~label.sk-toggleable__label {background-color: #d4ebff;}#sk-container-id-1 div.sk-label input.sk-toggleable__control:checked~label.sk-toggleable__label {background-color: #d4ebff;}#sk-container-id-1 input.sk-hidden--visually {border: 0;clip: rect(1px 1px 1px 1px);clip: rect(1px, 1px, 1px, 1px);height: 1px;margin: -1px;overflow: hidden;padding: 0;position: absolute;width: 1px;}#sk-container-id-1 div.sk-estimator {font-family: monospace;background-color: #f0f8ff;border: 1px dotted black;border-radius: 0.25em;box-sizing: border-box;margin-bottom: 0.5em;}#sk-container-id-1 div.sk-estimator:hover {background-color: #d4ebff;}#sk-container-id-1 div.sk-parallel-item::after {content: \"\";width: 100%;border-bottom: 1px solid gray;flex-grow: 1;}#sk-container-id-1 div.sk-label:hover label.sk-toggleable__label {background-color: #d4ebff;}#sk-container-id-1 div.sk-serial::before {content: \"\";position: absolute;border-left: 1px solid gray;box-sizing: border-box;top: 0;bottom: 0;left: 50%;z-index: 0;}#sk-container-id-1 div.sk-serial {display: flex;flex-direction: column;align-items: center;background-color: white;padding-right: 0.2em;padding-left: 0.2em;position: relative;}#sk-container-id-1 div.sk-item {position: relative;z-index: 1;}#sk-container-id-1 div.sk-parallel {display: flex;align-items: stretch;justify-content: center;background-color: white;position: relative;}#sk-container-id-1 div.sk-item::before, #sk-container-id-1 div.sk-parallel-item::before {content: \"\";position: absolute;border-left: 1px solid gray;box-sizing: border-box;top: 0;bottom: 0;left: 50%;z-index: -1;}#sk-container-id-1 div.sk-parallel-item {display: flex;flex-direction: column;z-index: 1;position: relative;background-color: white;}#sk-container-id-1 div.sk-parallel-item:first-child::after {align-self: flex-end;width: 50%;}#sk-container-id-1 div.sk-parallel-item:last-child::after {align-self: flex-start;width: 50%;}#sk-container-id-1 div.sk-parallel-item:only-child::after {width: 0;}#sk-container-id-1 div.sk-dashed-wrapped {border: 1px dashed gray;margin: 0 0.4em 0.5em 0.4em;box-sizing: border-box;padding-bottom: 0.4em;background-color: white;}#sk-container-id-1 div.sk-label label {font-family: monospace;font-weight: bold;display: inline-block;line-height: 1.2em;}#sk-container-id-1 div.sk-label-container {text-align: center;}#sk-container-id-1 div.sk-container {/* jupyter's `normalize.less` sets `[hidden] { display: none; }` but bootstrap.min.css set `[hidden] { display: none !important; }` so we also need the `!important` here to be able to override the default hidden behavior on the sphinx rendered scikit-learn.org. See: https://github.com/scikit-learn/scikit-learn/issues/21755 */display: inline-block !important;position: relative;}#sk-container-id-1 div.sk-text-repr-fallback {display: none;}</style><div id=\"sk-container-id-1\" class=\"sk-top-container\"><div class=\"sk-text-repr-fallback\"><pre>LogisticRegression()</pre><b>In a Jupyter environment, please rerun this cell to show the HTML representation or trust the notebook. <br />On GitHub, the HTML representation is unable to render, please try loading this page with nbviewer.org.</b></div><div class=\"sk-container\" hidden><div class=\"sk-item\"><div class=\"sk-estimator sk-toggleable\"><input class=\"sk-toggleable__control sk-hidden--visually\" id=\"sk-estimator-id-1\" type=\"checkbox\" checked><label for=\"sk-estimator-id-1\" class=\"sk-toggleable__label sk-toggleable__label-arrow\">LogisticRegression</label><div class=\"sk-toggleable__content\"><pre>LogisticRegression()</pre></div></div></div></div></div>"
      ],
      "text/plain": [
       "LogisticRegression()"
      ]
     },
     "execution_count": 13,
     "metadata": {},
     "output_type": "execute_result"
    }
   ],
   "source": [
    "#Training the model\n",
    "model.fit(X_train, y_train)"
   ]
  },
  {
   "cell_type": "markdown",
   "metadata": {
    "id": "Yj_7p9wBWdnL"
   },
   "source": [
    "**<h2>Classification Model evaluation</h2>**\n",
    "\n",
    "**Accuracy:** Accuracy measures the ratio of correctilly predicted observations to total observations. Accuracy is useful mainly in balanced classes.\n",
    "\n",
    "**Precision:** Precision measurers the ratio of the true positive(No of values that were positively predicted as positive that were actually positive) and total number all the values that were predicted as positive. True Positive/(True Positive+False Positive)\n",
    "\n",
    "**Recall:** Measurers the propotion of the actual positives that were predicted correctilly. True Positive/(True positive+False negative)\n",
    "\n",
    "**F1 score:**\n",
    "F1 Score is a metric used to evaluate a classification model. It is mostily used in binary classification where the output variable is either yes or no, or 1 and 0. It is the harmonic mean of precision and recall, providing a single metric that balances both the false positives and false negatives. As you recall from the previous class the harmonic mean is a type of average, typically used to calculate the mean of rates or ratios. It is especially useful in situations where the average of rates is desired\n",
    "\n",
    "Now we are going to use the metrics we have discussed so that we can evaluate our logistic regression model. The classification report gives us most of the metrics for evaluating classification.\n",
    "\n",
    "\n"
   ]
  },
  {
   "cell_type": "code",
   "execution_count": 14,
   "metadata": {
    "colab": {
     "base_uri": "https://localhost:8080/"
    },
    "executionInfo": {
     "elapsed": 393,
     "status": "ok",
     "timestamp": 1716360806242,
     "user": {
      "displayName": "Selina Atwani Ochukut",
      "userId": "02295218241410605702"
     },
     "user_tz": -180
    },
    "id": "jiTjQ73nDwgJ",
    "outputId": "4f2d254f-7789-4dd9-e109-bc91e9376e72",
    "scrolled": true
   },
   "outputs": [
    {
     "name": "stdout",
     "output_type": "stream",
     "text": [
      "Accuracy: 0.9361702127659575\n",
      "Confusion matrix: [[88  0]\n",
      " [ 6  0]]\n",
      "Class report:               precision    recall  f1-score   support\n",
      "\n",
      "           0       0.94      1.00      0.97        88\n",
      "           1       0.00      0.00      0.00         6\n",
      "\n",
      "    accuracy                           0.94        94\n",
      "   macro avg       0.47      0.50      0.48        94\n",
      "weighted avg       0.88      0.94      0.91        94\n",
      "\n"
     ]
    },
    {
     "name": "stderr",
     "output_type": "stream",
     "text": [
      "C:\\ProgramData\\anaconda3\\Lib\\site-packages\\sklearn\\metrics\\_classification.py:1344: UndefinedMetricWarning: Precision and F-score are ill-defined and being set to 0.0 in labels with no predicted samples. Use `zero_division` parameter to control this behavior.\n",
      "  _warn_prf(average, modifier, msg_start, len(result))\n",
      "C:\\ProgramData\\anaconda3\\Lib\\site-packages\\sklearn\\metrics\\_classification.py:1344: UndefinedMetricWarning: Precision and F-score are ill-defined and being set to 0.0 in labels with no predicted samples. Use `zero_division` parameter to control this behavior.\n",
      "  _warn_prf(average, modifier, msg_start, len(result))\n",
      "C:\\ProgramData\\anaconda3\\Lib\\site-packages\\sklearn\\metrics\\_classification.py:1344: UndefinedMetricWarning: Precision and F-score are ill-defined and being set to 0.0 in labels with no predicted samples. Use `zero_division` parameter to control this behavior.\n",
      "  _warn_prf(average, modifier, msg_start, len(result))\n"
     ]
    }
   ],
   "source": [
    "#Testing the model using the test data\n",
    "y_pred=model.predict(X_test)\n",
    "\n",
    "accuracy = accuracy_score(y_test, y_pred)\n",
    "conf_matrix = confusion_matrix(y_test, y_pred)\n",
    "class_report = classification_report(y_test, y_pred)\n",
    "\n",
    "print(\"Accuracy:\", accuracy)\n",
    "print(\"Confusion matrix:\",conf_matrix)\n",
    "print(\"Class report:\", class_report)"
   ]
  },
  {
   "cell_type": "code",
   "execution_count": 21,
   "metadata": {},
   "outputs": [
    {
     "data": {
      "text/plain": [
       "['logistict_Regression']"
      ]
     },
     "execution_count": 21,
     "metadata": {},
     "output_type": "execute_result"
    }
   ],
   "source": [
    "import joblib\n",
    "joblib_file = \"logistict_Regression\"\n",
    "joblib.dump(model, joblib_file)"
   ]
  },
  {
   "cell_type": "markdown",
   "metadata": {
    "id": "wtzC6uVuH0x4"
   },
   "source": [
    "**<h2>Model Evaluation Interpretation</h2>**\n",
    "\n",
    "From the classification report  we can see that precision is 1 meaning that our model indetified all the positive values as positive. This means that all the people who died from cholera were indetified to have died. Recall is indicated as 0.97 meaning that out of all the  values that were predicted to be dead 0.03 of the records were predicted to be dead when they are alive.\n",
    "\n",
    "Our model has an accuracy of 94% meaning that it predicts correctily the outcome variable 94% of the time and the other 6% of the time it gets it wrong."
   ]
  },
  {
   "cell_type": "markdown",
   "metadata": {
    "id": "iOUwGevbE-4u"
   },
   "source": [
    "<h3>References</h3>\n",
    "\n",
    "https://scikit-learn.org/stable/supervised_learning.html"
   ]
  },
  {
   "cell_type": "markdown",
   "metadata": {
    "id": "18vvKp_cFWaA"
   },
   "source": [
    "<h2> Task </h2>\n",
    "\n",
    "Use the data provided to create and evaluate a supervised machine learning."
   ]
  },
  {
   "cell_type": "code",
   "execution_count": null,
   "metadata": {
    "id": "tWztJ6srF2II"
   },
   "outputs": [],
   "source": []
  }
 ],
 "metadata": {
  "colab": {
   "provenance": [
    {
     "file_id": "1miwTryNg6_eJJg9pTAFLyMDttFRM2sta",
     "timestamp": 1719815955562
    }
   ]
  },
  "kernelspec": {
   "display_name": "Python 3 (ipykernel)",
   "language": "python",
   "name": "python3"
  },
  "language_info": {
   "codemirror_mode": {
    "name": "ipython",
    "version": 3
   },
   "file_extension": ".py",
   "mimetype": "text/x-python",
   "name": "python",
   "nbconvert_exporter": "python",
   "pygments_lexer": "ipython3",
   "version": "3.11.7"
  }
 },
 "nbformat": 4,
 "nbformat_minor": 4
}
