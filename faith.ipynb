{
 "cells": [
  {
   "cell_type": "code",
   "execution_count": 1,
   "id": "5653b9c3-6da4-4520-9b60-25d2cb71814d",
   "metadata": {},
   "outputs": [
    {
     "name": "stdout",
     "output_type": "stream",
     "text": [
      "faith\n"
     ]
    }
   ],
   "source": [
    "print('faith')"
   ]
  },
  {
   "cell_type": "code",
   "execution_count": null,
   "id": "21f716d1-f0e4-4edc-8085-0cd8db8dd45e",
   "metadata": {},
   "outputs": [],
   "source": []
  },
  {
   "cell_type": "code",
   "execution_count": 2,
   "id": "462261d6-72ae-432c-9d9c-8b472dc6268e",
   "metadata": {},
   "outputs": [
    {
     "name": "stdout",
     "output_type": "stream",
     "text": [
      "50\n"
     ]
    }
   ],
   "source": [
    "age=50\n",
    "print(age)"
   ]
  },
  {
   "cell_type": "code",
   "execution_count": 3,
   "id": "07b67c1e-b6e8-4351-9d31-d5cf93cde35d",
   "metadata": {},
   "outputs": [
    {
     "name": "stdout",
     "output_type": "stream",
     "text": [
      "faith\n"
     ]
    }
   ],
   "source": [
    "name=\"faith\"\n",
    "print(name)"
   ]
  },
  {
   "cell_type": "code",
   "execution_count": null,
   "id": "dbf97d0c-4b68-4f5e-8b56-a05fb47733a5",
   "metadata": {},
   "outputs": [],
   "source": [
    "l=int(input(\"enter the l\"))\n",
    "w=int(input(\"enter the width\"))\n",
    "area=l*w\n",
    "perimeter=2*(l+w)\n",
    "print(\"Area is;\",area)\n",
    "print(\"Perimeter is;\",perimeter)"
   ]
  },
  {
   "cell_type": "code",
   "execution_count": 11,
   "id": "ebb9440a-223e-42eb-ae26-a68f7d0d81d9",
   "metadata": {},
   "outputs": [
    {
     "name": "stdout",
     "output_type": "stream",
     "text": [
      "area is; 120\n",
      "perimeter is; 44\n"
     ]
    }
   ],
   "source": [
    "l=10\n",
    "w=12\n",
    "area=l*w\n",
    "perimeter=2*(l+w)\n",
    "print(\"area is;\",area)\n",
    "print(\"perimeter is;\",perimeter)\n"
   ]
  },
  {
   "cell_type": "code",
   "execution_count": 20,
   "id": "52dfb025-a488-49cb-ae85-e2e74577ff32",
   "metadata": {},
   "outputs": [
    {
     "name": "stdin",
     "output_type": "stream",
     "text": [
      "enter your year of birth 2014\n"
     ]
    },
    {
     "name": "stdout",
     "output_type": "stream",
     "text": [
      "your age is; 10\n",
      "your a child\n"
     ]
    }
   ],
   "source": [
    "YOB=int(input(\"enter your year of birth\"))\n",
    "current=2024\n",
    "age=current-YOB\n",
    "print(\"your age is;\",age)\n",
    "if age>18:\n",
    "        print(\"your an adult\")\n",
    "else:\n",
    "        print(\"your a child\")"
   ]
  },
  {
   "cell_type": "code",
   "execution_count": 18,
   "id": "ed08a4e6-cca4-4e45-99ee-b49b40cfdd4c",
   "metadata": {},
   "outputs": [
    {
     "name": "stdout",
     "output_type": "stream",
     "text": [
      "x is not positive\n"
     ]
    }
   ],
   "source": [
    "x=-5\n",
    "if x>0:\n",
    "     print(\"x is positive\")\n",
    "else:\n",
    "    print(\"x is not positive\")\n"
   ]
  },
  {
   "cell_type": "code",
   "execution_count": 1,
   "id": "28c225d5-9c05-4883-a848-524bde0e8b59",
   "metadata": {},
   "outputs": [
    {
     "name": "stdout",
     "output_type": "stream",
     "text": [
      "0\n",
      "1\n",
      "2\n",
      "3\n",
      "4\n"
     ]
    }
   ],
   "source": [
    "i=0\n",
    "while i<5:\n",
    "    print(i)\n",
    "    i+=1"
   ]
  },
  {
   "cell_type": "code",
   "execution_count": 7,
   "id": "b18573f3-53f7-4f96-a174-cc4ca38bbbe8",
   "metadata": {},
   "outputs": [
    {
     "name": "stdout",
     "output_type": "stream",
     "text": [
      "i\n",
      "i\n",
      "i\n",
      "i\n",
      "i\n",
      "i\n",
      "i\n",
      "i\n",
      "i\n",
      "i\n"
     ]
    }
   ],
   "source": [
    "i=1\n",
    "while i<=10:\n",
    "     print(\"i\")\n",
    "     i+=1\n",
    "\n"
   ]
  },
  {
   "cell_type": "code",
   "execution_count": 16,
   "id": "59608ad7-8b4c-4a9c-9325-005048d8dd53",
   "metadata": {},
   "outputs": [
    {
     "data": {
      "text/html": [
       "<div>\n",
       "<style scoped>\n",
       "    .dataframe tbody tr th:only-of-type {\n",
       "        vertical-align: middle;\n",
       "    }\n",
       "\n",
       "    .dataframe tbody tr th {\n",
       "        vertical-align: top;\n",
       "    }\n",
       "\n",
       "    .dataframe thead th {\n",
       "        text-align: right;\n",
       "    }\n",
       "</style>\n",
       "<table border=\"1\" class=\"dataframe\">\n",
       "  <thead>\n",
       "    <tr style=\"text-align: right;\">\n",
       "      <th></th>\n",
       "      <th>Child participated in POLIO campaign August 2013</th>\n",
       "      <th>diarrhea_status</th>\n",
       "      <th>weight</th>\n",
       "      <th>height</th>\n",
       "      <th>residence</th>\n",
       "      <th>Sex</th>\n",
       "      <th>age</th>\n",
       "      <th>age_category</th>\n",
       "      <th>education</th>\n",
       "      <th>wealth_index</th>\n",
       "    </tr>\n",
       "  </thead>\n",
       "  <tbody>\n",
       "    <tr>\n",
       "      <th>0</th>\n",
       "      <td>1</td>\n",
       "      <td>No</td>\n",
       "      <td>16.2</td>\n",
       "      <td>102.4</td>\n",
       "      <td>Rural</td>\n",
       "      <td>Female</td>\n",
       "      <td>45</td>\n",
       "      <td>36-47</td>\n",
       "      <td>Secondary+</td>\n",
       "      <td>Richest</td>\n",
       "    </tr>\n",
       "    <tr>\n",
       "      <th>1</th>\n",
       "      <td>1</td>\n",
       "      <td>No</td>\n",
       "      <td>13.5</td>\n",
       "      <td>92.5</td>\n",
       "      <td>Rural</td>\n",
       "      <td>Male</td>\n",
       "      <td>45</td>\n",
       "      <td>36-47</td>\n",
       "      <td>Primary</td>\n",
       "      <td>Second</td>\n",
       "    </tr>\n",
       "    <tr>\n",
       "      <th>2</th>\n",
       "      <td>1</td>\n",
       "      <td>No</td>\n",
       "      <td>13.4</td>\n",
       "      <td>88.5</td>\n",
       "      <td>Rural</td>\n",
       "      <td>Male</td>\n",
       "      <td>36</td>\n",
       "      <td>36-47</td>\n",
       "      <td>Primary</td>\n",
       "      <td>Fourth</td>\n",
       "    </tr>\n",
       "    <tr>\n",
       "      <th>3</th>\n",
       "      <td>1</td>\n",
       "      <td>No</td>\n",
       "      <td>15.0</td>\n",
       "      <td>101.3</td>\n",
       "      <td>Rural</td>\n",
       "      <td>Female</td>\n",
       "      <td>51</td>\n",
       "      <td>48-59</td>\n",
       "      <td>Primary</td>\n",
       "      <td>Fourth</td>\n",
       "    </tr>\n",
       "    <tr>\n",
       "      <th>4</th>\n",
       "      <td>1</td>\n",
       "      <td>No</td>\n",
       "      <td>15.2</td>\n",
       "      <td>105.0</td>\n",
       "      <td>Rural</td>\n",
       "      <td>Female</td>\n",
       "      <td>56</td>\n",
       "      <td>48-59</td>\n",
       "      <td>Primary</td>\n",
       "      <td>Fourth</td>\n",
       "    </tr>\n",
       "  </tbody>\n",
       "</table>\n",
       "</div>"
      ],
      "text/plain": [
       "   Child participated in POLIO campaign August 2013  diarrhea_status  weight  \\\n",
       "0                                                 1               No    16.2   \n",
       "1                                                 1               No    13.5   \n",
       "2                                                 1               No    13.4   \n",
       "3                                                 1               No    15.0   \n",
       "4                                                 1               No    15.2   \n",
       "\n",
       "   height residence     Sex  age age_category   education wealth_index  \n",
       "0   102.4     Rural  Female   45        36-47  Secondary+      Richest  \n",
       "1    92.5     Rural    Male   45        36-47     Primary       Second  \n",
       "2    88.5     Rural    Male   36        36-47     Primary       Fourth  \n",
       "3   101.3     Rural  Female   51        48-59     Primary       Fourth  \n",
       "4   105.0     Rural  Female   56        48-59     Primary       Fourth  "
      ]
     },
     "execution_count": 16,
     "metadata": {},
     "output_type": "execute_result"
    }
   ],
   "source": [
    "import pandas as pd\n",
    "df=pd.read_csv(\"childhealthdata.csv\")\n",
    "df.head()\n"
   ]
  },
  {
   "cell_type": "code",
   "execution_count": 4,
   "id": "8d0b07ed-8dce-4adc-aa33-4616f34e364e",
   "metadata": {},
   "outputs": [
    {
     "data": {
      "text/html": [
       "<div>\n",
       "<style scoped>\n",
       "    .dataframe tbody tr th:only-of-type {\n",
       "        vertical-align: middle;\n",
       "    }\n",
       "\n",
       "    .dataframe tbody tr th {\n",
       "        vertical-align: top;\n",
       "    }\n",
       "\n",
       "    .dataframe thead th {\n",
       "        text-align: right;\n",
       "    }\n",
       "</style>\n",
       "<table border=\"1\" class=\"dataframe\">\n",
       "  <thead>\n",
       "    <tr style=\"text-align: right;\">\n",
       "      <th></th>\n",
       "      <th>Child participated in POLIO campaign August 2013</th>\n",
       "      <th>weight</th>\n",
       "      <th>height</th>\n",
       "      <th>age</th>\n",
       "    </tr>\n",
       "  </thead>\n",
       "  <tbody>\n",
       "    <tr>\n",
       "      <th>count</th>\n",
       "      <td>799.000000</td>\n",
       "      <td>799.000000</td>\n",
       "      <td>799.000000</td>\n",
       "      <td>799.000000</td>\n",
       "    </tr>\n",
       "    <tr>\n",
       "      <th>mean</th>\n",
       "      <td>1.234043</td>\n",
       "      <td>11.591114</td>\n",
       "      <td>83.858573</td>\n",
       "      <td>29.314143</td>\n",
       "    </tr>\n",
       "    <tr>\n",
       "      <th>std</th>\n",
       "      <td>0.850500</td>\n",
       "      <td>3.408729</td>\n",
       "      <td>13.795704</td>\n",
       "      <td>16.839659</td>\n",
       "    </tr>\n",
       "    <tr>\n",
       "      <th>min</th>\n",
       "      <td>1.000000</td>\n",
       "      <td>3.100000</td>\n",
       "      <td>45.000000</td>\n",
       "      <td>0.000000</td>\n",
       "    </tr>\n",
       "    <tr>\n",
       "      <th>25%</th>\n",
       "      <td>1.000000</td>\n",
       "      <td>9.200000</td>\n",
       "      <td>74.000000</td>\n",
       "      <td>15.000000</td>\n",
       "    </tr>\n",
       "    <tr>\n",
       "      <th>50%</th>\n",
       "      <td>1.000000</td>\n",
       "      <td>11.700000</td>\n",
       "      <td>84.900000</td>\n",
       "      <td>31.000000</td>\n",
       "    </tr>\n",
       "    <tr>\n",
       "      <th>75%</th>\n",
       "      <td>1.000000</td>\n",
       "      <td>14.100000</td>\n",
       "      <td>93.850000</td>\n",
       "      <td>43.000000</td>\n",
       "    </tr>\n",
       "    <tr>\n",
       "      <th>max</th>\n",
       "      <td>9.000000</td>\n",
       "      <td>25.000000</td>\n",
       "      <td>124.800000</td>\n",
       "      <td>59.000000</td>\n",
       "    </tr>\n",
       "  </tbody>\n",
       "</table>\n",
       "</div>"
      ],
      "text/plain": [
       "       Child participated in POLIO campaign August 2013      weight  \\\n",
       "count                                        799.000000  799.000000   \n",
       "mean                                           1.234043   11.591114   \n",
       "std                                            0.850500    3.408729   \n",
       "min                                            1.000000    3.100000   \n",
       "25%                                            1.000000    9.200000   \n",
       "50%                                            1.000000   11.700000   \n",
       "75%                                            1.000000   14.100000   \n",
       "max                                            9.000000   25.000000   \n",
       "\n",
       "           height         age  \n",
       "count  799.000000  799.000000  \n",
       "mean    83.858573   29.314143  \n",
       "std     13.795704   16.839659  \n",
       "min     45.000000    0.000000  \n",
       "25%     74.000000   15.000000  \n",
       "50%     84.900000   31.000000  \n",
       "75%     93.850000   43.000000  \n",
       "max    124.800000   59.000000  "
      ]
     },
     "execution_count": 4,
     "metadata": {},
     "output_type": "execute_result"
    }
   ],
   "source": [
    "df.describe()"
   ]
  },
  {
   "cell_type": "code",
   "execution_count": 15,
   "id": "096f343b-23e6-4238-a51e-46a2db79eabb",
   "metadata": {},
   "outputs": [
    {
     "ename": "AttributeError",
     "evalue": "'DataFrame' object has no attribute 'unique'",
     "output_type": "error",
     "traceback": [
      "\u001b[1;31m---------------------------------------------------------------------------\u001b[0m",
      "\u001b[1;31mAttributeError\u001b[0m                            Traceback (most recent call last)",
      "\u001b[1;32m~\\AppData\\Local\\Temp\\ipykernel_13000\\1660334235.py\u001b[0m in \u001b[0;36m?\u001b[1;34m()\u001b[0m\n\u001b[1;32m----> 1\u001b[1;33m \u001b[0mdf\u001b[0m\u001b[1;33m.\u001b[0m\u001b[0munique\u001b[0m\u001b[1;33m(\u001b[0m\u001b[1;33m)\u001b[0m\u001b[1;33m\u001b[0m\u001b[1;33m\u001b[0m\u001b[0m\n\u001b[0m",
      "\u001b[1;32mC:\\ProgramData\\anaconda3\\Lib\\site-packages\\pandas\\core\\generic.py\u001b[0m in \u001b[0;36m?\u001b[1;34m(self, name)\u001b[0m\n\u001b[0;32m   6200\u001b[0m             \u001b[1;32mand\u001b[0m \u001b[0mname\u001b[0m \u001b[1;32mnot\u001b[0m \u001b[1;32min\u001b[0m \u001b[0mself\u001b[0m\u001b[1;33m.\u001b[0m\u001b[0m_accessors\u001b[0m\u001b[1;33m\u001b[0m\u001b[1;33m\u001b[0m\u001b[0m\n\u001b[0;32m   6201\u001b[0m             \u001b[1;32mand\u001b[0m \u001b[0mself\u001b[0m\u001b[1;33m.\u001b[0m\u001b[0m_info_axis\u001b[0m\u001b[1;33m.\u001b[0m\u001b[0m_can_hold_identifiers_and_holds_name\u001b[0m\u001b[1;33m(\u001b[0m\u001b[0mname\u001b[0m\u001b[1;33m)\u001b[0m\u001b[1;33m\u001b[0m\u001b[1;33m\u001b[0m\u001b[0m\n\u001b[0;32m   6202\u001b[0m         ):\n\u001b[0;32m   6203\u001b[0m             \u001b[1;32mreturn\u001b[0m \u001b[0mself\u001b[0m\u001b[1;33m[\u001b[0m\u001b[0mname\u001b[0m\u001b[1;33m]\u001b[0m\u001b[1;33m\u001b[0m\u001b[1;33m\u001b[0m\u001b[0m\n\u001b[1;32m-> 6204\u001b[1;33m         \u001b[1;32mreturn\u001b[0m \u001b[0mobject\u001b[0m\u001b[1;33m.\u001b[0m\u001b[0m__getattribute__\u001b[0m\u001b[1;33m(\u001b[0m\u001b[0mself\u001b[0m\u001b[1;33m,\u001b[0m \u001b[0mname\u001b[0m\u001b[1;33m)\u001b[0m\u001b[1;33m\u001b[0m\u001b[1;33m\u001b[0m\u001b[0m\n\u001b[0m",
      "\u001b[1;31mAttributeError\u001b[0m: 'DataFrame' object has no attribute 'unique'"
     ]
    }
   ],
   "source": [
    "df.unique()"
   ]
  },
  {
   "cell_type": "code",
   "execution_count": 8,
   "id": "5bb0896b-c15b-436a-82f0-fe7d911c074c",
   "metadata": {},
   "outputs": [
    {
     "name": "stdout",
     "output_type": "stream",
     "text": [
      "<class 'pandas.core.frame.DataFrame'>\n",
      "RangeIndex: 799 entries, 0 to 798\n",
      "Data columns (total 10 columns):\n",
      " #   Column                                            Non-Null Count  Dtype  \n",
      "---  ------                                            --------------  -----  \n",
      " 0   Child participated in POLIO campaign August 2013  799 non-null    int64  \n",
      " 1    diarrhea_status                                  799 non-null    object \n",
      " 2   weight                                            799 non-null    float64\n",
      " 3   height                                            799 non-null    float64\n",
      " 4   residence                                         799 non-null    object \n",
      " 5   Sex                                               799 non-null    object \n",
      " 6   age                                               799 non-null    int64  \n",
      " 7   age_category                                      799 non-null    object \n",
      " 8   education                                         768 non-null    object \n",
      " 9   wealth_index                                      799 non-null    object \n",
      "dtypes: float64(2), int64(2), object(6)\n",
      "memory usage: 62.6+ KB\n"
     ]
    }
   ],
   "source": [
    "df.info()"
   ]
  },
  {
   "cell_type": "code",
   "execution_count": 3,
   "id": "3a64f305-cfaa-490a-be9d-7e98335ade9c",
   "metadata": {},
   "outputs": [
    {
     "name": "stdout",
     "output_type": "stream",
     "text": [
      "['Rural' 'Urban']\n"
     ]
    }
   ],
   "source": [
    "print(df['residence'].unique())"
   ]
  },
  {
   "cell_type": "code",
   "execution_count": 2,
   "id": "c3b20db7-05d2-4d1e-9187-c68b2f36681c",
   "metadata": {},
   "outputs": [
    {
     "name": "stdout",
     "output_type": "stream",
     "text": [
      "education\n",
      "Primary       476\n",
      "Secondary+    292\n",
      "Name: count, dtype: int64\n"
     ]
    }
   ],
   "source": [
    "print(df['education'].value_counts())"
   ]
  },
  {
   "cell_type": "code",
   "execution_count": 3,
   "id": "7bb4bd32-f1e8-427e-add2-e29ff75c44d5",
   "metadata": {},
   "outputs": [
    {
     "name": "stdout",
     "output_type": "stream",
     "text": [
      "wealth_index\n",
      "Poorest    197\n",
      "Fourth     156\n",
      "Second     154\n",
      "Richest    152\n",
      "Middle     140\n",
      "Name: count, dtype: int64\n"
     ]
    }
   ],
   "source": [
    "print(df['wealth_index'].value_counts())"
   ]
  },
  {
   "cell_type": "code",
   "execution_count": 6,
   "id": "436d9919-74b1-4b62-bfda-2b19d9c5f9bf",
   "metadata": {},
   "outputs": [
    {
     "name": "stdout",
     "output_type": "stream",
     "text": [
      "   Child participated in POLIO campaign August 2013  diarrhea_status  weight  \\\n",
      "0                                                 1               No    16.2   \n",
      "1                                                 1               No    13.5   \n",
      "2                                                 1               No    13.4   \n",
      "3                                                 1               No    15.0   \n",
      "4                                                 1               No    15.2   \n",
      "\n",
      "   height residence     Sex  age age_category   education wealth_index  \n",
      "0   102.4     Rural  Female   45        36-47  Secondary+      Richest  \n",
      "1    92.5     Rural    Male   45        36-47     Primary       Second  \n",
      "2    88.5     Rural    Male   36        36-47     Primary       Fourth  \n",
      "3   101.3     Rural  Female   51        48-59     Primary       Fourth  \n",
      "4   105.0     Rural  Female   56        48-59     Primary       Fourth  \n"
     ]
    }
   ],
   "source": [
    "print(df.head (5))"
   ]
  },
  {
   "cell_type": "code",
   "execution_count": 7,
   "id": "3ea4c48d-7a7c-4a46-8017-f9d0e36fcd91",
   "metadata": {},
   "outputs": [
    {
     "name": "stdout",
     "output_type": "stream",
     "text": [
      "     Child participated in POLIO campaign August 2013  diarrhea_status  \\\n",
      "794                                                 1               No   \n",
      "795                                                 2               No   \n",
      "796                                                 1               No   \n",
      "797                                                 1               No   \n",
      "798                                                 1               No   \n",
      "\n",
      "     weight  height residence     Sex  age age_category   education  \\\n",
      "794     8.3    67.0     Urban  Female    7         6-11     Primary   \n",
      "795     3.5    45.0     Urban    Male    0          0-5  Secondary+   \n",
      "796    15.1    86.0     Urban  Female   56        48-59     Primary   \n",
      "797    10.7    71.2     Urban  Female   18        12-23     Primary   \n",
      "798    10.3    73.0     Urban  Female    7         6-11     Primary   \n",
      "\n",
      "    wealth_index  \n",
      "794       Fourth  \n",
      "795       Fourth  \n",
      "796       Fourth  \n",
      "797       Fourth  \n",
      "798       Middle  \n"
     ]
    }
   ],
   "source": [
    "print(df.tail (5))"
   ]
  },
  {
   "cell_type": "code",
   "execution_count": 2,
   "id": "fbd429e2-bd47-45ae-9bac-8e8e465cb182",
   "metadata": {},
   "outputs": [
    {
     "name": "stdout",
     "output_type": "stream",
     "text": [
      "<class 'pandas.core.frame.DataFrame'>\n",
      "RangeIndex: 799 entries, 0 to 798\n",
      "Data columns (total 10 columns):\n",
      " #   Column                                            Non-Null Count  Dtype  \n",
      "---  ------                                            --------------  -----  \n",
      " 0   Child participated in POLIO campaign August 2013  799 non-null    int64  \n",
      " 1    diarrhea_status                                  799 non-null    object \n",
      " 2   weight                                            799 non-null    float64\n",
      " 3   height                                            799 non-null    float64\n",
      " 4   residence                                         799 non-null    object \n",
      " 5   Sex                                               799 non-null    object \n",
      " 6   age                                               799 non-null    int64  \n",
      " 7   age_category                                      799 non-null    object \n",
      " 8   education                                         768 non-null    object \n",
      " 9   wealth_index                                      799 non-null    object \n",
      "dtypes: float64(2), int64(2), object(6)\n",
      "memory usage: 62.6+ KB\n"
     ]
    }
   ],
   "source": [
    "import pandas as pd\n",
    "df=pd.read_csv(\"childhealthdata.csv\")\n",
    "df.info()\n"
   ]
  },
  {
   "cell_type": "code",
   "execution_count": null,
   "id": "26ba4aaf-48df-4e94-bdcd-058e1ac3bc32",
   "metadata": {},
   "outputs": [],
   "source": [
    "print(summary statistics:\")\n",
    "print(df.describe())"
   ]
  },
  {
   "cell_type": "code",
   "execution_count": 4,
   "id": "733bedfd-d56a-4f30-9a15-12cadfcb45ae",
   "metadata": {},
   "outputs": [
    {
     "name": "stdout",
     "output_type": "stream",
     "text": [
      "0\n"
     ]
    }
   ],
   "source": [
    "i=0\n",
    "if i<5:\n",
    "  print (i)\n",
    "i+=1\n"
   ]
  },
  {
   "cell_type": "code",
   "execution_count": 12,
   "id": "416453dc-dd14-4f5d-84f2-b65c3072f98d",
   "metadata": {},
   "outputs": [
    {
     "name": "stdout",
     "output_type": "stream",
     "text": [
      "x is not positive\n"
     ]
    }
   ],
   "source": [
    "x=-5\n",
    "if x>0:\n",
    "   print (\"x is positive\")\n",
    "else:\n",
    "   print (\"x is not positive\")"
   ]
  },
  {
   "cell_type": "code",
   "execution_count": 2,
   "id": "c62ee7b4-3fa1-4936-87b0-5a3df5257c05",
   "metadata": {},
   "outputs": [
    {
     "name": "stdout",
     "output_type": "stream",
     "text": [
      " area is; 15\n",
      "perimeter is; 16\n"
     ]
    }
   ],
   "source": [
    "l=5\n",
    "w=3\n",
    "area=l*w\n",
    "perimeter=2*(l+w)\n",
    "print(\" area is;\", area)\n",
    "print(\"perimeter is;\",perimeter)"
   ]
  },
  {
   "cell_type": "code",
   "execution_count": null,
   "id": "747c3a8d-a621-46b7-9e39-3fae512bbfcf",
   "metadata": {},
   "outputs": [],
   "source": [
    "i=1\n",
    "while i<=10\n",
    " print (\"i\")\n",
    "i+=1"
   ]
  },
  {
   "cell_type": "code",
   "execution_count": 8,
   "id": "642668af-cc2e-47f4-a213-2bce6078bc0c",
   "metadata": {},
   "outputs": [
    {
     "data": {
      "text/html": [
       "<div>\n",
       "<style scoped>\n",
       "    .dataframe tbody tr th:only-of-type {\n",
       "        vertical-align: middle;\n",
       "    }\n",
       "\n",
       "    .dataframe tbody tr th {\n",
       "        vertical-align: top;\n",
       "    }\n",
       "\n",
       "    .dataframe thead th {\n",
       "        text-align: right;\n",
       "    }\n",
       "</style>\n",
       "<table border=\"1\" class=\"dataframe\">\n",
       "  <thead>\n",
       "    <tr style=\"text-align: right;\">\n",
       "      <th></th>\n",
       "      <th>Child participated in POLIO campaign August 2013</th>\n",
       "      <th>diarrhea_status</th>\n",
       "      <th>weight</th>\n",
       "      <th>height</th>\n",
       "      <th>residence</th>\n",
       "      <th>Sex</th>\n",
       "      <th>age</th>\n",
       "      <th>age_category</th>\n",
       "      <th>education</th>\n",
       "      <th>wealth_index</th>\n",
       "    </tr>\n",
       "  </thead>\n",
       "  <tbody>\n",
       "    <tr>\n",
       "      <th>0</th>\n",
       "      <td>1</td>\n",
       "      <td>No</td>\n",
       "      <td>16.2</td>\n",
       "      <td>102.4</td>\n",
       "      <td>Rural</td>\n",
       "      <td>Female</td>\n",
       "      <td>45</td>\n",
       "      <td>36-47</td>\n",
       "      <td>Secondary+</td>\n",
       "      <td>Richest</td>\n",
       "    </tr>\n",
       "    <tr>\n",
       "      <th>1</th>\n",
       "      <td>1</td>\n",
       "      <td>No</td>\n",
       "      <td>13.5</td>\n",
       "      <td>92.5</td>\n",
       "      <td>Rural</td>\n",
       "      <td>Male</td>\n",
       "      <td>45</td>\n",
       "      <td>36-47</td>\n",
       "      <td>Primary</td>\n",
       "      <td>Second</td>\n",
       "    </tr>\n",
       "    <tr>\n",
       "      <th>2</th>\n",
       "      <td>1</td>\n",
       "      <td>No</td>\n",
       "      <td>13.4</td>\n",
       "      <td>88.5</td>\n",
       "      <td>Rural</td>\n",
       "      <td>Male</td>\n",
       "      <td>36</td>\n",
       "      <td>36-47</td>\n",
       "      <td>Primary</td>\n",
       "      <td>Fourth</td>\n",
       "    </tr>\n",
       "    <tr>\n",
       "      <th>3</th>\n",
       "      <td>1</td>\n",
       "      <td>No</td>\n",
       "      <td>15.0</td>\n",
       "      <td>101.3</td>\n",
       "      <td>Rural</td>\n",
       "      <td>Female</td>\n",
       "      <td>51</td>\n",
       "      <td>48-59</td>\n",
       "      <td>Primary</td>\n",
       "      <td>Fourth</td>\n",
       "    </tr>\n",
       "    <tr>\n",
       "      <th>4</th>\n",
       "      <td>1</td>\n",
       "      <td>No</td>\n",
       "      <td>15.2</td>\n",
       "      <td>105.0</td>\n",
       "      <td>Rural</td>\n",
       "      <td>Female</td>\n",
       "      <td>56</td>\n",
       "      <td>48-59</td>\n",
       "      <td>Primary</td>\n",
       "      <td>Fourth</td>\n",
       "    </tr>\n",
       "  </tbody>\n",
       "</table>\n",
       "</div>"
      ],
      "text/plain": [
       "   Child participated in POLIO campaign August 2013  diarrhea_status  weight  \\\n",
       "0                                                 1               No    16.2   \n",
       "1                                                 1               No    13.5   \n",
       "2                                                 1               No    13.4   \n",
       "3                                                 1               No    15.0   \n",
       "4                                                 1               No    15.2   \n",
       "\n",
       "   height residence     Sex  age age_category   education wealth_index  \n",
       "0   102.4     Rural  Female   45        36-47  Secondary+      Richest  \n",
       "1    92.5     Rural    Male   45        36-47     Primary       Second  \n",
       "2    88.5     Rural    Male   36        36-47     Primary       Fourth  \n",
       "3   101.3     Rural  Female   51        48-59     Primary       Fourth  \n",
       "4   105.0     Rural  Female   56        48-59     Primary       Fourth  "
      ]
     },
     "execution_count": 8,
     "metadata": {},
     "output_type": "execute_result"
    }
   ],
   "source": [
    "\n",
    "df_above_30=df[df['age']>30]\n",
    "df_above_30.head()\n"
   ]
  },
  {
   "cell_type": "code",
   "execution_count": 10,
   "id": "1883e1e7-da91-48a0-a7dd-c675bd037594",
   "metadata": {},
   "outputs": [
    {
     "data": {
      "text/html": [
       "<div>\n",
       "<style scoped>\n",
       "    .dataframe tbody tr th:only-of-type {\n",
       "        vertical-align: middle;\n",
       "    }\n",
       "\n",
       "    .dataframe tbody tr th {\n",
       "        vertical-align: top;\n",
       "    }\n",
       "\n",
       "    .dataframe thead th {\n",
       "        text-align: right;\n",
       "    }\n",
       "</style>\n",
       "<table border=\"1\" class=\"dataframe\">\n",
       "  <thead>\n",
       "    <tr style=\"text-align: right;\">\n",
       "      <th></th>\n",
       "      <th>Child participated in POLIO campaign August 2013</th>\n",
       "      <th>diarrhea_status</th>\n",
       "      <th>weight</th>\n",
       "      <th>height</th>\n",
       "      <th>residence</th>\n",
       "      <th>Sex</th>\n",
       "      <th>age</th>\n",
       "      <th>age_category</th>\n",
       "      <th>education</th>\n",
       "      <th>wealth_index</th>\n",
       "    </tr>\n",
       "  </thead>\n",
       "  <tbody>\n",
       "    <tr>\n",
       "      <th>5</th>\n",
       "      <td>1</td>\n",
       "      <td>Yes</td>\n",
       "      <td>9.9</td>\n",
       "      <td>84.5</td>\n",
       "      <td>Rural</td>\n",
       "      <td>Female</td>\n",
       "      <td>20</td>\n",
       "      <td>12-23</td>\n",
       "      <td>Primary</td>\n",
       "      <td>Fourth</td>\n",
       "    </tr>\n",
       "    <tr>\n",
       "      <th>6</th>\n",
       "      <td>2</td>\n",
       "      <td>No</td>\n",
       "      <td>7.1</td>\n",
       "      <td>70.4</td>\n",
       "      <td>Rural</td>\n",
       "      <td>Female</td>\n",
       "      <td>4</td>\n",
       "      <td>0-5</td>\n",
       "      <td>Primary</td>\n",
       "      <td>Fourth</td>\n",
       "    </tr>\n",
       "    <tr>\n",
       "      <th>7</th>\n",
       "      <td>1</td>\n",
       "      <td>No</td>\n",
       "      <td>13.8</td>\n",
       "      <td>89.5</td>\n",
       "      <td>Rural</td>\n",
       "      <td>Male</td>\n",
       "      <td>27</td>\n",
       "      <td>24-35</td>\n",
       "      <td>Primary</td>\n",
       "      <td>Richest</td>\n",
       "    </tr>\n",
       "    <tr>\n",
       "      <th>9</th>\n",
       "      <td>1</td>\n",
       "      <td>Yes</td>\n",
       "      <td>8.2</td>\n",
       "      <td>73.9</td>\n",
       "      <td>Rural</td>\n",
       "      <td>Female</td>\n",
       "      <td>18</td>\n",
       "      <td>12-23</td>\n",
       "      <td>Primary</td>\n",
       "      <td>Poorest</td>\n",
       "    </tr>\n",
       "    <tr>\n",
       "      <th>12</th>\n",
       "      <td>1</td>\n",
       "      <td>Yes</td>\n",
       "      <td>8.0</td>\n",
       "      <td>77.7</td>\n",
       "      <td>Rural</td>\n",
       "      <td>Female</td>\n",
       "      <td>26</td>\n",
       "      <td>24-35</td>\n",
       "      <td>Primary</td>\n",
       "      <td>Poorest</td>\n",
       "    </tr>\n",
       "  </tbody>\n",
       "</table>\n",
       "</div>"
      ],
      "text/plain": [
       "    Child participated in POLIO campaign August 2013  diarrhea_status  weight  \\\n",
       "5                                                  1              Yes     9.9   \n",
       "6                                                  2               No     7.1   \n",
       "7                                                  1               No    13.8   \n",
       "9                                                  1              Yes     8.2   \n",
       "12                                                 1              Yes     8.0   \n",
       "\n",
       "    height residence     Sex  age age_category education wealth_index  \n",
       "5     84.5     Rural  Female   20        12-23   Primary       Fourth  \n",
       "6     70.4     Rural  Female    4          0-5   Primary       Fourth  \n",
       "7     89.5     Rural    Male   27        24-35   Primary      Richest  \n",
       "9     73.9     Rural  Female   18        12-23   Primary      Poorest  \n",
       "12    77.7     Rural  Female   26        24-35   Primary      Poorest  "
      ]
     },
     "execution_count": 10,
     "metadata": {},
     "output_type": "execute_result"
    }
   ],
   "source": [
    "df_30_and_less=df[df['age']<=30]\n",
    "df_30_and_less.head()"
   ]
  },
  {
   "cell_type": "code",
   "execution_count": 11,
   "id": "bf4e5f69-0d29-4c3a-89f3-429671f33e54",
   "metadata": {},
   "outputs": [
    {
     "data": {
      "text/html": [
       "<div>\n",
       "<style scoped>\n",
       "    .dataframe tbody tr th:only-of-type {\n",
       "        vertical-align: middle;\n",
       "    }\n",
       "\n",
       "    .dataframe tbody tr th {\n",
       "        vertical-align: top;\n",
       "    }\n",
       "\n",
       "    .dataframe thead th {\n",
       "        text-align: right;\n",
       "    }\n",
       "</style>\n",
       "<table border=\"1\" class=\"dataframe\">\n",
       "  <thead>\n",
       "    <tr style=\"text-align: right;\">\n",
       "      <th></th>\n",
       "      <th>Child participated in POLIO campaign August 2013</th>\n",
       "      <th>diarrhea_status</th>\n",
       "      <th>weight</th>\n",
       "      <th>height</th>\n",
       "      <th>residence</th>\n",
       "      <th>Sex</th>\n",
       "      <th>age</th>\n",
       "      <th>age_category</th>\n",
       "      <th>education</th>\n",
       "      <th>wealth_index</th>\n",
       "    </tr>\n",
       "  </thead>\n",
       "  <tbody>\n",
       "    <tr>\n",
       "      <th>9</th>\n",
       "      <td>1</td>\n",
       "      <td>Yes</td>\n",
       "      <td>8.2</td>\n",
       "      <td>73.9</td>\n",
       "      <td>Rural</td>\n",
       "      <td>Female</td>\n",
       "      <td>18</td>\n",
       "      <td>12-23</td>\n",
       "      <td>Primary</td>\n",
       "      <td>Poorest</td>\n",
       "    </tr>\n",
       "    <tr>\n",
       "      <th>207</th>\n",
       "      <td>1</td>\n",
       "      <td>Yes</td>\n",
       "      <td>9.7</td>\n",
       "      <td>75.4</td>\n",
       "      <td>Rural</td>\n",
       "      <td>Female</td>\n",
       "      <td>18</td>\n",
       "      <td>12-23</td>\n",
       "      <td>Secondary+</td>\n",
       "      <td>Poorest</td>\n",
       "    </tr>\n",
       "    <tr>\n",
       "      <th>273</th>\n",
       "      <td>1</td>\n",
       "      <td>No</td>\n",
       "      <td>10.4</td>\n",
       "      <td>81.5</td>\n",
       "      <td>Urban</td>\n",
       "      <td>Female</td>\n",
       "      <td>18</td>\n",
       "      <td>12-23</td>\n",
       "      <td>Secondary+</td>\n",
       "      <td>Middle</td>\n",
       "    </tr>\n",
       "    <tr>\n",
       "      <th>652</th>\n",
       "      <td>1</td>\n",
       "      <td>No</td>\n",
       "      <td>10.0</td>\n",
       "      <td>80.5</td>\n",
       "      <td>Urban</td>\n",
       "      <td>Female</td>\n",
       "      <td>18</td>\n",
       "      <td>12-23</td>\n",
       "      <td>Secondary+</td>\n",
       "      <td>Richest</td>\n",
       "    </tr>\n",
       "    <tr>\n",
       "      <th>671</th>\n",
       "      <td>2</td>\n",
       "      <td>No</td>\n",
       "      <td>10.1</td>\n",
       "      <td>78.3</td>\n",
       "      <td>Urban</td>\n",
       "      <td>Female</td>\n",
       "      <td>18</td>\n",
       "      <td>12-23</td>\n",
       "      <td>Primary</td>\n",
       "      <td>Fourth</td>\n",
       "    </tr>\n",
       "  </tbody>\n",
       "</table>\n",
       "</div>"
      ],
      "text/plain": [
       "     Child participated in POLIO campaign August 2013  diarrhea_status  \\\n",
       "9                                                   1              Yes   \n",
       "207                                                 1              Yes   \n",
       "273                                                 1               No   \n",
       "652                                                 1               No   \n",
       "671                                                 2               No   \n",
       "\n",
       "     weight  height residence     Sex  age age_category   education  \\\n",
       "9       8.2    73.9     Rural  Female   18        12-23     Primary   \n",
       "207     9.7    75.4     Rural  Female   18        12-23  Secondary+   \n",
       "273    10.4    81.5     Urban  Female   18        12-23  Secondary+   \n",
       "652    10.0    80.5     Urban  Female   18        12-23  Secondary+   \n",
       "671    10.1    78.3     Urban  Female   18        12-23     Primary   \n",
       "\n",
       "    wealth_index  \n",
       "9        Poorest  \n",
       "207      Poorest  \n",
       "273       Middle  \n",
       "652      Richest  \n",
       "671       Fourth  "
      ]
     },
     "execution_count": 11,
     "metadata": {},
     "output_type": "execute_result"
    }
   ],
   "source": [
    "df_18=df[(df['age']==18)&(df['Sex']=='Female')]\n",
    "df_18.head()"
   ]
  },
  {
   "cell_type": "code",
   "execution_count": 25,
   "id": "3bcbd265-df9c-47af-a8e8-1f037b5937e4",
   "metadata": {},
   "outputs": [
    {
     "data": {
      "text/html": [
       "<div>\n",
       "<style scoped>\n",
       "    .dataframe tbody tr th:only-of-type {\n",
       "        vertical-align: middle;\n",
       "    }\n",
       "\n",
       "    .dataframe tbody tr th {\n",
       "        vertical-align: top;\n",
       "    }\n",
       "\n",
       "    .dataframe thead th {\n",
       "        text-align: right;\n",
       "    }\n",
       "</style>\n",
       "<table border=\"1\" class=\"dataframe\">\n",
       "  <thead>\n",
       "    <tr style=\"text-align: right;\">\n",
       "      <th></th>\n",
       "      <th>Child participated in POLIO campaign August 2013</th>\n",
       "      <th>diarrhea_status</th>\n",
       "      <th>weight</th>\n",
       "      <th>height</th>\n",
       "      <th>residence</th>\n",
       "      <th>Sex</th>\n",
       "      <th>age</th>\n",
       "      <th>age_category</th>\n",
       "      <th>education</th>\n",
       "      <th>wealth_index</th>\n",
       "    </tr>\n",
       "  </thead>\n",
       "  <tbody>\n",
       "    <tr>\n",
       "      <th>512</th>\n",
       "      <td>1</td>\n",
       "      <td>No</td>\n",
       "      <td>16.8</td>\n",
       "      <td>104.8</td>\n",
       "      <td>Rural</td>\n",
       "      <td>Female</td>\n",
       "      <td>59</td>\n",
       "      <td>48-59</td>\n",
       "      <td>Secondary+</td>\n",
       "      <td>Second</td>\n",
       "    </tr>\n",
       "    <tr>\n",
       "      <th>75</th>\n",
       "      <td>2</td>\n",
       "      <td>No</td>\n",
       "      <td>15.8</td>\n",
       "      <td>104.4</td>\n",
       "      <td>Rural</td>\n",
       "      <td>Male</td>\n",
       "      <td>59</td>\n",
       "      <td>48-59</td>\n",
       "      <td>Primary</td>\n",
       "      <td>Second</td>\n",
       "    </tr>\n",
       "    <tr>\n",
       "      <th>310</th>\n",
       "      <td>1</td>\n",
       "      <td>No</td>\n",
       "      <td>17.0</td>\n",
       "      <td>105.3</td>\n",
       "      <td>Urban</td>\n",
       "      <td>Male</td>\n",
       "      <td>59</td>\n",
       "      <td>48-59</td>\n",
       "      <td>Secondary+</td>\n",
       "      <td>Richest</td>\n",
       "    </tr>\n",
       "    <tr>\n",
       "      <th>196</th>\n",
       "      <td>1</td>\n",
       "      <td>No</td>\n",
       "      <td>16.0</td>\n",
       "      <td>102.4</td>\n",
       "      <td>Rural</td>\n",
       "      <td>Male</td>\n",
       "      <td>59</td>\n",
       "      <td>48-59</td>\n",
       "      <td>Primary</td>\n",
       "      <td>Poorest</td>\n",
       "    </tr>\n",
       "    <tr>\n",
       "      <th>723</th>\n",
       "      <td>1</td>\n",
       "      <td>No</td>\n",
       "      <td>15.6</td>\n",
       "      <td>88.5</td>\n",
       "      <td>Urban</td>\n",
       "      <td>Female</td>\n",
       "      <td>59</td>\n",
       "      <td>48-59</td>\n",
       "      <td>Primary</td>\n",
       "      <td>Second</td>\n",
       "    </tr>\n",
       "  </tbody>\n",
       "</table>\n",
       "</div>"
      ],
      "text/plain": [
       "     Child participated in POLIO campaign August 2013  diarrhea_status  \\\n",
       "512                                                 1               No   \n",
       "75                                                  2               No   \n",
       "310                                                 1               No   \n",
       "196                                                 1               No   \n",
       "723                                                 1               No   \n",
       "\n",
       "     weight  height residence     Sex  age age_category   education  \\\n",
       "512    16.8   104.8     Rural  Female   59        48-59  Secondary+   \n",
       "75     15.8   104.4     Rural    Male   59        48-59     Primary   \n",
       "310    17.0   105.3     Urban    Male   59        48-59  Secondary+   \n",
       "196    16.0   102.4     Rural    Male   59        48-59     Primary   \n",
       "723    15.6    88.5     Urban  Female   59        48-59     Primary   \n",
       "\n",
       "    wealth_index  \n",
       "512       Second  \n",
       "75        Second  \n",
       "310      Richest  \n",
       "196      Poorest  \n",
       "723       Second  "
      ]
     },
     "execution_count": 25,
     "metadata": {},
     "output_type": "execute_result"
    }
   ],
   "source": [
    "sorted_df=df.sort_values(by='age',ascending=False)\n",
    "sorted_df.head()"
   ]
  },
  {
   "cell_type": "code",
   "execution_count": 10,
   "id": "f5a2d181-f870-499f-bb9e-3fd51ed96f30",
   "metadata": {},
   "outputs": [
    {
     "data": {
      "text/html": [
       "<div>\n",
       "<style scoped>\n",
       "    .dataframe tbody tr th:only-of-type {\n",
       "        vertical-align: middle;\n",
       "    }\n",
       "\n",
       "    .dataframe tbody tr th {\n",
       "        vertical-align: top;\n",
       "    }\n",
       "\n",
       "    .dataframe thead th {\n",
       "        text-align: right;\n",
       "    }\n",
       "</style>\n",
       "<table border=\"1\" class=\"dataframe\">\n",
       "  <thead>\n",
       "    <tr style=\"text-align: right;\">\n",
       "      <th></th>\n",
       "      <th>Child participated in POLIO campaign August 2013</th>\n",
       "      <th>diarrhea_status</th>\n",
       "      <th>weight</th>\n",
       "      <th>height</th>\n",
       "      <th>residence</th>\n",
       "      <th>Sex</th>\n",
       "      <th>age</th>\n",
       "      <th>age_category</th>\n",
       "      <th>education</th>\n",
       "      <th>wealth_index</th>\n",
       "      <th>is_adult</th>\n",
       "    </tr>\n",
       "  </thead>\n",
       "  <tbody>\n",
       "    <tr>\n",
       "      <th>496</th>\n",
       "      <td>2</td>\n",
       "      <td>No</td>\n",
       "      <td>4.0</td>\n",
       "      <td>51.2</td>\n",
       "      <td>Rural</td>\n",
       "      <td>Male</td>\n",
       "      <td>0</td>\n",
       "      <td>0-5</td>\n",
       "      <td>Secondary+</td>\n",
       "      <td>Poorest</td>\n",
       "      <td>No</td>\n",
       "    </tr>\n",
       "    <tr>\n",
       "      <th>36</th>\n",
       "      <td>2</td>\n",
       "      <td>No</td>\n",
       "      <td>5.2</td>\n",
       "      <td>51.0</td>\n",
       "      <td>Rural</td>\n",
       "      <td>Male</td>\n",
       "      <td>0</td>\n",
       "      <td>0-5</td>\n",
       "      <td>Primary</td>\n",
       "      <td>Second</td>\n",
       "      <td>No</td>\n",
       "    </tr>\n",
       "    <tr>\n",
       "      <th>456</th>\n",
       "      <td>2</td>\n",
       "      <td>No</td>\n",
       "      <td>3.2</td>\n",
       "      <td>48.2</td>\n",
       "      <td>Rural</td>\n",
       "      <td>Female</td>\n",
       "      <td>0</td>\n",
       "      <td>0-5</td>\n",
       "      <td>Primary</td>\n",
       "      <td>Poorest</td>\n",
       "      <td>No</td>\n",
       "    </tr>\n",
       "    <tr>\n",
       "      <th>548</th>\n",
       "      <td>2</td>\n",
       "      <td>Yes</td>\n",
       "      <td>3.5</td>\n",
       "      <td>58.0</td>\n",
       "      <td>Rural</td>\n",
       "      <td>Male</td>\n",
       "      <td>0</td>\n",
       "      <td>0-5</td>\n",
       "      <td>Secondary+</td>\n",
       "      <td>Fourth</td>\n",
       "      <td>No</td>\n",
       "    </tr>\n",
       "    <tr>\n",
       "      <th>153</th>\n",
       "      <td>2</td>\n",
       "      <td>No</td>\n",
       "      <td>4.1</td>\n",
       "      <td>51.6</td>\n",
       "      <td>Rural</td>\n",
       "      <td>Female</td>\n",
       "      <td>0</td>\n",
       "      <td>0-5</td>\n",
       "      <td>Secondary+</td>\n",
       "      <td>Fourth</td>\n",
       "      <td>No</td>\n",
       "    </tr>\n",
       "  </tbody>\n",
       "</table>\n",
       "</div>"
      ],
      "text/plain": [
       "     Child participated in POLIO campaign August 2013  diarrhea_status  \\\n",
       "496                                                 2               No   \n",
       "36                                                  2               No   \n",
       "456                                                 2               No   \n",
       "548                                                 2              Yes   \n",
       "153                                                 2               No   \n",
       "\n",
       "     weight  height residence     Sex  age age_category   education  \\\n",
       "496     4.0    51.2     Rural    Male    0          0-5  Secondary+   \n",
       "36      5.2    51.0     Rural    Male    0          0-5     Primary   \n",
       "456     3.2    48.2     Rural  Female    0          0-5     Primary   \n",
       "548     3.5    58.0     Rural    Male    0          0-5  Secondary+   \n",
       "153     4.1    51.6     Rural  Female    0          0-5  Secondary+   \n",
       "\n",
       "    wealth_index is_adult  \n",
       "496      Poorest       No  \n",
       "36        Second       No  \n",
       "456      Poorest       No  \n",
       "548       Fourth       No  \n",
       "153       Fourth       No  "
      ]
     },
     "execution_count": 10,
     "metadata": {},
     "output_type": "execute_result"
    }
   ],
   "source": [
    "sorted_df=df.sort_values(by='age',ascending=True)\n",
    "sorted_df.head()"
   ]
  },
  {
   "cell_type": "code",
   "execution_count": 49,
   "id": "891c7931-99a8-4418-8987-fd2f20689748",
   "metadata": {},
   "outputs": [
    {
     "data": {
      "text/plain": [
       "age\n",
       "0      7\n",
       "1     10\n",
       "2     10\n",
       "3     12\n",
       "4     17\n",
       "5     24\n",
       "6     22\n",
       "7     11\n",
       "8     16\n",
       "9     14\n",
       "10    12\n",
       "11     7\n",
       "12    12\n",
       "13    13\n",
       "14    12\n",
       "15    18\n",
       "16    10\n",
       "17     8\n",
       "18    14\n",
       "19    11\n",
       "20    23\n",
       "21     8\n",
       "22    11\n",
       "23     8\n",
       "24    13\n",
       "25    18\n",
       "26    10\n",
       "27    13\n",
       "28    12\n",
       "29    11\n",
       "30     9\n",
       "31    12\n",
       "32    12\n",
       "33    14\n",
       "34    14\n",
       "35    20\n",
       "36    16\n",
       "37    19\n",
       "38    18\n",
       "39    20\n",
       "40    23\n",
       "41    14\n",
       "42    14\n",
       "43    19\n",
       "44    14\n",
       "45    16\n",
       "46     9\n",
       "47    14\n",
       "48    12\n",
       "49    11\n",
       "50     9\n",
       "51    16\n",
       "52    16\n",
       "53     8\n",
       "54    10\n",
       "55     6\n",
       "56    17\n",
       "57     8\n",
       "58     9\n",
       "59    13\n",
       "dtype: int64"
      ]
     },
     "execution_count": 49,
     "metadata": {},
     "output_type": "execute_result"
    }
   ],
   "source": [
    "df.groupby('age').size()"
   ]
  },
  {
   "cell_type": "code",
   "execution_count": 8,
   "id": "bf5ca928-c83b-49eb-a147-997768b8b813",
   "metadata": {},
   "outputs": [
    {
     "data": {
      "text/html": [
       "<div>\n",
       "<style scoped>\n",
       "    .dataframe tbody tr th:only-of-type {\n",
       "        vertical-align: middle;\n",
       "    }\n",
       "\n",
       "    .dataframe tbody tr th {\n",
       "        vertical-align: top;\n",
       "    }\n",
       "\n",
       "    .dataframe thead th {\n",
       "        text-align: right;\n",
       "    }\n",
       "</style>\n",
       "<table border=\"1\" class=\"dataframe\">\n",
       "  <thead>\n",
       "    <tr style=\"text-align: right;\">\n",
       "      <th></th>\n",
       "      <th>Child participated in POLIO campaign August 2013</th>\n",
       "      <th>diarrhea_status</th>\n",
       "      <th>weight</th>\n",
       "      <th>height</th>\n",
       "      <th>residence</th>\n",
       "      <th>Sex</th>\n",
       "      <th>age</th>\n",
       "      <th>age_category</th>\n",
       "      <th>education</th>\n",
       "      <th>wealth_index</th>\n",
       "      <th>is_adult</th>\n",
       "    </tr>\n",
       "  </thead>\n",
       "  <tbody>\n",
       "    <tr>\n",
       "      <th>0</th>\n",
       "      <td>1</td>\n",
       "      <td>No</td>\n",
       "      <td>16.2</td>\n",
       "      <td>102.4</td>\n",
       "      <td>Rural</td>\n",
       "      <td>Female</td>\n",
       "      <td>45</td>\n",
       "      <td>36-47</td>\n",
       "      <td>Secondary+</td>\n",
       "      <td>Richest</td>\n",
       "      <td>Yes</td>\n",
       "    </tr>\n",
       "    <tr>\n",
       "      <th>1</th>\n",
       "      <td>1</td>\n",
       "      <td>No</td>\n",
       "      <td>13.5</td>\n",
       "      <td>92.5</td>\n",
       "      <td>Rural</td>\n",
       "      <td>Male</td>\n",
       "      <td>45</td>\n",
       "      <td>36-47</td>\n",
       "      <td>Primary</td>\n",
       "      <td>Second</td>\n",
       "      <td>Yes</td>\n",
       "    </tr>\n",
       "    <tr>\n",
       "      <th>2</th>\n",
       "      <td>1</td>\n",
       "      <td>No</td>\n",
       "      <td>13.4</td>\n",
       "      <td>88.5</td>\n",
       "      <td>Rural</td>\n",
       "      <td>Male</td>\n",
       "      <td>36</td>\n",
       "      <td>36-47</td>\n",
       "      <td>Primary</td>\n",
       "      <td>Fourth</td>\n",
       "      <td>Yes</td>\n",
       "    </tr>\n",
       "    <tr>\n",
       "      <th>3</th>\n",
       "      <td>1</td>\n",
       "      <td>No</td>\n",
       "      <td>15.0</td>\n",
       "      <td>101.3</td>\n",
       "      <td>Rural</td>\n",
       "      <td>Female</td>\n",
       "      <td>51</td>\n",
       "      <td>48-59</td>\n",
       "      <td>Primary</td>\n",
       "      <td>Fourth</td>\n",
       "      <td>Yes</td>\n",
       "    </tr>\n",
       "    <tr>\n",
       "      <th>4</th>\n",
       "      <td>1</td>\n",
       "      <td>No</td>\n",
       "      <td>15.2</td>\n",
       "      <td>105.0</td>\n",
       "      <td>Rural</td>\n",
       "      <td>Female</td>\n",
       "      <td>56</td>\n",
       "      <td>48-59</td>\n",
       "      <td>Primary</td>\n",
       "      <td>Fourth</td>\n",
       "      <td>Yes</td>\n",
       "    </tr>\n",
       "  </tbody>\n",
       "</table>\n",
       "</div>"
      ],
      "text/plain": [
       "   Child participated in POLIO campaign August 2013  diarrhea_status  weight  \\\n",
       "0                                                 1               No    16.2   \n",
       "1                                                 1               No    13.5   \n",
       "2                                                 1               No    13.4   \n",
       "3                                                 1               No    15.0   \n",
       "4                                                 1               No    15.2   \n",
       "\n",
       "   height residence     Sex  age age_category   education wealth_index  \\\n",
       "0   102.4     Rural  Female   45        36-47  Secondary+      Richest   \n",
       "1    92.5     Rural    Male   45        36-47     Primary       Second   \n",
       "2    88.5     Rural    Male   36        36-47     Primary       Fourth   \n",
       "3   101.3     Rural  Female   51        48-59     Primary       Fourth   \n",
       "4   105.0     Rural  Female   56        48-59     Primary       Fourth   \n",
       "\n",
       "  is_adult  \n",
       "0      Yes  \n",
       "1      Yes  \n",
       "2      Yes  \n",
       "3      Yes  \n",
       "4      Yes  "
      ]
     },
     "execution_count": 8,
     "metadata": {},
     "output_type": "execute_result"
    }
   ],
   "source": [
    "df.loc[df['age']>=18,'is_adult']='Yes'\n",
    "df.loc[df['age']<18,'is_adult']='No'\n",
    "df.head()"
   ]
  },
  {
   "cell_type": "code",
   "execution_count": 36,
   "id": "e43e6a3c-5dd1-41a4-819c-3ab7ed21d938",
   "metadata": {},
   "outputs": [],
   "source": [
    "df.drop_duplicates(inplace=True)"
   ]
  },
  {
   "cell_type": "code",
   "execution_count": 39,
   "id": "d55927d4-1a34-45f6-98e8-c2dd58554de1",
   "metadata": {},
   "outputs": [
    {
     "data": {
      "text/html": [
       "<div>\n",
       "<style scoped>\n",
       "    .dataframe tbody tr th:only-of-type {\n",
       "        vertical-align: middle;\n",
       "    }\n",
       "\n",
       "    .dataframe tbody tr th {\n",
       "        vertical-align: top;\n",
       "    }\n",
       "\n",
       "    .dataframe thead th {\n",
       "        text-align: right;\n",
       "    }\n",
       "</style>\n",
       "<table border=\"1\" class=\"dataframe\">\n",
       "  <thead>\n",
       "    <tr style=\"text-align: right;\">\n",
       "      <th></th>\n",
       "      <th>Child participated in POLIO campaign August 2013</th>\n",
       "      <th>diarrhea_status</th>\n",
       "      <th>weight</th>\n",
       "      <th>height</th>\n",
       "      <th>residence</th>\n",
       "      <th>Sex</th>\n",
       "      <th>age</th>\n",
       "      <th>age_category</th>\n",
       "      <th>education</th>\n",
       "      <th>wealth_index</th>\n",
       "      <th>is_adult</th>\n",
       "    </tr>\n",
       "  </thead>\n",
       "  <tbody>\n",
       "    <tr>\n",
       "      <th>0</th>\n",
       "      <td>1</td>\n",
       "      <td>No</td>\n",
       "      <td>16.2</td>\n",
       "      <td>102.4</td>\n",
       "      <td>Rural</td>\n",
       "      <td>FEMALE</td>\n",
       "      <td>45</td>\n",
       "      <td>36-47</td>\n",
       "      <td>Secondary+</td>\n",
       "      <td>Richest</td>\n",
       "      <td>Yes</td>\n",
       "    </tr>\n",
       "    <tr>\n",
       "      <th>1</th>\n",
       "      <td>1</td>\n",
       "      <td>No</td>\n",
       "      <td>13.5</td>\n",
       "      <td>92.5</td>\n",
       "      <td>Rural</td>\n",
       "      <td>MALE</td>\n",
       "      <td>45</td>\n",
       "      <td>36-47</td>\n",
       "      <td>Primary</td>\n",
       "      <td>Second</td>\n",
       "      <td>Yes</td>\n",
       "    </tr>\n",
       "    <tr>\n",
       "      <th>2</th>\n",
       "      <td>1</td>\n",
       "      <td>No</td>\n",
       "      <td>13.4</td>\n",
       "      <td>88.5</td>\n",
       "      <td>Rural</td>\n",
       "      <td>MALE</td>\n",
       "      <td>36</td>\n",
       "      <td>36-47</td>\n",
       "      <td>Primary</td>\n",
       "      <td>Fourth</td>\n",
       "      <td>Yes</td>\n",
       "    </tr>\n",
       "    <tr>\n",
       "      <th>3</th>\n",
       "      <td>1</td>\n",
       "      <td>No</td>\n",
       "      <td>15.0</td>\n",
       "      <td>101.3</td>\n",
       "      <td>Rural</td>\n",
       "      <td>FEMALE</td>\n",
       "      <td>51</td>\n",
       "      <td>48-59</td>\n",
       "      <td>Primary</td>\n",
       "      <td>Fourth</td>\n",
       "      <td>Yes</td>\n",
       "    </tr>\n",
       "    <tr>\n",
       "      <th>4</th>\n",
       "      <td>1</td>\n",
       "      <td>No</td>\n",
       "      <td>15.2</td>\n",
       "      <td>105.0</td>\n",
       "      <td>Rural</td>\n",
       "      <td>FEMALE</td>\n",
       "      <td>56</td>\n",
       "      <td>48-59</td>\n",
       "      <td>Primary</td>\n",
       "      <td>Fourth</td>\n",
       "      <td>Yes</td>\n",
       "    </tr>\n",
       "  </tbody>\n",
       "</table>\n",
       "</div>"
      ],
      "text/plain": [
       "   Child participated in POLIO campaign August 2013  diarrhea_status  weight  \\\n",
       "0                                                 1               No    16.2   \n",
       "1                                                 1               No    13.5   \n",
       "2                                                 1               No    13.4   \n",
       "3                                                 1               No    15.0   \n",
       "4                                                 1               No    15.2   \n",
       "\n",
       "   height residence     Sex  age age_category   education wealth_index  \\\n",
       "0   102.4     Rural  FEMALE   45        36-47  Secondary+      Richest   \n",
       "1    92.5     Rural    MALE   45        36-47     Primary       Second   \n",
       "2    88.5     Rural    MALE   36        36-47     Primary       Fourth   \n",
       "3   101.3     Rural  FEMALE   51        48-59     Primary       Fourth   \n",
       "4   105.0     Rural  FEMALE   56        48-59     Primary       Fourth   \n",
       "\n",
       "  is_adult  \n",
       "0      Yes  \n",
       "1      Yes  \n",
       "2      Yes  \n",
       "3      Yes  \n",
       "4      Yes  "
      ]
     },
     "execution_count": 39,
     "metadata": {},
     "output_type": "execute_result"
    }
   ],
   "source": [
    "df['Sex']=df['Sex'].str.upper()#or lower\n",
    "df.head()"
   ]
  },
  {
   "cell_type": "code",
   "execution_count": 7,
   "id": "7b6d165b-256c-403b-b41e-d4ab03a20eb7",
   "metadata": {},
   "outputs": [
    {
     "ename": "NameError",
     "evalue": "name 'df1' is not defined",
     "output_type": "error",
     "traceback": [
      "\u001b[1;31m---------------------------------------------------------------------------\u001b[0m",
      "\u001b[1;31mNameError\u001b[0m                                 Traceback (most recent call last)",
      "Cell \u001b[1;32mIn[7], line 1\u001b[0m\n\u001b[1;32m----> 1\u001b[0m merged_df\u001b[38;5;241m=\u001b[39mpd\u001b[38;5;241m.\u001b[39mmerge(df1,df2,on\u001b[38;5;241m=\u001b[39m\u001b[38;5;124m'\u001b[39m\u001b[38;5;124mcommon_column\u001b[39m\u001b[38;5;124m'\u001b[39m)\n",
      "\u001b[1;31mNameError\u001b[0m: name 'df1' is not defined"
     ]
    }
   ],
   "source": [
    "merged_df=pd.merge(df1,df2,on='common_column')"
   ]
  },
  {
   "cell_type": "code",
   "execution_count": 4,
   "id": "4b1de2e3-00ba-413e-8a2b-13381a209a0e",
   "metadata": {},
   "outputs": [],
   "source": [
    "\n",
    "import matplotlib.pyplot as plt"
   ]
  },
  {
   "cell_type": "code",
   "execution_count": 23,
   "id": "c5587485-55f9-4499-95e2-e5861017626a",
   "metadata": {},
   "outputs": [],
   "source": [
    "df=pd.read_csv(\"childhealthdata.csv\")"
   ]
  },
  {
   "cell_type": "code",
   "execution_count": 6,
   "id": "d23e12e7-a4ab-49f1-852a-a087a3de2ae8",
   "metadata": {},
   "outputs": [],
   "source": [
    "Data=pd.read_csv(\"childhealthdata.csv\")"
   ]
  },
  {
   "cell_type": "code",
   "execution_count": 15,
   "id": "c422b718-4d33-488a-9f9b-0af6e8c251da",
   "metadata": {},
   "outputs": [
    {
     "data": {
      "text/plain": [
       "(799, 10)"
      ]
     },
     "execution_count": 15,
     "metadata": {},
     "output_type": "execute_result"
    }
   ],
   "source": [
    "Data.shape"
   ]
  },
  {
   "cell_type": "code",
   "execution_count": 13,
   "id": "89dd766e-fda6-4002-a617-187ad53e4e39",
   "metadata": {},
   "outputs": [
    {
     "data": {
      "text/plain": [
       "<bound method NDFrame.head of      Child participated in POLIO campaign August 2013  diarrhea_status  \\\n",
       "0                                                   1               No   \n",
       "1                                                   1               No   \n",
       "2                                                   1               No   \n",
       "3                                                   1               No   \n",
       "4                                                   1               No   \n",
       "..                                                ...              ...   \n",
       "794                                                 1               No   \n",
       "795                                                 2               No   \n",
       "796                                                 1               No   \n",
       "797                                                 1               No   \n",
       "798                                                 1               No   \n",
       "\n",
       "     weight  height residence     Sex  age age_category   education  \\\n",
       "0      16.2   102.4     Rural  Female   45        36-47  Secondary+   \n",
       "1      13.5    92.5     Rural    Male   45        36-47     Primary   \n",
       "2      13.4    88.5     Rural    Male   36        36-47     Primary   \n",
       "3      15.0   101.3     Rural  Female   51        48-59     Primary   \n",
       "4      15.2   105.0     Rural  Female   56        48-59     Primary   \n",
       "..      ...     ...       ...     ...  ...          ...         ...   \n",
       "794     8.3    67.0     Urban  Female    7         6-11     Primary   \n",
       "795     3.5    45.0     Urban    Male    0          0-5  Secondary+   \n",
       "796    15.1    86.0     Urban  Female   56        48-59     Primary   \n",
       "797    10.7    71.2     Urban  Female   18        12-23     Primary   \n",
       "798    10.3    73.0     Urban  Female    7         6-11     Primary   \n",
       "\n",
       "    wealth_index  \n",
       "0        Richest  \n",
       "1         Second  \n",
       "2         Fourth  \n",
       "3         Fourth  \n",
       "4         Fourth  \n",
       "..           ...  \n",
       "794       Fourth  \n",
       "795       Fourth  \n",
       "796       Fourth  \n",
       "797       Fourth  \n",
       "798       Middle  \n",
       "\n",
       "[799 rows x 10 columns]>"
      ]
     },
     "execution_count": 13,
     "metadata": {},
     "output_type": "execute_result"
    }
   ],
   "source": [
    "Data.head"
   ]
  },
  {
   "cell_type": "code",
   "execution_count": 14,
   "id": "03d3d22d-9b04-4b3f-b878-bdd4bf4d7579",
   "metadata": {},
   "outputs": [
    {
     "data": {
      "text/plain": [
       "<bound method NDFrame.tail of      Child participated in POLIO campaign August 2013  diarrhea_status  \\\n",
       "0                                                   1               No   \n",
       "1                                                   1               No   \n",
       "2                                                   1               No   \n",
       "3                                                   1               No   \n",
       "4                                                   1               No   \n",
       "..                                                ...              ...   \n",
       "794                                                 1               No   \n",
       "795                                                 2               No   \n",
       "796                                                 1               No   \n",
       "797                                                 1               No   \n",
       "798                                                 1               No   \n",
       "\n",
       "     weight  height residence     Sex  age age_category   education  \\\n",
       "0      16.2   102.4     Rural  Female   45        36-47  Secondary+   \n",
       "1      13.5    92.5     Rural    Male   45        36-47     Primary   \n",
       "2      13.4    88.5     Rural    Male   36        36-47     Primary   \n",
       "3      15.0   101.3     Rural  Female   51        48-59     Primary   \n",
       "4      15.2   105.0     Rural  Female   56        48-59     Primary   \n",
       "..      ...     ...       ...     ...  ...          ...         ...   \n",
       "794     8.3    67.0     Urban  Female    7         6-11     Primary   \n",
       "795     3.5    45.0     Urban    Male    0          0-5  Secondary+   \n",
       "796    15.1    86.0     Urban  Female   56        48-59     Primary   \n",
       "797    10.7    71.2     Urban  Female   18        12-23     Primary   \n",
       "798    10.3    73.0     Urban  Female    7         6-11     Primary   \n",
       "\n",
       "    wealth_index  \n",
       "0        Richest  \n",
       "1         Second  \n",
       "2         Fourth  \n",
       "3         Fourth  \n",
       "4         Fourth  \n",
       "..           ...  \n",
       "794       Fourth  \n",
       "795       Fourth  \n",
       "796       Fourth  \n",
       "797       Fourth  \n",
       "798       Middle  \n",
       "\n",
       "[799 rows x 10 columns]>"
      ]
     },
     "execution_count": 14,
     "metadata": {},
     "output_type": "execute_result"
    }
   ],
   "source": [
    "Data.tail"
   ]
  },
  {
   "cell_type": "code",
   "execution_count": 15,
   "id": "9345360e-f3bf-4d52-9578-9e31c6b17ad5",
   "metadata": {},
   "outputs": [
    {
     "data": {
      "text/plain": [
       "Index(['Child participated in POLIO campaign August 2013', ' diarrhea_status',\n",
       "       'weight', 'height', 'residence', 'Sex', 'age', 'age_category',\n",
       "       'education', 'wealth_index'],\n",
       "      dtype='object')"
      ]
     },
     "execution_count": 15,
     "metadata": {},
     "output_type": "execute_result"
    }
   ],
   "source": [
    "Data.columns"
   ]
  },
  {
   "cell_type": "code",
   "execution_count": 8,
   "id": "b16cfc5e-6dc7-4e8a-8d33-931d972fb338",
   "metadata": {},
   "outputs": [
    {
     "data": {
      "image/png": "[encoded data removed]",
      "text/plain": [
       "<Figure size 800x600 with 1 Axes>"
      ]
     },
     "metadata": {},
     "output_type": "display_data"
    }
   ],
   "source": [
    "import matplotlib.pyplot as plt\n",
    "gender_counts=Data['Sex'].value_counts()\n",
    "plt.figure(figsize=(8,6))\n",
    "plt.pie(gender_counts,labels=gender_counts.index,\n",
    "autopct='%1.1f%%',startangle=140)\n",
    "plt.title('Distribution by gender')\n",
    "plt.axis('equal')\n",
    "plt.show()\n"
   ]
  },
  {
   "cell_type": "code",
   "execution_count": 19,
   "id": "efebc6ee-5abe-4cde-8020-5df047df6181",
   "metadata": {},
   "outputs": [
    {
     "data": {
      "image/png": "[encoded data removed]",
      "text/plain": [
       "<Figure size 1000x600 with 1 Axes>"
      ]
     },
     "metadata": {},
     "output_type": "display_data"
    }
   ],
   "source": [
    "education_counts=Data['education'].value_counts()\n",
    "plt.figure(figsize=(10,6))\n",
    "plt.bar(education_counts.index,education_counts.values,\n",
    "color='skyblue')\n",
    "plt.xlabel('education')\n",
    "plt.ylabel('count')\n",
    "plt.title('Distribution by education')\n",
    "plt.xticks(rotation=45)#Rotate labels if needed for better readerbility\n",
    "plt.show()"
   ]
  },
  {
   "cell_type": "code",
   "execution_count": 26,
   "id": "ff2d4800-a66b-4da9-8166-f5ba6066ede4",
   "metadata": {},
   "outputs": [
    {
     "data": {
      "image/png": "[encoded data removed]",
      "text/plain": [
       "<Figure size 800x600 with 1 Axes>"
      ]
     },
     "metadata": {},
     "output_type": "display_data"
    }
   ],
   "source": [
    "plt.figure(figsize=(8,6))\n",
    "plt.hist(Data['age'],bins=15,color='skyblue',edgecolor='black')\n",
    "plt.title('Distribution of age')\n",
    "plt.xlabel('Age')\n",
    "plt.ylabel('Frequency')\n",
    "plt.show()"
   ]
  },
  {
   "cell_type": "code",
   "execution_count": 9,
   "id": "832bc87a-1ce6-47b7-9dab-6c16e7cdde9f",
   "metadata": {},
   "outputs": [
    {
     "ename": "KeyError",
     "evalue": "'Reported_Cases'",
     "output_type": "error",
     "traceback": [
      "\u001b[1;31m---------------------------------------------------------------------------\u001b[0m",
      "\u001b[1;31mKeyError\u001b[0m                                  Traceback (most recent call last)",
      "File \u001b[1;32mC:\\ProgramData\\anaconda3\\Lib\\site-packages\\pandas\\core\\indexes\\base.py:3791\u001b[0m, in \u001b[0;36mIndex.get_loc\u001b[1;34m(self, key)\u001b[0m\n\u001b[0;32m   3790\u001b[0m \u001b[38;5;28;01mtry\u001b[39;00m:\n\u001b[1;32m-> 3791\u001b[0m     \u001b[38;5;28;01mreturn\u001b[39;00m \u001b[38;5;28mself\u001b[39m\u001b[38;5;241m.\u001b[39m_engine\u001b[38;5;241m.\u001b[39mget_loc(casted_key)\n\u001b[0;32m   3792\u001b[0m \u001b[38;5;28;01mexcept\u001b[39;00m \u001b[38;5;167;01mKeyError\u001b[39;00m \u001b[38;5;28;01mas\u001b[39;00m err:\n",
      "File \u001b[1;32mindex.pyx:152\u001b[0m, in \u001b[0;36mpandas._libs.index.IndexEngine.get_loc\u001b[1;34m()\u001b[0m\n",
      "File \u001b[1;32mindex.pyx:181\u001b[0m, in \u001b[0;36mpandas._libs.index.IndexEngine.get_loc\u001b[1;34m()\u001b[0m\n",
      "File \u001b[1;32mpandas\\_libs\\hashtable_class_helper.pxi:7080\u001b[0m, in \u001b[0;36mpandas._libs.hashtable.PyObjectHashTable.get_item\u001b[1;34m()\u001b[0m\n",
      "File \u001b[1;32mpandas\\_libs\\hashtable_class_helper.pxi:7088\u001b[0m, in \u001b[0;36mpandas._libs.hashtable.PyObjectHashTable.get_item\u001b[1;34m()\u001b[0m\n",
      "\u001b[1;31mKeyError\u001b[0m: 'Reported_Cases'",
      "\nThe above exception was the direct cause of the following exception:\n",
      "\u001b[1;31mKeyError\u001b[0m                                  Traceback (most recent call last)",
      "Cell \u001b[1;32mIn[9], line 6\u001b[0m\n\u001b[0;32m      4\u001b[0m df\u001b[38;5;241m=\u001b[39mpd\u001b[38;5;241m.\u001b[39mDataFrame(data)\n\u001b[0;32m      5\u001b[0m plt\u001b[38;5;241m.\u001b[39mfigure(figsize\u001b[38;5;241m=\u001b[39m(\u001b[38;5;241m10\u001b[39m,\u001b[38;5;241m6\u001b[39m))\n\u001b[1;32m----> 6\u001b[0m plt\u001b[38;5;241m.\u001b[39mplot(df[\u001b[38;5;124m'\u001b[39m\u001b[38;5;124mmonth\u001b[39m\u001b[38;5;124m'\u001b[39m],df[\u001b[38;5;124m'\u001b[39m\u001b[38;5;124mReported_Cases\u001b[39m\u001b[38;5;124m'\u001b[39m],marker\u001b[38;5;241m=\u001b[39m\u001b[38;5;124m'\u001b[39m\u001b[38;5;124mo\u001b[39m\u001b[38;5;124m'\u001b[39m)\n\u001b[0;32m      7\u001b[0m plt\u001b[38;5;241m.\u001b[39mxlablel(\u001b[38;5;124m'\u001b[39m\u001b[38;5;124mMonth\u001b[39m\u001b[38;5;124m'\u001b[39m)\n\u001b[0;32m      8\u001b[0m plt\u001b[38;5;241m.\u001b[39mylabel(\u001b[38;5;124m'\u001b[39m\u001b[38;5;124mReported_Cases\u001b[39m\u001b[38;5;124m'\u001b[39m)\n",
      "File \u001b[1;32mC:\\ProgramData\\anaconda3\\Lib\\site-packages\\pandas\\core\\frame.py:3893\u001b[0m, in \u001b[0;36mDataFrame.__getitem__\u001b[1;34m(self, key)\u001b[0m\n\u001b[0;32m   3891\u001b[0m \u001b[38;5;28;01mif\u001b[39;00m \u001b[38;5;28mself\u001b[39m\u001b[38;5;241m.\u001b[39mcolumns\u001b[38;5;241m.\u001b[39mnlevels \u001b[38;5;241m>\u001b[39m \u001b[38;5;241m1\u001b[39m:\n\u001b[0;32m   3892\u001b[0m     \u001b[38;5;28;01mreturn\u001b[39;00m \u001b[38;5;28mself\u001b[39m\u001b[38;5;241m.\u001b[39m_getitem_multilevel(key)\n\u001b[1;32m-> 3893\u001b[0m indexer \u001b[38;5;241m=\u001b[39m \u001b[38;5;28mself\u001b[39m\u001b[38;5;241m.\u001b[39mcolumns\u001b[38;5;241m.\u001b[39mget_loc(key)\n\u001b[0;32m   3894\u001b[0m \u001b[38;5;28;01mif\u001b[39;00m is_integer(indexer):\n\u001b[0;32m   3895\u001b[0m     indexer \u001b[38;5;241m=\u001b[39m [indexer]\n",
      "File \u001b[1;32mC:\\ProgramData\\anaconda3\\Lib\\site-packages\\pandas\\core\\indexes\\base.py:3798\u001b[0m, in \u001b[0;36mIndex.get_loc\u001b[1;34m(self, key)\u001b[0m\n\u001b[0;32m   3793\u001b[0m     \u001b[38;5;28;01mif\u001b[39;00m \u001b[38;5;28misinstance\u001b[39m(casted_key, \u001b[38;5;28mslice\u001b[39m) \u001b[38;5;129;01mor\u001b[39;00m (\n\u001b[0;32m   3794\u001b[0m         \u001b[38;5;28misinstance\u001b[39m(casted_key, abc\u001b[38;5;241m.\u001b[39mIterable)\n\u001b[0;32m   3795\u001b[0m         \u001b[38;5;129;01mand\u001b[39;00m \u001b[38;5;28many\u001b[39m(\u001b[38;5;28misinstance\u001b[39m(x, \u001b[38;5;28mslice\u001b[39m) \u001b[38;5;28;01mfor\u001b[39;00m x \u001b[38;5;129;01min\u001b[39;00m casted_key)\n\u001b[0;32m   3796\u001b[0m     ):\n\u001b[0;32m   3797\u001b[0m         \u001b[38;5;28;01mraise\u001b[39;00m InvalidIndexError(key)\n\u001b[1;32m-> 3798\u001b[0m     \u001b[38;5;28;01mraise\u001b[39;00m \u001b[38;5;167;01mKeyError\u001b[39;00m(key) \u001b[38;5;28;01mfrom\u001b[39;00m \u001b[38;5;21;01merr\u001b[39;00m\n\u001b[0;32m   3799\u001b[0m \u001b[38;5;28;01mexcept\u001b[39;00m \u001b[38;5;167;01mTypeError\u001b[39;00m:\n\u001b[0;32m   3800\u001b[0m     \u001b[38;5;66;03m# If we have a listlike key, _check_indexing_error will raise\u001b[39;00m\n\u001b[0;32m   3801\u001b[0m     \u001b[38;5;66;03m#  InvalidIndexError. Otherwise we fall through and re-raise\u001b[39;00m\n\u001b[0;32m   3802\u001b[0m     \u001b[38;5;66;03m#  the TypeError.\u001b[39;00m\n\u001b[0;32m   3803\u001b[0m     \u001b[38;5;28mself\u001b[39m\u001b[38;5;241m.\u001b[39m_check_indexing_error(key)\n",
      "\u001b[1;31mKeyError\u001b[0m: 'Reported_Cases'"
     ]
    },
    {
     "data": {
      "text/plain": [
       "<Figure size 1000x600 with 0 Axes>"
      ]
     },
     "metadata": {},
     "output_type": "display_data"
    }
   ],
   "source": [
    "data={      \n",
    "     'month':['January','February','March','April','May','June','July','August','September','October','November','December'],\n",
    "     'Reported_cases':[90,80,70,75,90,85,80,100,90,85,100,140]}\n",
    "df=pd.DataFrame(data)\n",
    "plt.figure(figsize=(10,6))\n",
    "plt.plot(df['month'],df['Reported_Cases'],marker='o')\n",
    "plt.xlablel('Month')\n",
    "plt.ylabel('Reported_Cases')\n",
    "plt.title('Reported_ Cases_ Over_ Time')\n",
    "plt.grid(True)\n",
    "plt.xticks(rotation=45)\n",
    "plt.show()"
   ]
  },
  {
   "cell_type": "code",
   "execution_count": 10,
   "id": "f1068743-2f94-49b6-bc84-bc5517729759",
   "metadata": {},
   "outputs": [
    {
     "name": "stdout",
     "output_type": "stream",
     "text": [
      "201.41666666666666\n"
     ]
    }
   ],
   "source": [
    "m=(182,199,160,227,173,210,227,205,275,208,169,182)\n",
    "average_cholestrol_level=sum(m)/12\n",
    "print(average_cholestrol_level)\n"
   ]
  },
  {
   "cell_type": "code",
   "execution_count": 11,
   "id": "a1f7f489-6233-4679-bb78-9cc3ce496e97",
   "metadata": {},
   "outputs": [
    {
     "name": "stdout",
     "output_type": "stream",
     "text": [
      "201.41666666666666\n"
     ]
    }
   ],
   "source": [
    "import numpy as np\n",
    "m=(182,199,160,227,173,210,227,205,275,208,169,182)\n",
    "mean_cholestrol=np.mean(m)\n",
    "print(mean_cholestrol)"
   ]
  },
  {
   "cell_type": "code",
   "execution_count": 2,
   "id": "9435fb3a-caf3-4cae-bafc-c9e859410e5f",
   "metadata": {},
   "outputs": [
    {
     "data": {
      "text/html": [
       "<div>\n",
       "<style scoped>\n",
       "    .dataframe tbody tr th:only-of-type {\n",
       "        vertical-align: middle;\n",
       "    }\n",
       "\n",
       "    .dataframe tbody tr th {\n",
       "        vertical-align: top;\n",
       "    }\n",
       "\n",
       "    .dataframe thead th {\n",
       "        text-align: right;\n",
       "    }\n",
       "</style>\n",
       "<table border=\"1\" class=\"dataframe\">\n",
       "  <thead>\n",
       "    <tr style=\"text-align: right;\">\n",
       "      <th></th>\n",
       "      <th>Child participated in POLIO campaign August 2013</th>\n",
       "      <th>diarrhea_status</th>\n",
       "      <th>weight</th>\n",
       "      <th>height</th>\n",
       "      <th>residence</th>\n",
       "      <th>Sex</th>\n",
       "      <th>age</th>\n",
       "      <th>age_category</th>\n",
       "      <th>education</th>\n",
       "      <th>wealth_index</th>\n",
       "    </tr>\n",
       "  </thead>\n",
       "  <tbody>\n",
       "    <tr>\n",
       "      <th>0</th>\n",
       "      <td>1</td>\n",
       "      <td>No</td>\n",
       "      <td>16.2</td>\n",
       "      <td>102.4</td>\n",
       "      <td>Rural</td>\n",
       "      <td>Female</td>\n",
       "      <td>45</td>\n",
       "      <td>36-47</td>\n",
       "      <td>Secondary+</td>\n",
       "      <td>Richest</td>\n",
       "    </tr>\n",
       "    <tr>\n",
       "      <th>1</th>\n",
       "      <td>1</td>\n",
       "      <td>No</td>\n",
       "      <td>13.5</td>\n",
       "      <td>92.5</td>\n",
       "      <td>Rural</td>\n",
       "      <td>Male</td>\n",
       "      <td>45</td>\n",
       "      <td>36-47</td>\n",
       "      <td>Primary</td>\n",
       "      <td>Second</td>\n",
       "    </tr>\n",
       "    <tr>\n",
       "      <th>2</th>\n",
       "      <td>1</td>\n",
       "      <td>No</td>\n",
       "      <td>13.4</td>\n",
       "      <td>88.5</td>\n",
       "      <td>Rural</td>\n",
       "      <td>Male</td>\n",
       "      <td>36</td>\n",
       "      <td>36-47</td>\n",
       "      <td>Primary</td>\n",
       "      <td>Fourth</td>\n",
       "    </tr>\n",
       "    <tr>\n",
       "      <th>3</th>\n",
       "      <td>1</td>\n",
       "      <td>No</td>\n",
       "      <td>15.0</td>\n",
       "      <td>101.3</td>\n",
       "      <td>Rural</td>\n",
       "      <td>Female</td>\n",
       "      <td>51</td>\n",
       "      <td>48-59</td>\n",
       "      <td>Primary</td>\n",
       "      <td>Fourth</td>\n",
       "    </tr>\n",
       "    <tr>\n",
       "      <th>4</th>\n",
       "      <td>1</td>\n",
       "      <td>No</td>\n",
       "      <td>15.2</td>\n",
       "      <td>105.0</td>\n",
       "      <td>Rural</td>\n",
       "      <td>Female</td>\n",
       "      <td>56</td>\n",
       "      <td>48-59</td>\n",
       "      <td>Primary</td>\n",
       "      <td>Fourth</td>\n",
       "    </tr>\n",
       "  </tbody>\n",
       "</table>\n",
       "</div>"
      ],
      "text/plain": [
       "   Child participated in POLIO campaign August 2013  diarrhea_status  weight  \\\n",
       "0                                                 1               No    16.2   \n",
       "1                                                 1               No    13.5   \n",
       "2                                                 1               No    13.4   \n",
       "3                                                 1               No    15.0   \n",
       "4                                                 1               No    15.2   \n",
       "\n",
       "   height residence     Sex  age age_category   education wealth_index  \n",
       "0   102.4     Rural  Female   45        36-47  Secondary+      Richest  \n",
       "1    92.5     Rural    Male   45        36-47     Primary       Second  \n",
       "2    88.5     Rural    Male   36        36-47     Primary       Fourth  \n",
       "3   101.3     Rural  Female   51        48-59     Primary       Fourth  \n",
       "4   105.0     Rural  Female   56        48-59     Primary       Fourth  "
      ]
     },
     "execution_count": 2,
     "metadata": {},
     "output_type": "execute_result"
    }
   ],
   "source": [
    "import pandas as pd\n",
    "df=pd.read_csv(\"childhealthdata.csv\")\n",
    "df.head()"
   ]
  },
  {
   "cell_type": "code",
   "execution_count": 53,
   "id": "aae40ada-a734-49ce-81f4-aa66f2aec6b6",
   "metadata": {},
   "outputs": [
    {
     "name": "stdout",
     "output_type": "stream",
     "text": [
      "12\n"
     ]
    }
   ],
   "source": [
    "mean_weight=round(df[\"weight\"].mean())\n",
    "print(mean_weight)"
   ]
  },
  {
   "cell_type": "markdown",
   "id": "413a38ed-dc7b-47cd-aa98-c9f043d89b9f",
   "metadata": {},
   "source": [
    "mean_weight=round(df[\"weight\"].mean\n",
    "print(mean_weight)"
   ]
  },
  {
   "cell_type": "code",
   "execution_count": 47,
   "id": "a1da7b48-1c44-42c8-a06a-f6c039f63523",
   "metadata": {},
   "outputs": [
    {
     "name": "stdout",
     "output_type": "stream",
     "text": [
      "12\n"
     ]
    }
   ],
   "source": [
    "median_weight=round(df[\"weight\"].median())\n",
    "print(median_weight)"
   ]
  },
  {
   "cell_type": "code",
   "execution_count": 50,
   "id": "487c175e-d468-479b-bcfe-b12bfaf7f21f",
   "metadata": {},
   "outputs": [
    {
     "name": "stdout",
     "output_type": "stream",
     "text": [
      "85\n"
     ]
    }
   ],
   "source": [
    "median_height=round(df[\"height\"].median())\n",
    "print(median_height)"
   ]
  },
  {
   "cell_type": "code",
   "execution_count": 56,
   "id": "4152e42e-be6a-4d15-85ea-48d63d82c0e4",
   "metadata": {},
   "outputs": [
    {
     "name": "stdout",
     "output_type": "stream",
     "text": [
      "17.5\n"
     ]
    }
   ],
   "source": [
    "m=[54,28,13,16,19,19,15,12,16,20]\n",
    "median_mass=np.median(m)\n",
    "print(median_mass)"
   ]
  },
  {
   "cell_type": "code",
   "execution_count": 35,
   "id": "d7e75122-9222-4cf2-a43f-812c391a6ff9",
   "metadata": {},
   "outputs": [
    {
     "name": "stdout",
     "output_type": "stream",
     "text": [
      "0.25     9.2\n",
      "0.75    14.1\n",
      "Name: weight, dtype: float64\n"
     ]
    }
   ],
   "source": [
    "#Calculate quantiles\n",
    "quantiles_25_75=df['weight'].quantile([0.25,0.75])\n",
    "print(quantiles_25_75)"
   ]
  },
  {
   "cell_type": "code",
   "execution_count": 27,
   "id": "06942c52-3cbe-4329-85d6-57022822870a",
   "metadata": {},
   "outputs": [
    {
     "name": "stdout",
     "output_type": "stream",
     "text": [
      "0.3     9.8\n",
      "0.8    14.7\n",
      "Name: weight, dtype: float64\n"
     ]
    }
   ],
   "source": [
    "#Calculate quantiles\n",
    "quantiles_25_75=df['weight'].quantile([0.3,0.8])\n",
    "print(quantiles_25_75)"
   ]
  },
  {
   "cell_type": "code",
   "execution_count": 29,
   "id": "920971c9-9a45-4b69-a044-cc1e8419ff37",
   "metadata": {},
   "outputs": [
    {
     "name": "stdout",
     "output_type": "stream",
     "text": [
      "0.3     9.8\n",
      "0.8    14.7\n",
      "Name: weight, dtype: float64\n"
     ]
    }
   ],
   "source": [
    "#Calculate quantiles\n",
    "quantiles_30_80=df['weight'].quantile([0.3,0.8])\n",
    "print(quantiles_30_80)"
   ]
  },
  {
   "cell_type": "code",
   "execution_count": 30,
   "id": "e3330db0-e1aa-44aa-b583-7a838ba25766",
   "metadata": {},
   "outputs": [
    {
     "name": "stdout",
     "output_type": "stream",
     "text": [
      "21.9\n"
     ]
    }
   ],
   "source": [
    "#Calculate range\n",
    "weight_range=df['weight'].max()-df['weight'].min()\n",
    "print(weight_range)"
   ]
  },
  {
   "cell_type": "code",
   "execution_count": 32,
   "id": "70f282ab-acb2-4e25-ae25-670bb478442d",
   "metadata": {},
   "outputs": [
    {
     "name": "stdout",
     "output_type": "stream",
     "text": [
      "upper bound: 14.1\n",
      "lower bound: 9.2\n",
      "4.9\n"
     ]
    }
   ],
   "source": [
    "#Calculate interquartile range (IQR)\n",
    "iqr=df['weight'].quantile(0.75)-df['weight'].quantile(0.25)\n",
    "print(\"upper bound:\",df['weight'].quantile(0.75))\n",
    "print(\"lower bound:\",df['weight'].quantile(0.25))\n",
    "print(iqr)"
   ]
  },
  {
   "cell_type": "code",
   "execution_count": 34,
   "id": "11854d38-d3bd-43fa-92f6-b0865f31fa6d",
   "metadata": {},
   "outputs": [
    {
     "name": "stdout",
     "output_type": "stream",
     "text": [
      "3.4087288270461693\n"
     ]
    }
   ],
   "source": [
    "#Calculate standard deviation of weight\n",
    "std_deviation_weight=df['weight'].std()\n",
    "print(std_deviation_weight)"
   ]
  },
  {
   "cell_type": "code",
   "execution_count": 37,
   "id": "ea1e1838-794e-44e8-960b-8d5d28d7d942",
   "metadata": {},
   "outputs": [
    {
     "name": "stdout",
     "output_type": "stream",
     "text": [
      "count    799.000000\n",
      "mean      11.591114\n",
      "std        3.408729\n",
      "min        3.100000\n",
      "25%        9.200000\n",
      "50%       11.700000\n",
      "75%       14.100000\n",
      "max       25.000000\n",
      "Name: weight, dtype: float64\n"
     ]
    }
   ],
   "source": [
    "#summary statistics of weight\n",
    "summary_weight=df['weight'].describe()\n",
    "print(summary_weight)"
   ]
  },
  {
   "cell_type": "code",
   "execution_count": 41,
   "id": "ef888ca3-a7a4-4d5b-b211-ef647c004d28",
   "metadata": {},
   "outputs": [
    {
     "name": "stdout",
     "output_type": "stream",
     "text": [
      "1016.9924242424241\n",
      "31.890318660095325\n"
     ]
    }
   ],
   "source": [
    "#Calculate variance and standard deviation manually\n",
    "b=np.array(m)-np.mean(m)#difference between each value\n",
    "b_squared=b**2 # square of each difference\n",
    "variance=np.sum(b_squared)/(len(m)-1)#average of the squared differences\n",
    "std_deviation=np.sqrt(variance) # the standard deviation\n",
    "print(variance)\n",
    "print(std_deviation)"
   ]
  },
  {
   "cell_type": "code",
   "execution_count": 55,
   "id": "a4fdb613-c677-4502-af08-46c9551cdc74",
   "metadata": {},
   "outputs": [
    {
     "name": "stdout",
     "output_type": "stream",
     "text": [
      "11.619432216335554\n"
     ]
    }
   ],
   "source": [
    "#Calculate standard deviation of weight\n",
    "var_deviation_weight=df['weight'].var()\n",
    "print(var_deviation_weight)"
   ]
  },
  {
   "cell_type": "code",
   "execution_count": 44,
   "id": "f6bc0b43-bb1c-49fe-b34d-d10932c35575",
   "metadata": {},
   "outputs": [
    {
     "name": "stdout",
     "output_type": "stream",
     "text": [
      "190.32145209707613\n"
     ]
    }
   ],
   "source": [
    "#Calculate standard deviation of height\n",
    "var_deviation_height=df['height'].var()\n",
    "print(var_deviation_height)"
   ]
  },
  {
   "cell_type": "code",
   "execution_count": 45,
   "id": "15b615e5-d935-46e5-a8f9-2ac9f7c29429",
   "metadata": {},
   "outputs": [
    {
     "name": "stdout",
     "output_type": "stream",
     "text": [
      "45.0\n"
     ]
    }
   ],
   "source": [
    "height_range=df['height'].max()\n",
    "height_range=df['height'].min()\n",
    "print(height_range)"
   ]
  },
  {
   "cell_type": "code",
   "execution_count": 50,
   "id": "3733ae28-0b2c-4cfe-80be-69fac17752b8",
   "metadata": {},
   "outputs": [
    {
     "name": "stdout",
     "output_type": "stream",
     "text": [
      "-0.09040012558770584\n"
     ]
    }
   ],
   "source": [
    "from scipy.stats import skew\n",
    "skewness_weight=skew(df['weight'])\n",
    "print(skewness_weight)"
   ]
  },
  {
   "cell_type": "code",
   "execution_count": 57,
   "id": "e3be1589-99d2-4d3c-b60f-bc1187267bcd",
   "metadata": {},
   "outputs": [
    {
     "name": "stdout",
     "output_type": "stream",
     "text": [
      "mean\n"
     ]
    }
   ],
   "source": [
    "#Determine measure to report based on skewness\n",
    "skew_wt=skew(df['weight'])\n",
    "wt_measure=\"mean\" if abs(skew_wt) <=0.5 else \"median\"\n",
    "print(wt_measure)"
   ]
  },
  {
   "cell_type": "code",
   "execution_count": 58,
   "id": "7fc02fd3-b615-4311-96b3-6d10fbaba73f",
   "metadata": {},
   "outputs": [
    {
     "name": "stdout",
     "output_type": "stream",
     "text": [
      "-0.09040012558770584\n"
     ]
    }
   ],
   "source": [
    "#install moments package (if needed) and calculate\n",
    "from scipy.stats import skew\n",
    "skewness_weight=skew(df['weight'])\n",
    "print(skewness_weight)"
   ]
  },
  {
   "cell_type": "code",
   "execution_count": 59,
   "id": "819f0682-2fe1-4623-873c-f2f431afc674",
   "metadata": {},
   "outputs": [
    {
     "name": "stdout",
     "output_type": "stream",
     "text": [
      "11.591113892365458\n",
      "3.4087288270461693\n"
     ]
    }
   ],
   "source": [
    "#Calculate mean and standard deviation of weight\n",
    "mean_weight=df['weight'].mean()\n",
    "std_deviation_weight=df['weight'].std()\n",
    "print(mean_weight)\n",
    "print(std_deviation_weight)"
   ]
  },
  {
   "cell_type": "code",
   "execution_count": 60,
   "id": "6d77763c-c990-46de-9b0e-a7d2db4ef717",
   "metadata": {},
   "outputs": [
    {
     "name": "stdout",
     "output_type": "stream",
     "text": [
      "1016.9924242424241\n",
      "31.890318660095325\n"
     ]
    }
   ],
   "source": [
    "#Calculate variance and standard deviation using functions\n",
    "variance_func=np.var(m,ddof=1) # unbiased estimator,hence ddof=1\n",
    "std_deviation_func=np.std(m,ddof=1)\n",
    "print(variance_func)\n",
    "print(std_deviation_func)"
   ]
  },
  {
   "cell_type": "code",
   "execution_count": 2,
   "id": "98114779-4749-40fd-a471-a353be328385",
   "metadata": {},
   "outputs": [
    {
     "name": "stdout",
     "output_type": "stream",
     "text": [
      "   integers                                   range\n",
      "0         3                               (0, 1, 2)\n",
      "1         5                         (0, 1, 2, 3, 4)\n",
      "2         7                   (0, 1, 2, 3, 4, 5, 6)\n",
      "3        10          (0, 1, 2, 3, 4, 5, 6, 7, 8, 9)\n",
      "4        12  (0, 1, 2, 3, 4, 5, 6, 7, 8, 9, 10, 11)\n"
     ]
    }
   ],
   "source": [
    "import pandas as pd\n",
    "data={\n",
    "    'integers':[3,5,7,10,12]\n",
    "}\n",
    "df=pd.DataFrame(data)\n",
    "df['range']=df['integers'].apply(lambda x: range (x))\n",
    "print(df)"
   ]
  },
  {
   "cell_type": "raw",
   "id": "9b6349b0-3692-4c68-af01-2d4aa9af389a",
   "metadata": {},
   "source": [
    "import pandas as pd \n",
    "import numpy as np\n",
    "df=pd.read_csv(\"dirty.csv\")\n",
    "#Custom mapping for conversion\n",
    "mapping{\n",
    "    'True':1,\n",
    "    'False:0,\n",
    "    'Female':1,\n",
    "    'Male':0\n",
    "}\n",
    "#Applying the mapping to the column\n",
    "df['Sex']=df['Sex'].map(mapping)\n",
    "print(df)"
   ]
  },
  {
   "cell_type": "code",
   "execution_count": 3,
   "id": "f0543072-74da-4a05-b3b0-bf04503eb86e",
   "metadata": {},
   "outputs": [
    {
     "name": "stdout",
     "output_type": "stream",
     "text": [
      "     Gender   Height Weight  Index  Unnamed: 4  Unnamed: 5 female  male\n",
      "0       NaN  15    8     89      4         NaN         NaN    158   158\n",
      "1       NaN  15    8     89      4         NaN         NaN    158   158\n",
      "2       1.0      178    127      4         NaN         NaN    178   178\n",
      "3       1.0     none    139      5         NaN         NaN   none  none\n",
      "4       1.0     none    104      5         NaN         NaN    181   181\n",
      "..      ...      ...    ...    ...         ...         ...    ...   ...\n",
      "399     0.0      190   none      5         NaN         NaN    NaN   NaN\n",
      "400     0.0      164    130      5         NaN         NaN    NaN   NaN\n",
      "401     0.0      185    138      5         NaN         NaN    NaN   NaN\n",
      "402     0.0      188    158      5         NaN         NaN    NaN   NaN\n",
      "403     0.0      161    155      5         NaN         NaN    NaN   NaN\n",
      "\n",
      "[404 rows x 8 columns]\n"
     ]
    }
   ],
   "source": [
    "import pandas as pd\n",
    "import numpy as np\n",
    "df=pd.read_csv(\"dirty.csv\")\n",
    "#custom mapping for conversion\n",
    "mapping={\n",
    "      'True':1,\n",
    "      'False':0,\n",
    "      'Female':1,\n",
    "      'Male':0\n",
    "}\n",
    "#Applying the mapping to the column\n",
    "df['Gender']=df['Gender'].map(mapping)\n",
    "\n",
    "print(df)\n",
    "        \n",
    "\n"
   ]
  },
  {
   "cell_type": "code",
   "execution_count": 32,
   "id": "3add17f1-f52e-42d5-80f4-c28a8e5bcdfb",
   "metadata": {},
   "outputs": [
    {
     "name": "stdout",
     "output_type": "stream",
     "text": [
      "0      False\n",
      "1       True\n",
      "2      False\n",
      "3      False\n",
      "4      False\n",
      "       ...  \n",
      "399    False\n",
      "400    False\n",
      "401    False\n",
      "402    False\n",
      "403    False\n",
      "Length: 404, dtype: bool\n"
     ]
    }
   ],
   "source": [
    "import pandas as pd\n",
    "from scipy import stats \n",
    "df=pd.read_csv('dirty.csv')\n",
    "duplicates=df.duplicated()\n",
    "print(duplicates)"
   ]
  },
  {
   "cell_type": "code",
   "execution_count": 5,
   "id": "bb1d4d0f-e51c-44de-a550-7bcba6f4cdfc",
   "metadata": {},
   "outputs": [
    {
     "name": "stdout",
     "output_type": "stream",
     "text": [
      "<bound method DataFrame.drop_duplicates of      Child participated in POLIO campaign August 2013  diarrhea_status  \\\n",
      "0                                                   1               No   \n",
      "1                                                   1               No   \n",
      "2                                                   1               No   \n",
      "3                                                   1               No   \n",
      "4                                                   1               No   \n",
      "..                                                ...              ...   \n",
      "794                                                 1               No   \n",
      "795                                                 2               No   \n",
      "796                                                 1               No   \n",
      "797                                                 1               No   \n",
      "798                                                 1               No   \n",
      "\n",
      "     weight  height residence     Sex  age age_category   education  \\\n",
      "0      16.2   102.4     Rural  Female   45        36-47  Secondary+   \n",
      "1      13.5    92.5     Rural    Male   45        36-47     Primary   \n",
      "2      13.4    88.5     Rural    Male   36        36-47     Primary   \n",
      "3      15.0   101.3     Rural  Female   51        48-59     Primary   \n",
      "4      15.2   105.0     Rural  Female   56        48-59     Primary   \n",
      "..      ...     ...       ...     ...  ...          ...         ...   \n",
      "794     8.3    67.0     Urban  Female    7         6-11     Primary   \n",
      "795     3.5    45.0     Urban    Male    0          0-5  Secondary+   \n",
      "796    15.1    86.0     Urban  Female   56        48-59     Primary   \n",
      "797    10.7    71.2     Urban  Female   18        12-23     Primary   \n",
      "798    10.3    73.0     Urban  Female    7         6-11     Primary   \n",
      "\n",
      "    wealth_index  \n",
      "0        Richest  \n",
      "1         Second  \n",
      "2         Fourth  \n",
      "3         Fourth  \n",
      "4         Fourth  \n",
      "..           ...  \n",
      "794       Fourth  \n",
      "795       Fourth  \n",
      "796       Fourth  \n",
      "797       Fourth  \n",
      "798       Middle  \n",
      "\n",
      "[799 rows x 10 columns]>\n"
     ]
    }
   ],
   "source": [
    "df.drop_duplicates\n",
    "clean=df.drop_duplicates\n",
    "print(clean)"
   ]
  },
  {
   "cell_type": "code",
   "execution_count": 6,
   "id": "5e4fb06b-29ee-4b0c-b8e2-a624e1292d1b",
   "metadata": {},
   "outputs": [
    {
     "name": "stdout",
     "output_type": "stream",
     "text": [
      "<class 'pandas.core.frame.DataFrame'>\n",
      "RangeIndex: 404 entries, 0 to 403\n",
      "Data columns (total 8 columns):\n",
      " #   Column      Non-Null Count  Dtype   \n",
      "---  ------      --------------  -----   \n",
      " 0   Gender      404 non-null    category\n",
      " 1   Height      404 non-null    string  \n",
      " 2   Weight      404 non-null    string  \n",
      " 3   Index       404 non-null    int32   \n",
      " 4   Unnamed: 4  0 non-null      float64 \n",
      " 5   Unnamed: 5  0 non-null      float64 \n",
      " 6   female      204 non-null    category\n",
      " 7   male        204 non-null    category\n",
      "dtypes: category(3), float64(2), int32(1), string(2)\n",
      "memory usage: 20.9 KB\n"
     ]
    }
   ],
   "source": [
    "import pandas as pd\n",
    "import numpy as np\n",
    "df1=pd.read_csv(\"dirty.csv\")\n",
    "df1['Gender']=df1['Gender'].astype('category')\n",
    "df1['Height']=df1['Height'].astype('string')\n",
    "df1['Weight']=df1['Weight'].astype('string')\n",
    "df1['Index']=df1['Index'].astype('int')\n",
    "df1['female']=df1['female'].astype('category')\n",
    "df1['male']=df1['male'].astype('category')\n",
    "df1.info()"
   ]
  },
  {
   "cell_type": "code",
   "execution_count": 9,
   "id": "7d6946be-8196-4a54-a0a2-2b65523d751e",
   "metadata": {},
   "outputs": [
    {
     "name": "stdout",
     "output_type": "stream",
     "text": [
      "0      False\n",
      "1       True\n",
      "2      False\n",
      "3      False\n",
      "4      False\n",
      "       ...  \n",
      "399    False\n",
      "400    False\n",
      "401    False\n",
      "402    False\n",
      "403    False\n",
      "Length: 404, dtype: bool\n"
     ]
    }
   ],
   "source": [
    "import pandas as pd\n",
    "from scipy import stats\n",
    "df=pd.read_csv(\"dirty.csv\")\n",
    "duplicates=df.duplicated()\n",
    "print(duplicates)"
   ]
  },
  {
   "cell_type": "code",
   "execution_count": 10,
   "id": "7f65bf53-6adb-44a0-ac5f-b90324dc4166",
   "metadata": {},
   "outputs": [
    {
     "name": "stdout",
     "output_type": "stream",
     "text": [
      "0      False\n",
      "1       True\n",
      "2      False\n",
      "3      False\n",
      "4      False\n",
      "       ...  \n",
      "399    False\n",
      "400    False\n",
      "401    False\n",
      "402    False\n",
      "403    False\n",
      "Length: 404, dtype: bool\n"
     ]
    }
   ],
   "source": [
    "import pandas as pd\n",
    "from scipy import stats\n",
    "df1=pd.read_csv(\"dirty.csv\")\n",
    "duplicates=df1.duplicated()\n",
    "print(duplicates)"
   ]
  },
  {
   "cell_type": "code",
   "execution_count": 11,
   "id": "0061ac1c-759e-45dd-a392-670fe1575e20",
   "metadata": {},
   "outputs": [
    {
     "name": "stdout",
     "output_type": "stream",
     "text": [
      "<bound method DataFrame.drop_duplicates of         Gender   Height Weight  Index  Unnamed: 4  Unnamed: 5 female  male\n",
      "0    Fema   le  15    8     89      4         NaN         NaN    158   158\n",
      "1    Fema   le  15    8     89      4         NaN         NaN    158   158\n",
      "2       Female      178    127      4         NaN         NaN    178   178\n",
      "3       Female     none    139      5         NaN         NaN   none  none\n",
      "4       Female     none    104      5         NaN         NaN    181   181\n",
      "..         ...      ...    ...    ...         ...         ...    ...   ...\n",
      "399       Male      190   none      5         NaN         NaN    NaN   NaN\n",
      "400       Male      164    130      5         NaN         NaN    NaN   NaN\n",
      "401       Male      185    138      5         NaN         NaN    NaN   NaN\n",
      "402       Male      188    158      5         NaN         NaN    NaN   NaN\n",
      "403       Male      161    155      5         NaN         NaN    NaN   NaN\n",
      "\n",
      "[404 rows x 8 columns]>\n"
     ]
    }
   ],
   "source": [
    "df1.drop_duplicates\n",
    "clean=df1.drop_duplicates\n",
    "print(clean)"
   ]
  },
  {
   "cell_type": "code",
   "execution_count": 31,
   "id": "43442032-508d-430b-98b9-9a3aaaa7f96e",
   "metadata": {},
   "outputs": [
    {
     "name": "stdout",
     "output_type": "stream",
     "text": [
      "Original DataFrame:\n",
      "        name        city\n",
      "0      Rose     Makueni \n",
      "1      Jane    Kwavonza \n",
      "2   Charlie       Kitui \n",
      "3     Faith     Mselele \n"
     ]
    }
   ],
   "source": [
    "import pandas as pd\n",
    "data={'name':[' Rose ',' Jane ',' Charlie ',' Faith '],\n",
    "      'city':[' Makueni ',' Kwavonza ',' Kitui ',' Mselele ']}\n",
    "df=pd.DataFrame(data)\n",
    "print(\"Original DataFrame:\")\n",
    "print(df)\n",
    "\n",
    "\n"
   ]
  },
  {
   "cell_type": "code",
   "execution_count": 48,
   "id": "b716c19e-07b1-4c22-9e7c-627b3200f499",
   "metadata": {},
   "outputs": [
    {
     "name": "stdout",
     "output_type": "stream",
     "text": [
      "\n",
      "Rows with out_of_range 'height':\n",
      "     Child participated in POLIO campaign August 2013  diarrhea_status  \\\n",
      "43                                                  1               No   \n",
      "103                                                 1               No   \n",
      "127                                                 1               No   \n",
      "158                                                 1               No   \n",
      "396                                                 1               No   \n",
      "450                                                 1               No   \n",
      "456                                                 2               No   \n",
      "531                                                 1               No   \n",
      "577                                                 2               No   \n",
      "678                                                 1               No   \n",
      "733                                                 1               No   \n",
      "757                                                 1               No   \n",
      "795                                                 2               No   \n",
      "\n",
      "     weight  height residence     Sex  age age_category   education  \\\n",
      "43     20.5   112.0     Rural    Male   53        48-59     Primary   \n",
      "103    14.6   114.3     Rural    Male   56        48-59     Primary   \n",
      "127    20.3   110.4     Rural  Female   50        48-59     Primary   \n",
      "158    13.3   111.9     Rural    Male   58        48-59  Secondary+   \n",
      "396    19.3   112.8     Urban    Male   56        48-59  Secondary+   \n",
      "450    12.0   124.8     Rural    Male   52        48-59     Primary   \n",
      "456     3.2    48.2     Rural  Female    0          0-5     Primary   \n",
      "531    20.1   110.1     Rural    Male   58        48-59  Secondary+   \n",
      "577     4.8    48.2     Rural  Female    1          0-5     Primary   \n",
      "678    18.2   112.7     Urban  Female   50        48-59  Secondary+   \n",
      "733    18.7   112.1     Urban  Female   58        48-59  Secondary+   \n",
      "757    19.9   117.9     Urban  Female   58        48-59     Primary   \n",
      "795     3.5    45.0     Urban    Male    0          0-5  Secondary+   \n",
      "\n",
      "    wealth_index  \n",
      "43       Richest  \n",
      "103       Fourth  \n",
      "127       Middle  \n",
      "158       Middle  \n",
      "396      Richest  \n",
      "450       Middle  \n",
      "456      Poorest  \n",
      "531       Second  \n",
      "577      Poorest  \n",
      "678      Poorest  \n",
      "733       Fourth  \n",
      "757       Second  \n",
      "795       Fourth  \n",
      "\n",
      "Rows with out_of_range 'weight':\n",
      "     Child participated in POLIO campaign August 2013  diarrhea_status  \\\n",
      "43                                                  1               No   \n",
      "127                                                 1               No   \n",
      "150                                                 2               No   \n",
      "334                                                 2              Yes   \n",
      "456                                                 2               No   \n",
      "493                                                 2               No   \n",
      "494                                                 2               No   \n",
      "531                                                 1               No   \n",
      "548                                                 2              Yes   \n",
      "627                                                 1               No   \n",
      "795                                                 2               No   \n",
      "\n",
      "     weight  height residence     Sex  age age_category   education  \\\n",
      "43     20.5   112.0     Rural    Male   53        48-59     Primary   \n",
      "127    20.3   110.4     Rural  Female   50        48-59     Primary   \n",
      "150     3.8    62.3     Rural    Male    4          0-5     Primary   \n",
      "334     3.2    71.4     Urban    Male    7         6-11     Primary   \n",
      "456     3.2    48.2     Rural  Female    0          0-5     Primary   \n",
      "493     3.1    51.0     Rural    Male    2          0-5         NaN   \n",
      "494     3.1    51.5     Rural  Female    2          0-5         NaN   \n",
      "531    20.1   110.1     Rural    Male   58        48-59  Secondary+   \n",
      "548     3.5    58.0     Rural    Male    0          0-5  Secondary+   \n",
      "627    25.0    98.5     Rural    Male   37        36-47  Secondary+   \n",
      "795     3.5    45.0     Urban    Male    0          0-5  Secondary+   \n",
      "\n",
      "    wealth_index  \n",
      "43       Richest  \n",
      "127       Middle  \n",
      "150       Second  \n",
      "334       Middle  \n",
      "456      Poorest  \n",
      "493      Poorest  \n",
      "494      Poorest  \n",
      "531       Second  \n",
      "548       Fourth  \n",
      "627      Poorest  \n",
      "795       Fourth  \n"
     ]
    }
   ],
   "source": [
    "import pandas as pd\n",
    "from scipy import stats\n",
    "csv_file='childhealthdata.csv'\n",
    "df=pd.read_csv(csv_file)\n",
    "\n",
    "height_min,height_max=50,110\n",
    "weight_min,weight_max=4,20\n",
    "\n",
    "out_of_range_height=df[(df['height'] < height_min) | (df['height'] > height_max)]\n",
    "out_of_range_weight=df[(df['weight'] < weight_min) | (df['weight'] > weight_max)]\n",
    "\n",
    "print(\"\\nRows with out_of_range 'height':\")\n",
    "print(out_of_range_height)\n",
    "\n",
    "print(\"\\nRows with out_of_range 'weight':\")\n",
    "print(out_of_range_weight)\n",
    "      "
   ]
  },
  {
   "cell_type": "code",
   "execution_count": 49,
   "id": "5ac3c5e0-6ca1-4f68-9f48-824c97c14157",
   "metadata": {},
   "outputs": [
    {
     "data": {
      "text/html": [
       "<div>\n",
       "<style scoped>\n",
       "    .dataframe tbody tr th:only-of-type {\n",
       "        vertical-align: middle;\n",
       "    }\n",
       "\n",
       "    .dataframe tbody tr th {\n",
       "        vertical-align: top;\n",
       "    }\n",
       "\n",
       "    .dataframe thead th {\n",
       "        text-align: right;\n",
       "    }\n",
       "</style>\n",
       "<table border=\"1\" class=\"dataframe\">\n",
       "  <thead>\n",
       "    <tr style=\"text-align: right;\">\n",
       "      <th></th>\n",
       "      <th>Child participated in POLIO campaign August 2013</th>\n",
       "      <th>diarrhea_status</th>\n",
       "      <th>weight</th>\n",
       "      <th>height</th>\n",
       "      <th>residence</th>\n",
       "      <th>Sex</th>\n",
       "      <th>age</th>\n",
       "      <th>age_category</th>\n",
       "      <th>education</th>\n",
       "      <th>wealth_index</th>\n",
       "    </tr>\n",
       "  </thead>\n",
       "  <tbody>\n",
       "    <tr>\n",
       "      <th>0</th>\n",
       "      <td>1</td>\n",
       "      <td>No</td>\n",
       "      <td>16.2</td>\n",
       "      <td>102.4</td>\n",
       "      <td>Rural</td>\n",
       "      <td>Female</td>\n",
       "      <td>45</td>\n",
       "      <td>36-47</td>\n",
       "      <td>Secondary+</td>\n",
       "      <td>Richest</td>\n",
       "    </tr>\n",
       "    <tr>\n",
       "      <th>1</th>\n",
       "      <td>1</td>\n",
       "      <td>No</td>\n",
       "      <td>13.5</td>\n",
       "      <td>92.5</td>\n",
       "      <td>Rural</td>\n",
       "      <td>Male</td>\n",
       "      <td>45</td>\n",
       "      <td>36-47</td>\n",
       "      <td>Primary</td>\n",
       "      <td>Second</td>\n",
       "    </tr>\n",
       "    <tr>\n",
       "      <th>2</th>\n",
       "      <td>1</td>\n",
       "      <td>No</td>\n",
       "      <td>13.4</td>\n",
       "      <td>88.5</td>\n",
       "      <td>Rural</td>\n",
       "      <td>Male</td>\n",
       "      <td>36</td>\n",
       "      <td>36-47</td>\n",
       "      <td>Primary</td>\n",
       "      <td>Fourth</td>\n",
       "    </tr>\n",
       "    <tr>\n",
       "      <th>3</th>\n",
       "      <td>1</td>\n",
       "      <td>No</td>\n",
       "      <td>15.0</td>\n",
       "      <td>101.3</td>\n",
       "      <td>Rural</td>\n",
       "      <td>Female</td>\n",
       "      <td>51</td>\n",
       "      <td>48-59</td>\n",
       "      <td>Primary</td>\n",
       "      <td>Fourth</td>\n",
       "    </tr>\n",
       "    <tr>\n",
       "      <th>4</th>\n",
       "      <td>1</td>\n",
       "      <td>No</td>\n",
       "      <td>15.2</td>\n",
       "      <td>105.0</td>\n",
       "      <td>Rural</td>\n",
       "      <td>Female</td>\n",
       "      <td>56</td>\n",
       "      <td>48-59</td>\n",
       "      <td>Primary</td>\n",
       "      <td>Fourth</td>\n",
       "    </tr>\n",
       "    <tr>\n",
       "      <th>5</th>\n",
       "      <td>1</td>\n",
       "      <td>Yes</td>\n",
       "      <td>9.9</td>\n",
       "      <td>84.5</td>\n",
       "      <td>Rural</td>\n",
       "      <td>Female</td>\n",
       "      <td>20</td>\n",
       "      <td>12-23</td>\n",
       "      <td>Primary</td>\n",
       "      <td>Fourth</td>\n",
       "    </tr>\n",
       "    <tr>\n",
       "      <th>6</th>\n",
       "      <td>2</td>\n",
       "      <td>No</td>\n",
       "      <td>7.1</td>\n",
       "      <td>70.4</td>\n",
       "      <td>Rural</td>\n",
       "      <td>Female</td>\n",
       "      <td>4</td>\n",
       "      <td>0-5</td>\n",
       "      <td>Primary</td>\n",
       "      <td>Fourth</td>\n",
       "    </tr>\n",
       "    <tr>\n",
       "      <th>7</th>\n",
       "      <td>1</td>\n",
       "      <td>No</td>\n",
       "      <td>13.8</td>\n",
       "      <td>89.5</td>\n",
       "      <td>Rural</td>\n",
       "      <td>Male</td>\n",
       "      <td>27</td>\n",
       "      <td>24-35</td>\n",
       "      <td>Primary</td>\n",
       "      <td>Richest</td>\n",
       "    </tr>\n",
       "    <tr>\n",
       "      <th>8</th>\n",
       "      <td>1</td>\n",
       "      <td>No</td>\n",
       "      <td>12.7</td>\n",
       "      <td>89.5</td>\n",
       "      <td>Rural</td>\n",
       "      <td>Male</td>\n",
       "      <td>39</td>\n",
       "      <td>36-47</td>\n",
       "      <td>Primary</td>\n",
       "      <td>Poorest</td>\n",
       "    </tr>\n",
       "    <tr>\n",
       "      <th>9</th>\n",
       "      <td>1</td>\n",
       "      <td>Yes</td>\n",
       "      <td>8.2</td>\n",
       "      <td>73.9</td>\n",
       "      <td>Rural</td>\n",
       "      <td>Female</td>\n",
       "      <td>18</td>\n",
       "      <td>12-23</td>\n",
       "      <td>Primary</td>\n",
       "      <td>Poorest</td>\n",
       "    </tr>\n",
       "  </tbody>\n",
       "</table>\n",
       "</div>"
      ],
      "text/plain": [
       "   Child participated in POLIO campaign August 2013  diarrhea_status  weight  \\\n",
       "0                                                 1               No    16.2   \n",
       "1                                                 1               No    13.5   \n",
       "2                                                 1               No    13.4   \n",
       "3                                                 1               No    15.0   \n",
       "4                                                 1               No    15.2   \n",
       "5                                                 1              Yes     9.9   \n",
       "6                                                 2               No     7.1   \n",
       "7                                                 1               No    13.8   \n",
       "8                                                 1               No    12.7   \n",
       "9                                                 1              Yes     8.2   \n",
       "\n",
       "   height residence     Sex  age age_category   education wealth_index  \n",
       "0   102.4     Rural  Female   45        36-47  Secondary+      Richest  \n",
       "1    92.5     Rural    Male   45        36-47     Primary       Second  \n",
       "2    88.5     Rural    Male   36        36-47     Primary       Fourth  \n",
       "3   101.3     Rural  Female   51        48-59     Primary       Fourth  \n",
       "4   105.0     Rural  Female   56        48-59     Primary       Fourth  \n",
       "5    84.5     Rural  Female   20        12-23     Primary       Fourth  \n",
       "6    70.4     Rural  Female    4          0-5     Primary       Fourth  \n",
       "7    89.5     Rural    Male   27        24-35     Primary      Richest  \n",
       "8    89.5     Rural    Male   39        36-47     Primary      Poorest  \n",
       "9    73.9     Rural  Female   18        12-23     Primary      Poorest  "
      ]
     },
     "execution_count": 49,
     "metadata": {},
     "output_type": "execute_result"
    }
   ],
   "source": [
    "df.head(10)"
   ]
  },
  {
   "cell_type": "code",
   "execution_count": 51,
   "id": "dde4dc49-1861-47c0-992b-b80661d2427a",
   "metadata": {},
   "outputs": [
    {
     "data": {
      "text/html": [
       "<div>\n",
       "<style scoped>\n",
       "    .dataframe tbody tr th:only-of-type {\n",
       "        vertical-align: middle;\n",
       "    }\n",
       "\n",
       "    .dataframe tbody tr th {\n",
       "        vertical-align: top;\n",
       "    }\n",
       "\n",
       "    .dataframe thead th {\n",
       "        text-align: right;\n",
       "    }\n",
       "</style>\n",
       "<table border=\"1\" class=\"dataframe\">\n",
       "  <thead>\n",
       "    <tr style=\"text-align: right;\">\n",
       "      <th></th>\n",
       "      <th>Child participated in POLIO campaign August 2013</th>\n",
       "      <th>diarrhea_status</th>\n",
       "      <th>weight</th>\n",
       "      <th>height</th>\n",
       "      <th>residence</th>\n",
       "      <th>Sex</th>\n",
       "      <th>age</th>\n",
       "      <th>age_category</th>\n",
       "      <th>education</th>\n",
       "      <th>wealth_index</th>\n",
       "    </tr>\n",
       "  </thead>\n",
       "  <tbody>\n",
       "    <tr>\n",
       "      <th>789</th>\n",
       "      <td>2</td>\n",
       "      <td>No</td>\n",
       "      <td>7.7</td>\n",
       "      <td>68.8</td>\n",
       "      <td>Urban</td>\n",
       "      <td>Female</td>\n",
       "      <td>7</td>\n",
       "      <td>6-11</td>\n",
       "      <td>Primary</td>\n",
       "      <td>Second</td>\n",
       "    </tr>\n",
       "    <tr>\n",
       "      <th>790</th>\n",
       "      <td>2</td>\n",
       "      <td>No</td>\n",
       "      <td>7.0</td>\n",
       "      <td>69.0</td>\n",
       "      <td>Urban</td>\n",
       "      <td>Male</td>\n",
       "      <td>7</td>\n",
       "      <td>6-11</td>\n",
       "      <td>Primary</td>\n",
       "      <td>Second</td>\n",
       "    </tr>\n",
       "    <tr>\n",
       "      <th>791</th>\n",
       "      <td>1</td>\n",
       "      <td>No</td>\n",
       "      <td>14.9</td>\n",
       "      <td>99.9</td>\n",
       "      <td>Urban</td>\n",
       "      <td>Female</td>\n",
       "      <td>45</td>\n",
       "      <td>36-47</td>\n",
       "      <td>Primary</td>\n",
       "      <td>Poorest</td>\n",
       "    </tr>\n",
       "    <tr>\n",
       "      <th>792</th>\n",
       "      <td>1</td>\n",
       "      <td>No</td>\n",
       "      <td>13.7</td>\n",
       "      <td>95.5</td>\n",
       "      <td>Urban</td>\n",
       "      <td>Male</td>\n",
       "      <td>47</td>\n",
       "      <td>36-47</td>\n",
       "      <td>Primary</td>\n",
       "      <td>Fourth</td>\n",
       "    </tr>\n",
       "    <tr>\n",
       "      <th>793</th>\n",
       "      <td>1</td>\n",
       "      <td>No</td>\n",
       "      <td>12.4</td>\n",
       "      <td>95.0</td>\n",
       "      <td>Urban</td>\n",
       "      <td>Female</td>\n",
       "      <td>43</td>\n",
       "      <td>36-47</td>\n",
       "      <td>Secondary+</td>\n",
       "      <td>Fourth</td>\n",
       "    </tr>\n",
       "    <tr>\n",
       "      <th>794</th>\n",
       "      <td>1</td>\n",
       "      <td>No</td>\n",
       "      <td>8.3</td>\n",
       "      <td>67.0</td>\n",
       "      <td>Urban</td>\n",
       "      <td>Female</td>\n",
       "      <td>7</td>\n",
       "      <td>6-11</td>\n",
       "      <td>Primary</td>\n",
       "      <td>Fourth</td>\n",
       "    </tr>\n",
       "    <tr>\n",
       "      <th>795</th>\n",
       "      <td>2</td>\n",
       "      <td>No</td>\n",
       "      <td>3.5</td>\n",
       "      <td>45.0</td>\n",
       "      <td>Urban</td>\n",
       "      <td>Male</td>\n",
       "      <td>0</td>\n",
       "      <td>0-5</td>\n",
       "      <td>Secondary+</td>\n",
       "      <td>Fourth</td>\n",
       "    </tr>\n",
       "    <tr>\n",
       "      <th>796</th>\n",
       "      <td>1</td>\n",
       "      <td>No</td>\n",
       "      <td>15.1</td>\n",
       "      <td>86.0</td>\n",
       "      <td>Urban</td>\n",
       "      <td>Female</td>\n",
       "      <td>56</td>\n",
       "      <td>48-59</td>\n",
       "      <td>Primary</td>\n",
       "      <td>Fourth</td>\n",
       "    </tr>\n",
       "    <tr>\n",
       "      <th>797</th>\n",
       "      <td>1</td>\n",
       "      <td>No</td>\n",
       "      <td>10.7</td>\n",
       "      <td>71.2</td>\n",
       "      <td>Urban</td>\n",
       "      <td>Female</td>\n",
       "      <td>18</td>\n",
       "      <td>12-23</td>\n",
       "      <td>Primary</td>\n",
       "      <td>Fourth</td>\n",
       "    </tr>\n",
       "    <tr>\n",
       "      <th>798</th>\n",
       "      <td>1</td>\n",
       "      <td>No</td>\n",
       "      <td>10.3</td>\n",
       "      <td>73.0</td>\n",
       "      <td>Urban</td>\n",
       "      <td>Female</td>\n",
       "      <td>7</td>\n",
       "      <td>6-11</td>\n",
       "      <td>Primary</td>\n",
       "      <td>Middle</td>\n",
       "    </tr>\n",
       "  </tbody>\n",
       "</table>\n",
       "</div>"
      ],
      "text/plain": [
       "     Child participated in POLIO campaign August 2013  diarrhea_status  \\\n",
       "789                                                 2               No   \n",
       "790                                                 2               No   \n",
       "791                                                 1               No   \n",
       "792                                                 1               No   \n",
       "793                                                 1               No   \n",
       "794                                                 1               No   \n",
       "795                                                 2               No   \n",
       "796                                                 1               No   \n",
       "797                                                 1               No   \n",
       "798                                                 1               No   \n",
       "\n",
       "     weight  height residence     Sex  age age_category   education  \\\n",
       "789     7.7    68.8     Urban  Female    7         6-11     Primary   \n",
       "790     7.0    69.0     Urban    Male    7         6-11     Primary   \n",
       "791    14.9    99.9     Urban  Female   45        36-47     Primary   \n",
       "792    13.7    95.5     Urban    Male   47        36-47     Primary   \n",
       "793    12.4    95.0     Urban  Female   43        36-47  Secondary+   \n",
       "794     8.3    67.0     Urban  Female    7         6-11     Primary   \n",
       "795     3.5    45.0     Urban    Male    0          0-5  Secondary+   \n",
       "796    15.1    86.0     Urban  Female   56        48-59     Primary   \n",
       "797    10.7    71.2     Urban  Female   18        12-23     Primary   \n",
       "798    10.3    73.0     Urban  Female    7         6-11     Primary   \n",
       "\n",
       "    wealth_index  \n",
       "789       Second  \n",
       "790       Second  \n",
       "791      Poorest  \n",
       "792       Fourth  \n",
       "793       Fourth  \n",
       "794       Fourth  \n",
       "795       Fourth  \n",
       "796       Fourth  \n",
       "797       Fourth  \n",
       "798       Middle  "
      ]
     },
     "execution_count": 51,
     "metadata": {},
     "output_type": "execute_result"
    }
   ],
   "source": [
    "df.tail(10)"
   ]
  },
  {
   "cell_type": "code",
   "execution_count": 12,
   "id": "4856b956-369c-499b-aa69-b5958fd15651",
   "metadata": {},
   "outputs": [],
   "source": [
    "#Define valid values for each field\n",
    "valid_genders={'Male','Female','Other'}\n",
    "valid_blood_types={'A+','A-','B+','B-','O+','0-','AB+','AB-'}\n",
    "valid_diagnosis_codes={'A00','B99','C30'}"
   ]
  },
  {
   "cell_type": "code",
   "execution_count": 16,
   "id": "f6a725d6-f863-4ac9-abd0-c758ee59c306",
   "metadata": {},
   "outputs": [
    {
     "data": {
      "text/html": [
       "<div>\n",
       "<style scoped>\n",
       "    .dataframe tbody tr th:only-of-type {\n",
       "        vertical-align: middle;\n",
       "    }\n",
       "\n",
       "    .dataframe tbody tr th {\n",
       "        vertical-align: top;\n",
       "    }\n",
       "\n",
       "    .dataframe thead th {\n",
       "        text-align: right;\n",
       "    }\n",
       "</style>\n",
       "<table border=\"1\" class=\"dataframe\">\n",
       "  <thead>\n",
       "    <tr style=\"text-align: right;\">\n",
       "      <th></th>\n",
       "      <th>patient ID</th>\n",
       "      <th>Name</th>\n",
       "      <th>Gender</th>\n",
       "      <th>Blood Type</th>\n",
       "      <th>Diagnosis Code</th>\n",
       "    </tr>\n",
       "  </thead>\n",
       "  <tbody>\n",
       "    <tr>\n",
       "      <th>0</th>\n",
       "      <td>1</td>\n",
       "      <td>Alice</td>\n",
       "      <td>Female</td>\n",
       "      <td>A+</td>\n",
       "      <td>AOO</td>\n",
       "    </tr>\n",
       "    <tr>\n",
       "      <th>1</th>\n",
       "      <td>2</td>\n",
       "      <td>Bob</td>\n",
       "      <td>Male</td>\n",
       "      <td>B-</td>\n",
       "      <td>B99</td>\n",
       "    </tr>\n",
       "    <tr>\n",
       "      <th>2</th>\n",
       "      <td>3</td>\n",
       "      <td>Charlie</td>\n",
       "      <td>Other</td>\n",
       "      <td>O+</td>\n",
       "      <td>C30</td>\n",
       "    </tr>\n",
       "    <tr>\n",
       "      <th>3</th>\n",
       "      <td>4</td>\n",
       "      <td>David</td>\n",
       "      <td>Unkown</td>\n",
       "      <td>AB-</td>\n",
       "      <td>XYZ</td>\n",
       "    </tr>\n",
       "  </tbody>\n",
       "</table>\n",
       "</div>"
      ],
      "text/plain": [
       "   patient ID     Name  Gender Blood Type Diagnosis Code\n",
       "0           1    Alice  Female         A+            AOO\n",
       "1           2      Bob    Male         B-            B99\n",
       "2           3  Charlie   Other         O+            C30\n",
       "3           4    David  Unkown        AB-            XYZ"
      ]
     },
     "execution_count": 16,
     "metadata": {},
     "output_type": "execute_result"
    }
   ],
   "source": [
    "import pandas as pd \n",
    "#simple health data\n",
    "data={\n",
    "    'patient ID':[1,2,3,4],\n",
    "    'Name':['Alice','Bob','Charlie','David'],\n",
    "    'Gender':['Female','Male','Other','Unkown'], \n",
    "    'Blood Type':['A+','B-','O+','AB-'],\n",
    "    'Diagnosis Code':['AOO','B99','C30','XYZ']\n",
    "}\n",
    "df=pd.DataFrame(data)\n",
    "df.head\n",
    "#Define valid values for each field\n",
    "valid_genders={'Male','Female','Other'}\n",
    "valid_blood_types={'A+','A-','B+','B-','O+','0-','AB+','AB-'}\n",
    "valid_diagnosis_codes={'A00','B99','C30'}\n",
    "df=pd.DataFrame(data)\n",
    "df.head()\n"
   ]
  },
  {
   "cell_type": "code",
   "execution_count": 24,
   "id": "bf7a5253-cd0b-445a-bd8a-1140fb74bff5",
   "metadata": {},
   "outputs": [
    {
     "data": {
      "text/html": [
       "<div>\n",
       "<style scoped>\n",
       "    .dataframe tbody tr th:only-of-type {\n",
       "        vertical-align: middle;\n",
       "    }\n",
       "\n",
       "    .dataframe tbody tr th {\n",
       "        vertical-align: top;\n",
       "    }\n",
       "\n",
       "    .dataframe thead th {\n",
       "        text-align: right;\n",
       "    }\n",
       "</style>\n",
       "<table border=\"1\" class=\"dataframe\">\n",
       "  <thead>\n",
       "    <tr style=\"text-align: right;\">\n",
       "      <th></th>\n",
       "      <th>patient ID</th>\n",
       "      <th>Name</th>\n",
       "      <th>Gender</th>\n",
       "      <th>Blood Type</th>\n",
       "      <th>Diagnosis Code</th>\n",
       "    </tr>\n",
       "  </thead>\n",
       "  <tbody>\n",
       "    <tr>\n",
       "      <th>0</th>\n",
       "      <td>1</td>\n",
       "      <td>Alice</td>\n",
       "      <td>Female</td>\n",
       "      <td>A+</td>\n",
       "      <td>AOO</td>\n",
       "    </tr>\n",
       "    <tr>\n",
       "      <th>1</th>\n",
       "      <td>2</td>\n",
       "      <td>Bob</td>\n",
       "      <td>Male</td>\n",
       "      <td>B-</td>\n",
       "      <td>B99</td>\n",
       "    </tr>\n",
       "    <tr>\n",
       "      <th>2</th>\n",
       "      <td>3</td>\n",
       "      <td>Charlie</td>\n",
       "      <td>Other</td>\n",
       "      <td>O+</td>\n",
       "      <td>C30</td>\n",
       "    </tr>\n",
       "    <tr>\n",
       "      <th>3</th>\n",
       "      <td>4</td>\n",
       "      <td>David</td>\n",
       "      <td>Unkown</td>\n",
       "      <td>AB-</td>\n",
       "      <td>XYZ</td>\n",
       "    </tr>\n",
       "  </tbody>\n",
       "</table>\n",
       "</div>"
      ],
      "text/plain": [
       "   patient ID     Name  Gender Blood Type Diagnosis Code\n",
       "0           1    Alice  Female         A+            AOO\n",
       "1           2      Bob    Male         B-            B99\n",
       "2           3  Charlie   Other         O+            C30\n",
       "3           4    David  Unkown        AB-            XYZ"
      ]
     },
     "execution_count": 24,
     "metadata": {},
     "output_type": "execute_result"
    }
   ],
   "source": [
    "#custom function to check the membership constraints \n",
    "def check_membership(value,valid_set):\n",
    "    if value not in valid_set:\n",
    "        return False\n",
    "    return True\n",
    "#Function to apply constraints and find invalid rows\n",
    "def validate_health_data(df):\n",
    "    invalid_rows=[]\n",
    "    for index, row in df.interview():\n",
    "        errors={}\n",
    "        if not check_membership(row['Gender'], valid_genders):\n",
    "            errors['Gender']=row['Gender']\n",
    "        if not check_membership(row['Blood Type'], valid_blood_types):\n",
    "            errors['Blood Type']=row['Blood Type']\n",
    "        if not check_membership(row['Diagnosis Code'], valid_diagnosis_codes):\n",
    "            errors['Diagnosis code']=row['Diagnosis Code']\n",
    "df=pd.DataFrame(data)\n",
    "df.head()\n",
    "            "
   ]
  },
  {
   "cell_type": "code",
   "execution_count": 30,
   "id": "5777859e-3bb2-4713-9c5a-439efcb1f724",
   "metadata": {},
   "outputs": [
    {
     "ename": "NameError",
     "evalue": "name 'invalid_entries' is not defined",
     "output_type": "error",
     "traceback": [
      "\u001b[1;31m---------------------------------------------------------------------------\u001b[0m",
      "\u001b[1;31mNameError\u001b[0m                                 Traceback (most recent call last)",
      "Cell \u001b[1;32mIn[30], line 20\u001b[0m\n\u001b[0;32m     18\u001b[0m df\u001b[38;5;241m.\u001b[39mhead()\n\u001b[0;32m     19\u001b[0m \u001b[38;5;66;03m#option 1:Remove invalid rows\u001b[39;00m\n\u001b[1;32m---> 20\u001b[0m df_cleaned\u001b[38;5;241m=\u001b[39mdf\u001b[38;5;241m.\u001b[39mdrop(index\u001b[38;5;241m=\u001b[39m[entry[\u001b[38;5;124m'\u001b[39m\u001b[38;5;124mindex\u001b[39m\u001b[38;5;124m'\u001b[39m] \u001b[38;5;28;01mfor\u001b[39;00m entry \u001b[38;5;129;01min\u001b[39;00m invalid_entries])\n\u001b[0;32m     22\u001b[0m \u001b[38;5;66;03m#option 2:Replace invalid values with defaults\u001b[39;00m\n\u001b[0;32m     23\u001b[0m \u001b[38;5;28;01mfor\u001b[39;00m entry \u001b[38;5;129;01min\u001b[39;00m invalid_entries:\n",
      "\u001b[1;31mNameError\u001b[0m: name 'invalid_entries' is not defined"
     ]
    }
   ],
   "source": [
    "#custom function to check the membership constraints \n",
    "def check_membership(value,valid_set):\n",
    "    if value not in valid_set:\n",
    "        return False\n",
    "    return True\n",
    "#Function to apply constraints and find invalid rows\n",
    "def validate_health_data(df):\n",
    "    invalid_rows=[]\n",
    "    for index, row in df.interview():\n",
    "        errors={}\n",
    "        if not check_membership(row['Gender'], valid_genders):\n",
    "            errors['Gender']=row['Gender']\n",
    "        if not check_membership(row['Blood Type'], valid_blood_types):\n",
    "            errors['Blood Type']=row['Blood Type']\n",
    "        if not check_membership(row['Diagnosis Code'], valid_diagnosis_codes):\n",
    "            errors['Diagnosis code']=row['Diagnosis Code']\n",
    "df=pd.DataFrame(data)\n",
    "df.head()\n",
    "#option 1:Remove invalid rows\n",
    "df_cleaned=df.drop(index=[entry['index'] for entry in invalid_entries])\n",
    "\n",
    "#option 2:Replace invalid values with defaults\n",
    "for entry in invalid_entries:\n",
    "    for field in entry['errors']:\n",
    "        if field=='Gender':\n",
    "            df.at[entry['index'],field]='0ther' #Default gender\n",
    "        elif field=='Diagnosis code':\n",
    "            df.at[entry['index'],field]='A00' #Default diagnosis code\n",
    "print(\"\\ncleaned DataFrame:\")\n",
    "print(df_cleaned)"
   ]
  },
  {
   "cell_type": "code",
   "execution_count": 26,
   "id": "99ba5cce-24bf-4e51-9b18-9677f82b0cb6",
   "metadata": {},
   "outputs": [
    {
     "name": "stdout",
     "output_type": "stream",
     "text": [
      "Invalid Rows:\n",
      "   EmployeeID Name  Age  Years_of_Experience  is_valid\n",
      "1           2  Bob   25                   27     False\n"
     ]
    }
   ],
   "source": [
    "import pandas as pd\n",
    "data={\n",
    "    'EmployeeID':[1,2,3,4],\n",
    "    'Name':['Alice','Bob','Charlie','David'],\n",
    "    'Age':[30,25,40,22],\n",
    "    'Years_of_Experience':[5,27,15,1]\n",
    "}\n",
    "df=pd.DataFrame(data)\n",
    "def validate_experience(row):\n",
    "   if row['Years_of_Experience'] >row['Age']:\n",
    "       return False\n",
    "   return True\n",
    "df['is_valid']=df.apply(validate_experience, axis=1)\n",
    "\n",
    "#Filter invalid rows\n",
    "invalid_rows = df[df['is_valid']==False]\n",
    "\n",
    "print(\"Invalid Rows:\")\n",
    "print(invalid_rows)"
   ]
  },
  {
   "cell_type": "code",
   "execution_count": 6,
   "id": "570cbff8-0316-416b-9f47-f8b5a23aaf75",
   "metadata": {},
   "outputs": [
    {
     "name": "stdout",
     "output_type": "stream",
     "text": [
      "  Start Date   End Date  valid\n",
      "0 2023-01-01 2023-01-01  False\n",
      "1 2023-02-01 2023-01-05  False\n",
      "2 2023-03-01 2023-04-01   True\n",
      "invalid rows found:\n",
      "  Start Date   End Date  valid\n",
      "0 2023-01-01 2023-01-01  False\n",
      "1 2023-02-01 2023-01-05  False\n"
     ]
    }
   ],
   "source": [
    "import pandas as pd\n",
    "data={'Start Date':['2023-01-01','2023-02-01','2023-03-01'],\n",
    "      'End Date':['2023-01-01','2023-01-05','2023-04-01']}\n",
    "df=pd.DataFrame(data)\n",
    "df['Start Date']=pd.to_datetime(df['Start Date'])\n",
    "df['End Date']=pd.to_datetime(df['End Date'])\n",
    "df['valid']=df['Start Date'] < df['End Date']\n",
    "\n",
    "print(df)\n",
    "\n",
    "#Optionally,you can filter or act on invalid rows\n",
    "invalid_rows=df[~df['valid']]\n",
    "if not invalid_rows.empty:\n",
    "    print(\"invalid rows found:\")\n",
    "    print(invalid_rows)\n",
    "else:\n",
    "    print(\"All rows are valid.\")\n",
    "    "
   ]
  },
  {
   "cell_type": "code",
   "execution_count": 7,
   "id": "9442e9c7-095f-4a83-b8e8-94099b929933",
   "metadata": {
    "scrolled": true
   },
   "outputs": [
    {
     "name": "stdout",
     "output_type": "stream",
     "text": [
      "  Start Date   End Date  valid\n",
      "0 2023-01-01 2023-01-01  False\n",
      "1 2023-02-01 2023-01-05  False\n",
      "2 2023-03-01 2023-04-01   True\n",
      "invalid rows found:\n",
      "  Start Date   End Date  valid\n",
      "0 2023-01-01 2023-01-01  False\n",
      "1 2023-02-01 2023-01-05  False\n"
     ]
    }
   ],
   "source": [
    "df['valid']=df['Start Date'] < df['End Date']\n",
    "\n",
    "print(df)\n",
    "\n",
    "#Optionally,you can filter or act on invalid rows\n",
    "invalid_rows=df[~df['valid']]\n",
    "if not invalid_rows.empty:\n",
    "    print(\"invalid rows found:\")\n",
    "    print(invalid_rows)\n",
    "else:\n",
    "    print(\"All rows are valid.\")\n",
    "    "
   ]
  },
  {
   "cell_type": "code",
   "execution_count": 3,
   "id": "5616a6a0-7005-4576-a20b-cbba07a08734",
   "metadata": {},
   "outputs": [],
   "source": [
    "import pandas as pd\n",
    "df=pd.read_csv(\"dirty.csv\")\n"
   ]
  },
  {
   "cell_type": "code",
   "execution_count": 22,
   "id": "0f60c97f-bdcb-4211-b746-ea9a708e1847",
   "metadata": {},
   "outputs": [
    {
     "name": "stdout",
     "output_type": "stream",
     "text": [
      "Invalid Rows\n",
      "  Start Date   End Date  valid\n",
      "0 2023-01-01 2023-01-01  False\n",
      "1 2023-02-01 2023-01-05  False\n"
     ]
    }
   ],
   "source": [
    "import pandas as pd\n",
    "df=pd.read_csv(\"dirty.csv\")\n",
    "def Validate_Height(row):\n",
    "   if row['Height'] > row['Weight']:\n",
    "      return False\n",
    "   return True\n",
    "df['is_valid' ]=df.apply(Validate_Height,axis=1)\n",
    "invalid_row =df[df['is_valid']==False]\n",
    "print('Invalid Rows')\n",
    "print(invalid_rows)"
   ]
  },
  {
   "cell_type": "code",
   "execution_count": 23,
   "id": "c41b79ac-f4c7-4e9a-8c2c-295c6a8179b5",
   "metadata": {},
   "outputs": [
    {
     "name": "stdout",
     "output_type": "stream",
     "text": [
      "Invalid Rows\n",
      "  Start Date   End Date  valid\n",
      "0 2023-01-01 2023-01-01  False\n",
      "1 2023-02-01 2023-01-05  False\n"
     ]
    }
   ],
   "source": [
    "import pandas as pd\n",
    "df=pd.read_csv(\"dirty.csv\")\n",
    "def Validate_Height(row):\n",
    "   if row['Height'] > row['Weight']:\n",
    "      return False\n",
    "      return True\n",
    "df['is_valid' ]=df.apply(Validate_Height,axis=1)\n",
    "invalid_row =df[df['is_valid']==True]\n",
    "print('Invalid Rows')\n",
    "print(invalid_rows)"
   ]
  },
  {
   "cell_type": "code",
   "execution_count": 16,
   "id": "969c82c0-a9bb-4bb0-85d4-48bbb0977f2f",
   "metadata": {},
   "outputs": [
    {
     "name": "stdout",
     "output_type": "stream",
     "text": [
      "Invalid Rows\n",
      "Empty DataFrame\n",
      "Columns: [Gender, Height, Weight, Index, Unnamed: 4, Unnamed: 5, female, male, is_valid]\n",
      "Index: []\n"
     ]
    }
   ],
   "source": [
    "import pandas as pd\n",
    "df=pd.read_csv(\"dirty.csv\")\n",
    "def Validate_Height(row):\n",
    "   if row['Height'] > row['Weight']:\n",
    "    \n",
    "    return False\n",
    "    return True\n",
    "df['is_valid' ]=df.apply(Validate_Height,axis=1)\n",
    "invalid_row =df[df['is_valid']==True]\n",
    "print('Invalid Rows')\n",
    "print(invalid_row)"
   ]
  },
  {
   "cell_type": "code",
   "execution_count": 29,
   "id": "54b33491-ccd8-4eed-9216-93663936df51",
   "metadata": {},
   "outputs": [
    {
     "name": "stdout",
     "output_type": "stream",
     "text": [
      "Original DataFrame:\n",
      "     A     B    C       D\n",
      "0  1.0   5.0  NaN     dog\n",
      "1  2.0   NaN  2.0     cat\n",
      "2  NaN   NaN  3.0     NaN\n",
      "3  4.0   8.0  4.0   mouse\n",
      "4  5.0  10.0  NaN  rabbit\n",
      "\n",
      "Detect missing values:\n",
      "       A      B      C      D\n",
      "0  False  False   True  False\n",
      "1  False   True  False  False\n",
      "2   True   True  False   True\n",
      "3  False  False  False  False\n",
      "4  False  False   True  False\n",
      "     A    B    C      D\n",
      "3  4.0  8.0  4.0  mouse\n",
      "\n",
      "DataFrame after dropping rows with missing values in column 'A or 'B':\n",
      "     A     B    C       D\n",
      "0  1.0   5.0  NaN     dog\n",
      "3  4.0   8.0  4.0   mouse\n",
      "4  5.0  10.0  NaN  rabbit\n"
     ]
    }
   ],
   "source": [
    "import pandas as pd\n",
    "import numpy as np\n",
    "#Sample DataFrame with missing values\n",
    "data={'A':[1,2,np.nan,4,5],\n",
    "      'B':[5,np.nan,np.nan,8,10],\n",
    "      'C':[np.nan,2,3,4,np.nan],\n",
    "      'D':['dog','cat',np.nan,'mouse','rabbit']}\n",
    "df=pd.DataFrame(data)\n",
    "print(\"Original DataFrame:\")\n",
    "print(df)\n",
    "#Detect missing values\n",
    "print(\"\\nDetect missing values:\")\n",
    "print(df.isnull())\n",
    "df_dropna=df.dropna()\n",
    "print(df_dropna)\n",
    "#Drop rows with missing values in specific columns(e.g,only drop if 'A' or 'B' IS MISSING)\n",
    "df_dropna_subset=df.dropna(subset=['A','B'])\n",
    "print(\"\\nDataFrame after dropping rows with missing values in column 'A or 'B':\")\n",
    "print(df_dropna_subset)\n",
    "    "
   ]
  },
  {
   "cell_type": "code",
   "execution_count": 26,
   "id": "b492eaef-d519-4286-98e7-78679b5cfce2",
   "metadata": {},
   "outputs": [
    {
     "name": "stdout",
     "output_type": "stream",
     "text": [
      "Original DataFrame:\n",
      "     A     B    C       D\n",
      "0  1.0   5.0  NaN     dog\n",
      "1  2.0   NaN  2.0     cat\n",
      "2  NaN   NaN  3.0     NaN\n",
      "3  4.0   8.0  4.0   mouse\n",
      "4  5.0  10.0  NaN  rabbit\n",
      "\n",
      "Detect missing values:\n",
      "       A      B      C      D\n",
      "0  False  False   True  False\n",
      "1  False   True  False  False\n",
      "2   True   True  False   True\n",
      "3  False  False  False  False\n",
      "4  False  False   True  False\n",
      "     A    B    C      D\n",
      "3  4.0  8.0  4.0  mouse\n"
     ]
    }
   ],
   "source": [
    "import pandas as pd\n",
    "import numpy as np\n",
    "#Sample DataFrame with missing values\n",
    "data={'A':[1,2,np.nan,4,5],\n",
    "      'B':[5,np.nan,np.nan,8,10],\n",
    "      'C':[np.nan,2,3,4,np.nan],\n",
    "      'D':['dog','cat',np.nan,'mouse','rabbit']}\n",
    "df=pd.DataFrame(data)\n",
    "print(\"Original DataFrame:\")\n",
    "print(df)\n",
    "#Detect missing values\n",
    "print(\"\\nDetect missing values:\")\n",
    "print(df.isnull())\n",
    "df_dropna=df.dropna()\n",
    "print(df_dropna)"
   ]
  },
  {
   "cell_type": "code",
   "execution_count": 28,
   "id": "f2706800-df1a-4cdf-8de0-0eae63f35c70",
   "metadata": {},
   "outputs": [
    {
     "name": "stdout",
     "output_type": "stream",
     "text": [
      "Original DataFrame:\n",
      "     A     B    C       D\n",
      "0  1.0   5.0  NaN     dog\n",
      "1  2.0   NaN  2.0     cat\n",
      "2  NaN   NaN  3.0     NaN\n",
      "3  4.0   8.0  4.0   mouse\n",
      "4  5.0  10.0  NaN  rabbit\n"
     ]
    }
   ],
   "source": [
    "import pandas as pd\n",
    "import numpy as np\n",
    "#Sample DataFrame with missing values\n",
    "data={'A':[1,2,np.nan,4,5],\n",
    "      'B':[5,np.nan,np.nan,8,10],\n",
    "      'C':[np.nan,2,3,4,np.nan],\n",
    "      'D':['dog','cat',np.nan,'mouse','rabbit']}\n",
    "df=pd.DataFrame(data)\n",
    "print(\"Original DataFrame:\")\n",
    "print(df)"
   ]
  },
  {
   "cell_type": "code",
   "execution_count": 41,
   "id": "84205ba0-ee4f-45f1-99d7-70572d2912de",
   "metadata": {},
   "outputs": [
    {
     "name": "stdout",
     "output_type": "stream",
     "text": [
      "Original DataFrame:\n",
      "     A     B    C       D\n",
      "0  1.0   5.0  NaN     dog\n",
      "1  2.0   NaN  2.0     cat\n",
      "2  NaN   NaN  3.0     NaN\n",
      "3  4.0   8.0  4.0   mouse\n",
      "4  5.0  10.0  NaN  rabbit\n",
      "\n",
      "Detect missing values:\n",
      "       A      B      C      D\n",
      "0  False  False   True  False\n",
      "1  False   True  False  False\n",
      "2   True   True  False   True\n",
      "3  False  False  False  False\n",
      "4  False  False   True  False\n",
      "     A    B    C      D\n",
      "3  4.0  8.0  4.0  mouse\n",
      "\n",
      "DataFrame after dropping rows with missing values in column 'A or 'B':\n",
      "     A     B    C       D\n",
      "0  1.0   5.0  NaN     dog\n",
      "3  4.0   8.0  4.0   mouse\n",
      "4  5.0  10.0  NaN  rabbit\n",
      "\n",
      "DataFrame after filing missing values with 0:\n",
      "     A     B    C       D\n",
      "0  1.0   5.0  0.0     dog\n",
      "1  2.0   0.0  2.0     cat\n",
      "2  0.0   0.0  3.0       0\n",
      "3  4.0   8.0  4.0   mouse\n",
      "4  5.0  10.0  0.0  rabbit\n"
     ]
    }
   ],
   "source": [
    "import pandas as pd\n",
    "import numpy as np\n",
    "#Sample DataFrame with missing values\n",
    "data={'A':[1,2,np.nan,4,5],\n",
    "      'B':[5,np.nan,np.nan,8,10],\n",
    "      'C':[np.nan,2,3,4,np.nan],\n",
    "      'D':['dog','cat',np.nan,'mouse','rabbit']}\n",
    "df=pd.DataFrame(data)\n",
    "print(\"Original DataFrame:\")\n",
    "print(df)\n",
    "#Detect missing values\n",
    "print(\"\\nDetect missing values:\")\n",
    "print(df.isnull())\n",
    "df_dropna=df.dropna()\n",
    "print(df_dropna)\n",
    "#Drop rows with missing values in specific columns(e.g,only drop if 'A' or 'B' IS MISSING)\n",
    "df_dropna_subset=df.dropna(subset=['A','B'])\n",
    "print(\"\\nDataFrame after dropping rows with missing values in column 'A or 'B':\")\n",
    "print(df_dropna_subset)\n",
    "#Fill missing values with a specific value\n",
    "df_fillna=df.fillna(0)\n",
    "print(\"\\nDataFrame after filing missing values with 0:\")\n",
    "print(df_fillna)\n",
    "    "
   ]
  },
  {
   "cell_type": "code",
   "execution_count": 48,
   "id": "3c3e0316-7bce-47da-abd0-470057947443",
   "metadata": {},
   "outputs": [
    {
     "name": "stdout",
     "output_type": "stream",
     "text": [
      "Original DataFrame:\n",
      "     A     B    C       D\n",
      "0  1.0   5.0  NaN     dog\n",
      "1  2.0   NaN  2.0     cat\n",
      "2  NaN   NaN  3.0     NaN\n",
      "3  4.0   8.0  4.0   mouse\n",
      "4  5.0  10.0  NaN  rabbit\n",
      "\n",
      "Detect missing values:\n",
      "       A      B      C      D\n",
      "0  False  False   True  False\n",
      "1  False   True  False  False\n",
      "2   True   True  False   True\n",
      "3  False  False  False  False\n",
      "4  False  False   True  False\n",
      "     A    B    C      D\n",
      "3  4.0  8.0  4.0  mouse\n",
      "\n",
      "DataFrame after dropping rows with missing values in column 'A or 'B':\n",
      "     A     B    C       D\n",
      "0  1.0   5.0  NaN     dog\n",
      "3  4.0   8.0  4.0   mouse\n",
      "4  5.0  10.0  NaN  rabbit\n",
      "\n",
      "DataFrame after filing missing values with 0:\n",
      "     A     B    C       D\n",
      "0  1.0   5.0  0.0     dog\n",
      "1  2.0   0.0  2.0     cat\n",
      "2  0.0   0.0  3.0       0\n",
      "3  4.0   8.0  4.0   mouse\n",
      "4  5.0  10.0  0.0  rabbit\n",
      "\n",
      "DataFrame after filling missing values with column mean:\n",
      "     A          B    C       D\n",
      "0  1.0   5.000000  3.0     dog\n",
      "1  2.0   7.666667  2.0     cat\n",
      "2  3.0   7.666667  3.0     NaN\n",
      "3  4.0   8.000000  4.0   mouse\n",
      "4  5.0  10.000000  3.0  rabbit\n",
      "\n",
      "DataFrame after interpolation:\n",
      "<bound method NDFrame.interpolate of      A     B    C       D\n",
      "0  1.0   5.0  NaN     dog\n",
      "1  2.0   NaN  2.0     cat\n",
      "2  NaN   NaN  3.0     NaN\n",
      "3  4.0   8.0  4.0   mouse\n",
      "4  5.0  10.0  NaN  rabbit>\n"
     ]
    }
   ],
   "source": [
    "import pandas as pd\n",
    "import numpy as np\n",
    "#Sample DataFrame with missing values\n",
    "data={'A':[1,2,np.nan,4,5],\n",
    "      'B':[5,np.nan,np.nan,8,10],\n",
    "      'C':[np.nan,2,3,4,np.nan],\n",
    "      'D':['dog','cat',np.nan,'mouse','rabbit']}\n",
    "df=pd.DataFrame(data)\n",
    "print(\"Original DataFrame:\")\n",
    "print(df)\n",
    "#Detect missing values\n",
    "print(\"\\nDetect missing values:\")\n",
    "print(df.isnull())\n",
    "df_dropna=df.dropna()\n",
    "print(df_dropna)\n",
    "#Drop rows with missing values in specific columns(e.g,only drop if 'A' or 'B' IS MISSING)\n",
    "df_dropna_subset=df.dropna(subset=['A','B'])\n",
    "print(\"\\nDataFrame after dropping rows with missing values in column 'A or 'B':\")\n",
    "print(df_dropna_subset)\n",
    "#Fill missing values with a specific value\n",
    "df_fillna=df.fillna(0)\n",
    "print(\"\\nDataFrame after filing missing values with 0:\")\n",
    "print(df_fillna)\n",
    "#Fill missing values with the mean of the column\n",
    "df_fillna_mean=df.fillna(df.mean(numeric_only=True))\n",
    "print(\"\\nDataFrame after filling missing values with column mean:\")\n",
    "print(df_fillna_mean)\n",
    "df_interpolate=df.interpolate\n",
    "print(\"\\nDataFrame after interpolation:\")\n",
    "print(df_interpolate)\n",
    "    "
   ]
  },
  {
   "cell_type": "code",
   "execution_count": 1,
   "id": "f8e1d067-b244-4afa-9124-064e20d4cb31",
   "metadata": {},
   "outputs": [
    {
     "data": {
      "text/html": [
       "<div>\n",
       "<style scoped>\n",
       "    .dataframe tbody tr th:only-of-type {\n",
       "        vertical-align: middle;\n",
       "    }\n",
       "\n",
       "    .dataframe tbody tr th {\n",
       "        vertical-align: top;\n",
       "    }\n",
       "\n",
       "    .dataframe thead th {\n",
       "        text-align: right;\n",
       "    }\n",
       "</style>\n",
       "<table border=\"1\" class=\"dataframe\">\n",
       "  <thead>\n",
       "    <tr style=\"text-align: right;\">\n",
       "      <th></th>\n",
       "      <th>ID</th>\n",
       "      <th>SurveyYr</th>\n",
       "      <th>Gender</th>\n",
       "      <th>Age</th>\n",
       "      <th>AgeDecade</th>\n",
       "      <th>AgeMonths</th>\n",
       "      <th>Education</th>\n",
       "      <th>MaritalStatus</th>\n",
       "      <th>HHIncome</th>\n",
       "      <th>HHIncomeMid</th>\n",
       "      <th>...</th>\n",
       "      <th>PhysActiveDays</th>\n",
       "      <th>TVHrsDay</th>\n",
       "      <th>SleepHrsNight</th>\n",
       "      <th>SleepTrouble</th>\n",
       "      <th>CompHrsDay</th>\n",
       "      <th>TVHrsDayChild</th>\n",
       "      <th>CompHrsDayChild</th>\n",
       "      <th>SmokeNow</th>\n",
       "      <th>Smoke100</th>\n",
       "      <th>Smoke100n</th>\n",
       "    </tr>\n",
       "  </thead>\n",
       "  <tbody>\n",
       "    <tr>\n",
       "      <th>0</th>\n",
       "      <td>51624</td>\n",
       "      <td>2009_10</td>\n",
       "      <td>male</td>\n",
       "      <td>34</td>\n",
       "      <td>30-39</td>\n",
       "      <td>409.0</td>\n",
       "      <td>High School</td>\n",
       "      <td>Married</td>\n",
       "      <td>25000-34999</td>\n",
       "      <td>30000.0</td>\n",
       "      <td>...</td>\n",
       "      <td>NaN</td>\n",
       "      <td>NaN</td>\n",
       "      <td>4.0</td>\n",
       "      <td>Yes</td>\n",
       "      <td>NaN</td>\n",
       "      <td>NaN</td>\n",
       "      <td>NaN</td>\n",
       "      <td>No</td>\n",
       "      <td>Yes</td>\n",
       "      <td>Smoker</td>\n",
       "    </tr>\n",
       "    <tr>\n",
       "      <th>1</th>\n",
       "      <td>51625</td>\n",
       "      <td>2009_10</td>\n",
       "      <td>male</td>\n",
       "      <td>4</td>\n",
       "      <td>0-9</td>\n",
       "      <td>49.0</td>\n",
       "      <td>NaN</td>\n",
       "      <td>NaN</td>\n",
       "      <td>20000-24999</td>\n",
       "      <td>22500.0</td>\n",
       "      <td>...</td>\n",
       "      <td>NaN</td>\n",
       "      <td>NaN</td>\n",
       "      <td>NaN</td>\n",
       "      <td>NaN</td>\n",
       "      <td>NaN</td>\n",
       "      <td>4.0</td>\n",
       "      <td>1.0</td>\n",
       "      <td>NaN</td>\n",
       "      <td>NaN</td>\n",
       "      <td>NaN</td>\n",
       "    </tr>\n",
       "    <tr>\n",
       "      <th>2</th>\n",
       "      <td>51630</td>\n",
       "      <td>2009_10</td>\n",
       "      <td>female</td>\n",
       "      <td>49</td>\n",
       "      <td>40-49</td>\n",
       "      <td>596.0</td>\n",
       "      <td>Some College</td>\n",
       "      <td>LivePartner</td>\n",
       "      <td>35000-44999</td>\n",
       "      <td>40000.0</td>\n",
       "      <td>...</td>\n",
       "      <td>NaN</td>\n",
       "      <td>NaN</td>\n",
       "      <td>8.0</td>\n",
       "      <td>Yes</td>\n",
       "      <td>NaN</td>\n",
       "      <td>NaN</td>\n",
       "      <td>NaN</td>\n",
       "      <td>Yes</td>\n",
       "      <td>Yes</td>\n",
       "      <td>Smoker</td>\n",
       "    </tr>\n",
       "    <tr>\n",
       "      <th>3</th>\n",
       "      <td>51638</td>\n",
       "      <td>2009_10</td>\n",
       "      <td>male</td>\n",
       "      <td>9</td>\n",
       "      <td>0-9</td>\n",
       "      <td>115.0</td>\n",
       "      <td>NaN</td>\n",
       "      <td>NaN</td>\n",
       "      <td>75000-99999</td>\n",
       "      <td>87500.0</td>\n",
       "      <td>...</td>\n",
       "      <td>NaN</td>\n",
       "      <td>NaN</td>\n",
       "      <td>NaN</td>\n",
       "      <td>NaN</td>\n",
       "      <td>NaN</td>\n",
       "      <td>5.0</td>\n",
       "      <td>0.0</td>\n",
       "      <td>NaN</td>\n",
       "      <td>NaN</td>\n",
       "      <td>NaN</td>\n",
       "    </tr>\n",
       "    <tr>\n",
       "      <th>4</th>\n",
       "      <td>51646</td>\n",
       "      <td>2009_10</td>\n",
       "      <td>male</td>\n",
       "      <td>8</td>\n",
       "      <td>0-9</td>\n",
       "      <td>101.0</td>\n",
       "      <td>NaN</td>\n",
       "      <td>NaN</td>\n",
       "      <td>55000-64999</td>\n",
       "      <td>60000.0</td>\n",
       "      <td>...</td>\n",
       "      <td>NaN</td>\n",
       "      <td>NaN</td>\n",
       "      <td>NaN</td>\n",
       "      <td>NaN</td>\n",
       "      <td>NaN</td>\n",
       "      <td>1.0</td>\n",
       "      <td>6.0</td>\n",
       "      <td>NaN</td>\n",
       "      <td>NaN</td>\n",
       "      <td>NaN</td>\n",
       "    </tr>\n",
       "  </tbody>\n",
       "</table>\n",
       "<p>5 rows × 37 columns</p>\n",
       "</div>"
      ],
      "text/plain": [
       "      ID SurveyYr  Gender  Age AgeDecade  AgeMonths     Education  \\\n",
       "0  51624  2009_10    male   34     30-39      409.0   High School   \n",
       "1  51625  2009_10    male    4       0-9       49.0           NaN   \n",
       "2  51630  2009_10  female   49     40-49      596.0  Some College   \n",
       "3  51638  2009_10    male    9       0-9      115.0           NaN   \n",
       "4  51646  2009_10    male    8       0-9      101.0           NaN   \n",
       "\n",
       "  MaritalStatus     HHIncome  HHIncomeMid  ...  PhysActiveDays  TVHrsDay  \\\n",
       "0       Married  25000-34999      30000.0  ...             NaN       NaN   \n",
       "1           NaN  20000-24999      22500.0  ...             NaN       NaN   \n",
       "2   LivePartner  35000-44999      40000.0  ...             NaN       NaN   \n",
       "3           NaN  75000-99999      87500.0  ...             NaN       NaN   \n",
       "4           NaN  55000-64999      60000.0  ...             NaN       NaN   \n",
       "\n",
       "  SleepHrsNight SleepTrouble  CompHrsDay  TVHrsDayChild  CompHrsDayChild  \\\n",
       "0           4.0          Yes         NaN            NaN              NaN   \n",
       "1           NaN          NaN         NaN            4.0              1.0   \n",
       "2           8.0          Yes         NaN            NaN              NaN   \n",
       "3           NaN          NaN         NaN            5.0              0.0   \n",
       "4           NaN          NaN         NaN            1.0              6.0   \n",
       "\n",
       "  SmokeNow  Smoke100  Smoke100n  \n",
       "0       No       Yes     Smoker  \n",
       "1      NaN       NaN        NaN  \n",
       "2      Yes       Yes     Smoker  \n",
       "3      NaN       NaN        NaN  \n",
       "4      NaN       NaN        NaN  \n",
       "\n",
       "[5 rows x 37 columns]"
      ]
     },
     "execution_count": 1,
     "metadata": {},
     "output_type": "execute_result"
    }
   ],
   "source": [
    "import pandas as pd\n",
    "import numpy as np\n",
    "import matplotlib.pyplot as plt\n",
    "import seaborn as sns\n",
    "from statsmodels.graphics.mosaicplot import mosaic\n",
    "\n",
    "#load the dataset\n",
    "data=pd.read_csv('nhanesr.csv')\n",
    "data.head ()"
   ]
  },
  {
   "cell_type": "code",
   "execution_count": null,
   "id": "1a736126-9328-436c-a07f-ee4b8967189a",
   "metadata": {},
   "outputs": [],
   "source": [
    "import pandas as pd\n",
    "data=pd.read_csv('n"
   ]
  },
  {
   "cell_type": "code",
   "execution_count": null,
   "id": "d27b5037-7f0a-4478-972e-f2e343cdebe6",
   "metadata": {},
   "outputs": [],
   "source": []
  }
 ],
 "metadata": {
  "kernelspec": {
   "display_name": "Python 3 (ipykernel)",
   "language": "python",
   "name": "python3"
  },
  "language_info": {
   "codemirror_mode": {
    "name": "ipython",
    "version": 3
   },
   "file_extension": ".py",
   "mimetype": "text/x-python",
   "name": "python",
   "nbconvert_exporter": "python",
   "pygments_lexer": "ipython3",
   "version": "3.11.7"
  }
 },
 "nbformat": 4,
 "nbformat_minor": 5
}
