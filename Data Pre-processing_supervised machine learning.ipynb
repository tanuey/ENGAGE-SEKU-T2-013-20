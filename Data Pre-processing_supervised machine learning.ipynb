{
 "cells": [
  {
   "cell_type": "markdown",
   "id": "452d3ecd",
   "metadata": {
    "id": "452d3ecd"
   },
   "source": [
    "<h2> DATA CLEANING AND DATA PROCESSING IN SUPERVISED MACHINE LEARING</h2>\n",
    "\n"
   ]
  },
  {
   "cell_type": "markdown",
   "id": "8a48eaef",
   "metadata": {
    "id": "8a48eaef"
   },
   "source": [
    "As we discussed earlier, machine learning can be categorized into two major categories: Supervised machine learning and unsurpervised machine learning. In this section we are going to look at\n",
    "\n",
    "1. Pre-processing data for supervised learning.\n",
    "2. Application of the supervised machine-learning model using specific dataset.\n",
    "\n",
    "By the end of this section, the learner should be able to;\n",
    "1. Preprocess data that can be used for supervised machine learning\n",
    "\n",
    " **<h2>1. Supervised Learning </h2>**\n",
    "In supervised learning, the training dataset comprises examples with input attributes and matching output labels, and the system learns from labelled data. The objective is to gain knowledge about a mapping between input and output variables by using sample input-output pairs.\n",
    "\n",
    "**Examples**  \n",
    "- Making health risk predictions using lifestyle and demographic data.  \n",
    "- Identifying diseases like cancer through the classification of medical photos to see whether he photo captured has a benin or a maligant turmor.  \n",
    "\n",
    "**2. Unsupervised Learning**\n",
    "\n",
    "In an unsupervised learning scenario, the system learns on unlabeled data—data for which there are no output labels. Rather, the algorithm searches the data on its own for structures, associations, correlations, and patterns.\n",
    "\n",
    "**Examples**\n",
    "\n",
    "- Organizing patient profiles into clusters to customize treatment strategies.  \n",
    "- Spotting unusual trends in medical data to find health crises.\n",
    "\n",
    "**3. Reinforcement Learning**\n",
    "\n",
    "This is a form of machine learning where the algorithms learns through rewards or penalities. As the algorithm, interacts with its environment, it is rewarded for the right decisions and penalized for the wrong decisions.Overtime the algorithms leanrs the right combination of actions to take in order to maximize the cumulative reward.\n",
    "\n",
    "**Examples**  \n",
    "- Adaptive strategies to support good habits, such as exercising or giving up smoking.  \n",
    "- Enhancing immunization programs to stop the spread of contagious illnesses.  "
   ]
  },
  {
   "cell_type": "markdown",
   "id": "7064ab96",
   "metadata": {
    "id": "7064ab96"
   },
   "source": [
    "# Supervised Learning\n",
    "\n",
    "As we mentioned earlier supervised machine learning involves learning from labeled data, where each sample has labels assigned to its associated input attributes. The algorithms is given a set of data that has both the predictor variable and the outcome variable. For example in the case of predicting whether a tumor is benin or marliginant, the algorithms is given the dataset that has images of both tumors with their corresponding lables such as benin or maliginant.\n",
    "\n",
    "The objective is to gain knowledge about a mapping between input and output variables by using sample input-output pairs. Similar to guided learning, this approach teaches the algorithm to anticipate or decide on  data by using examples with well-defined solutions.  \n",
    "\n",
    "Imagine using a person's BMI to forecast if they are underweight, normal weight, overweight, or obese.\n",
    "\n",
    "<h3>Key Concepts:</h3>\n",
    "\n",
    "1. **Labeled Data**: We have data about different people's BMIs, and we also know whether they are underweight, normal weight, overweight, or obese. This is like having labels on the data.\n",
    "\n",
    "2. **Input Features**: The input features are the determinants of the output variables for example if we are predicting if a person is overweight, underweight based on their weight and height, then the weight and height become the input features.\n",
    "\n",
    "3. **Output Labels**: The output labels are the categories we want to predict, like \"underweight,\" \"normal weight,\" \"overweight,\" or \"obese.\"\n",
    "\n",
    "4. **Learning Process**: We use the data we have to learn how height, weight, and BMI relate to each other. We learn from examples to understand what combination of height and weight corresponds to each BMI category.\n",
    "\n",
    "5. **Generalization**: After learning from many examples, we should be able to predict the BMI category for new people based on their height and weight.\n",
    "\n",
    "## Types of Supervised Learning\n",
    "\n",
    "1. **Regression**: Regression algorithms are used for predicting numerical values such as BMI, income, expenses. This numerical values are the ones that was reffered to us continous variables.\n",
    "\n",
    "2. **Classification**: Classification is used for predicting categories such as \"underweight,\" \"normal weight,\" \"overweight,\" or \"obese\" based on their BMI.\n",
    "\n",
    "**<h3> Differences in data assumptions for the different supervised learning.</h3>**\n",
    "\n",
    "**Regression**\n",
    "\n",
    "**Data Assumptions**  \n",
    "- The output variable is continuous, meaning it can take any real value within a range.  \n",
    "- The relationship between input features and output variable is assumed to be linear or can be approximated by a linear function. That means you can draw a straight line that fits the data points.  \n",
    "- Residuals (the differences between actual and predicted values) are assumed to be follow a normal distribution.    \n",
    "\n",
    "**Classification**\n",
    "\n",
    "**Data Assumptions**  \n",
    "- The output variable is categorical, meaning it falls into discrete classes or categories.\n",
    "- The relationship between input features and output classes is not necessarily linear. You do not need to fit a straight line that passes through all the datapoints.\n",
    "- The classes are assumed to be well-separated in the feature space, meaning there is a clear boundary between different classes. You can always check this using a scatter plot that will indicate if the data has different grouping.\n",
    "\n",
    "## Pre-processing Data for Supervised Machine Learning\n",
    "### Fetch data\n",
    "\n",
    "For you to do any machine learning project, you will need to clean and transofrm the data into a format that can be consumed by the machine learning algorithm.\n",
    "\n",
    "The data we get from the real world is not usually in a format that is ready for training the machine learning algorithms so we will need to clean and tranform the data.\n",
    "\n",
    "The following are some of the data pre-processing methods used for cleaning and transforming the data and to demonstrate this techniques we will use the dataset about body mass index.\n",
    "\n",
    "Before starting to work on the dataset, we will need to read the data.\n",
    " \"Kaggle\" https://www.kaggle.com/datasets/sjagkoo7/bmi-body-mass-index?select=bmi_train.csv\n",
    "\n",
    "**NOTE**: you will need to download the data\n",
    "\n",
    "**<h3>Import Data</h3>**\n",
    "\n",
    "We will  start by importing your the dataset into our working environment. We will use the pandas function called rea_csv() because our file is in CSV format.\n",
    "\n"
   ]
  },
  {
   "cell_type": "code",
   "execution_count": null,
   "id": "jGqe-exM3u16",
   "metadata": {
    "colab": {
     "base_uri": "https://localhost:8080/"
    },
    "executionInfo": {
     "elapsed": 31854,
     "status": "ok",
     "timestamp": 1716558728624,
     "user": {
      "displayName": "Selina Atwani Ochukut",
      "userId": "02295218241410605702"
     },
     "user_tz": -180
    },
    "id": "jGqe-exM3u16",
    "outputId": "a95e7b53-1cc9-4c08-abfe-db28ba967818"
   },
   "outputs": [
    {
     "name": "stdout",
     "output_type": "stream",
     "text": [
      "Mounted at /content/drive\n"
     ]
    }
   ],
   "source": [
    "from google.colab import drive\n",
    "drive.mount('/content/drive')"
   ]
  },
  {
   "cell_type": "code",
   "execution_count": 3,
   "id": "5f3542a0",
   "metadata": {
    "id": "5f3542a0"
   },
   "outputs": [],
   "source": [
    "import pandas as pd\n",
    "\n",
    "# Read the downloaded CSV file into a DataFrame\n",
    "data = pd.read_csv(\"bmi_train.csv\")"
   ]
  },
  {
   "cell_type": "markdown",
   "id": "722c627e",
   "metadata": {
    "id": "722c627e"
   },
   "source": [
    "### Explore Data\n",
    "Take a preliminary look at your data to understand its structure, dimensions, and the types of variables it contains.  \n",
    "\n",
    "**Viewing the first five rows**\n",
    "\n",
    "We can start by viewing the first five rows in the dataset. To do this we will use the pandas head() function. We use the print function in combination with the head() function to display it.\n"
   ]
  },
  {
   "cell_type": "code",
   "execution_count": 4,
   "id": "690ecbbf",
   "metadata": {
    "colab": {
     "base_uri": "https://localhost:8080/"
    },
    "executionInfo": {
     "elapsed": 408,
     "status": "ok",
     "timestamp": 1716558991117,
     "user": {
      "displayName": "Selina Atwani Ochukut",
      "userId": "02295218241410605702"
     },
     "user_tz": -180
    },
    "id": "690ecbbf",
    "outputId": "ebcdb771-89f9-4ffe-b9e6-015cf76e69cf"
   },
   "outputs": [
    {
     "name": "stdout",
     "output_type": "stream",
     "text": [
      "  Gender  Height  Weight  Index\n",
      "0   Male     161      89      4\n",
      "1   Male     179     127      4\n",
      "2   Male     172     139      5\n",
      "3   Male     153     104      5\n",
      "4   Male     165      68      2\n"
     ]
    }
   ],
   "source": [
    "# View the first few rows of the DataFrame\n",
    "print(data.head())"
   ]
  },
  {
   "cell_type": "code",
   "execution_count": 7,
   "id": "d6080662-a9a7-4945-8cde-a74bb92dc5a2",
   "metadata": {},
   "outputs": [
    {
     "name": "stdout",
     "output_type": "stream",
     "text": [
      "    Gender  Height  Weight  Index\n",
      "395   Male     166     160      5\n",
      "396   Male     145     130      5\n",
      "397   Male     178     138      5\n",
      "398   Male     168     158      5\n",
      "399   Male     161     155      5\n"
     ]
    }
   ],
   "source": [
    "print(data.tail())"
   ]
  },
  {
   "cell_type": "markdown",
   "id": "sc3okEDp5EBA",
   "metadata": {
    "id": "sc3okEDp5EBA"
   },
   "source": [
    "From the dataset we can see that our data has four columns. We can check to see how big the data is using the shape attribute."
   ]
  },
  {
   "cell_type": "code",
   "execution_count": 3,
   "id": "fa3KewUF5XYC",
   "metadata": {
    "colab": {
     "base_uri": "https://localhost:8080/"
    },
    "executionInfo": {
     "elapsed": 488,
     "status": "ok",
     "timestamp": 1716559130586,
     "user": {
      "displayName": "Selina Atwani Ochukut",
      "userId": "02295218241410605702"
     },
     "user_tz": -180
    },
    "id": "fa3KewUF5XYC",
    "outputId": "e4a2695a-12c9-4e8e-cf0a-0dd0b0bf4c36"
   },
   "outputs": [
    {
     "name": "stdout",
     "output_type": "stream",
     "text": [
      "(400, 4)\n"
     ]
    }
   ],
   "source": [
    "print(data.shape)"
   ]
  },
  {
   "cell_type": "markdown",
   "id": "HXvmCIb55cSU",
   "metadata": {
    "id": "HXvmCIb55cSU"
   },
   "source": [
    "The result of the shape function shows that we have  400 rows and 4 columns. Now that we have seen our big our data is, we can  try to describe the data using using descriptive statistics using the\n",
    "\n",
    "    describe() function\n",
    "\n"
   ]
  },
  {
   "cell_type": "code",
   "execution_count": 5,
   "id": "I3cCpCZt4uQW",
   "metadata": {
    "colab": {
     "base_uri": "https://localhost:8080/"
    },
    "executionInfo": {
     "elapsed": 6,
     "status": "ok",
     "timestamp": 1716559320496,
     "user": {
      "displayName": "Selina Atwani Ochukut",
      "userId": "02295218241410605702"
     },
     "user_tz": -180
    },
    "id": "I3cCpCZt4uQW",
    "outputId": "b3ed7e08-663d-490b-f743-85170032eb19"
   },
   "outputs": [
    {
     "name": "stdout",
     "output_type": "stream",
     "text": [
      "           Height      Weight       Index\n",
      "count  400.000000  400.000000  400.000000\n",
      "mean   170.362500  106.060000    3.737500\n",
      "std     16.574011   32.362242    1.370507\n",
      "min    140.000000   50.000000    0.000000\n",
      "25%    156.000000   80.000000    3.000000\n",
      "50%    171.000000  106.500000    4.000000\n",
      "75%    184.000000  136.250000    5.000000\n",
      "max    199.000000  160.000000    5.000000\n"
     ]
    }
   ],
   "source": [
    "# Summary statistics for numerical variables\n",
    "print(data.describe())"
   ]
  },
  {
   "cell_type": "markdown",
   "id": "JmmWZAbu6LI1",
   "metadata": {
    "id": "JmmWZAbu6LI1"
   },
   "source": [
    "The function provides information about the count, the mean, the standard diviation, the min, max, the 25%, 50% and 75% percentiles for all the numerical columns in our data.\n",
    "\n",
    "We can also get information about our dataset in terms of the data types of the columns."
   ]
  },
  {
   "cell_type": "code",
   "execution_count": 6,
   "id": "eBx6CY5i6H1D",
   "metadata": {
    "colab": {
     "base_uri": "https://localhost:8080/"
    },
    "executionInfo": {
     "elapsed": 445,
     "status": "ok",
     "timestamp": 1716559422581,
     "user": {
      "displayName": "Selina Atwani Ochukut",
      "userId": "02295218241410605702"
     },
     "user_tz": -180
    },
    "id": "eBx6CY5i6H1D",
    "outputId": "02e76224-d9f5-47f4-e7d9-5f3edc76cf03"
   },
   "outputs": [
    {
     "name": "stdout",
     "output_type": "stream",
     "text": [
      "<class 'pandas.core.frame.DataFrame'>\n",
      "RangeIndex: 400 entries, 0 to 399\n",
      "Data columns (total 4 columns):\n",
      " #   Column  Non-Null Count  Dtype \n",
      "---  ------  --------------  ----- \n",
      " 0   Gender  400 non-null    object\n",
      " 1   Height  400 non-null    int64 \n",
      " 2   Weight  400 non-null    int64 \n",
      " 3   Index   400 non-null    int64 \n",
      "dtypes: int64(3), object(1)\n",
      "memory usage: 12.6+ KB\n",
      "None\n"
     ]
    }
   ],
   "source": [
    "# Structure of the DataFrame\n",
    "print(data.info())"
   ]
  },
  {
   "cell_type": "markdown",
   "id": "145d9473",
   "metadata": {
    "id": "145d9473"
   },
   "source": [
    "## Data Cleaning\n",
    "\n",
    "**Identify and Handle Missing Values**\n",
    "\n",
    "Sometimes, we will have data that is missing, in our dataset. In order to check if our dataset has missing data, we will use the\n",
    "\n",
    "      isna() function\n",
    "\n",
    "After checking for the missing values, we will explore how to handle the missing data..\n",
    "\n"
   ]
  },
  {
   "cell_type": "markdown",
   "id": "ENaO8hJMo_o3",
   "metadata": {
    "id": "ENaO8hJMo_o3"
   },
   "source": []
  },
  {
   "cell_type": "code",
   "execution_count": 8,
   "id": "a2e75f60",
   "metadata": {
    "colab": {
     "base_uri": "https://localhost:8080/"
    },
    "executionInfo": {
     "elapsed": 564,
     "status": "ok",
     "timestamp": 1716560541656,
     "user": {
      "displayName": "Selina Atwani Ochukut",
      "userId": "02295218241410605702"
     },
     "user_tz": -180
    },
    "id": "a2e75f60",
    "outputId": "b5c5beec-f57b-405e-c54b-91885534b154"
   },
   "outputs": [
    {
     "name": "stdout",
     "output_type": "stream",
     "text": [
      "Gender    0\n",
      "Height    0\n",
      "Weight    0\n",
      "Index     0\n",
      "dtype: int64\n"
     ]
    }
   ],
   "source": [
    "# Check for missing values\n",
    "print(data.isna().sum())"
   ]
  },
  {
   "cell_type": "markdown",
   "id": "b-hAaJOr-2Po",
   "metadata": {
    "id": "b-hAaJOr-2Po"
   },
   "source": [
    "From the output, we can see that our data has no missing data."
   ]
  },
  {
   "cell_type": "markdown",
   "id": "de9f7659",
   "metadata": {
    "id": "de9f7659"
   },
   "source": [
    "\n",
    "**Handle Outliers**  \n",
    "Detect and handle outliers in your data. You can choose to remove outliers, transform them, or treat them differently based on your analysis goals.\n",
    "Start by importing/loading necessary libraries."
   ]
  },
  {
   "cell_type": "code",
   "execution_count": 10,
   "id": "2b48051f",
   "metadata": {
    "id": "2b48051f"
   },
   "outputs": [],
   "source": [
    "# Detect and handle outliers in your data\n",
    "import matplotlib.pyplot as plt\n",
    "import seaborn as sns\n",
    "\n",
    "# Visualize boxplot to identify outliers\n",
    "#sns.boxplot(x='', y='column_name', data=data)\n",
    "#plt.show()\n",
    "\n",
    "# Define threshold\n",
    "#threshold = 10  # Define your threshold value here\n",
    "\n",
    "# Remove outliers\n",
    "#data = data[data['column_name'] < threshold]\n"
   ]
  },
  {
   "cell_type": "code",
   "execution_count": 11,
   "id": "316e54d7",
   "metadata": {
    "id": "316e54d7",
    "outputId": "8de9a075-14a6-4db6-cfdd-d8bea455db24"
   },
   "outputs": [
    {
     "data": {
      "image/png": "[encoded data removed]",
      "text/plain": [
       "<Figure size 800x600 with 1 Axes>"
      ]
     },
     "metadata": {},
     "output_type": "display_data"
    }
   ],
   "source": [
    "\n",
    "# Create scatter plot for Height vs Weight variables with outliers\n",
    "plt.figure(figsize=(8, 6))\n",
    "sns.scatterplot(x='Height', y='Weight', data=data, color='blue')  # Plot all points\n",
    "outliers = data[(data['Height'] > data['Height'].quantile(0.75) + 1.5 * (data['Height'].quantile(0.75) - data['Height'].quantile(0.25))) |\n",
    "                (data['Height'] < data['Height'].quantile(0.25) - 1.5 * (data['Height'].quantile(0.75) - data['Height'].quantile(0.25))) |\n",
    "                (data['Weight'] > data['Weight'].quantile(0.75) + 1.5 * (data['Weight'].quantile(0.75) - data['Weight'].quantile(0.25))) |\n",
    "                (data['Weight'] < data['Weight'].quantile(0.25) - 1.5 * (data['Weight'].quantile(0.75) - data['Weight'].quantile(0.25)))]\n",
    "sns.scatterplot(x='Height', y='Weight', data=outliers, color='red')  # Highlight outliers in red\n",
    "plt.title('Scatter Plot of Height vs Weight with Outliers')\n",
    "plt.xlabel('Height')\n",
    "plt.ylabel('Weight')\n",
    "plt.show()"
   ]
  },
  {
   "cell_type": "markdown",
   "id": "506ce1c4",
   "metadata": {
    "id": "506ce1c4"
   },
   "source": [
    "**Standardize/Normalize Data**  \n",
    "Standardize or normalize numerical variables to ensure that they have a comparable scale.\n"
   ]
  },
  {
   "cell_type": "code",
   "execution_count": 8,
   "id": "bf2f5af1",
   "metadata": {
    "id": "bf2f5af1"
   },
   "outputs": [],
   "source": [
    "from sklearn.preprocessing import StandardScaler, MinMaxScaler\n",
    "\n",
    "# Standardization\n",
    "# scaler = StandardScaler()\n",
    "# data['numeric_column'] = scaler.fit_transform(data[['numeric_column']])\n",
    "\n",
    "# Normalization\n",
    "# scaler = MinMaxScaler()\n",
    "# data['numeric_column'] = scaler.fit_transform(data[['numeric_column']])\n",
    "\n"
   ]
  },
  {
   "cell_type": "code",
   "execution_count": null,
   "id": "2ePqy_tyrNYO",
   "metadata": {
    "id": "2ePqy_tyrNYO"
   },
   "outputs": [],
   "source": []
  },
  {
   "cell_type": "markdown",
   "id": "67319857",
   "metadata": {
    "id": "67319857"
   },
   "source": [
    "**Handle Categorical Variables**  \n",
    "Convert categorical variables into a suitable format for analysis. This may involve one-hot encoding, label encoding, or other techniques.\n"
   ]
  },
  {
   "cell_type": "code",
   "execution_count": null,
   "id": "IbcIpDhorM7G",
   "metadata": {
    "id": "IbcIpDhorM7G"
   },
   "outputs": [],
   "source": []
  },
  {
   "cell_type": "code",
   "execution_count": null,
   "id": "df5d28fc",
   "metadata": {
    "id": "df5d28fc"
   },
   "outputs": [],
   "source": [
    "import pandas as pd\n",
    "\n",
    "# One-hot encoding\n",
    "# data = pd.get_dummies(data, columns=['factor_column'], drop_first=True)\n",
    "\n",
    "# Label encoding\n",
    "# from sklearn.preprocessing import LabelEncoder\n",
    "# label_encoder = LabelEncoder()\n",
    "# data['factor_column'] = label_encoder.fit_transform(data['factor_column'])\n",
    "# *Replace 'factor_column' with the name of your categorical column.*"
   ]
  },
  {
   "cell_type": "markdown",
   "id": "c127437d",
   "metadata": {
    "id": "c127437d"
   },
   "source": [
    "\n",
    "**Feature Engineering**  \n",
    "Create new features or transform existing ones to better represent the underlying patterns in your data.\n"
   ]
  },
  {
   "cell_type": "code",
   "execution_count": null,
   "id": "f0179f89",
   "metadata": {
    "id": "f0179f89"
   },
   "outputs": [],
   "source": [
    "# Example: Creating a new feature\n",
    "# data['new_feature'] = data['feature1'] * data['feature2']\n",
    "#*Replace 'new_feature', 'feature1', and 'feature2' with the appropriate column names from your dataset. *"
   ]
  },
  {
   "cell_type": "markdown",
   "id": "2c96fae8",
   "metadata": {
    "id": "2c96fae8"
   },
   "source": [
    "**Final Data Checks**\n",
    "Perform a final check to ensure that your data is clean and ready for analysis.\n",
    "\n"
   ]
  },
  {
   "cell_type": "code",
   "execution_count": null,
   "id": "cace8770",
   "metadata": {
    "id": "cace8770",
    "outputId": "46161534-d4f6-4a61-a85f-f66b90eb2d78"
   },
   "outputs": [
    {
     "name": "stdout",
     "output_type": "stream",
     "text": [
      "           Height      Weight       Index\n",
      "count  400.000000  400.000000  400.000000\n",
      "mean   170.362500  106.060000    3.737500\n",
      "std     16.574011   32.362242    1.370507\n",
      "min    140.000000   50.000000    0.000000\n",
      "25%    156.000000   80.000000    3.000000\n",
      "50%    171.000000  106.500000    4.000000\n",
      "75%    184.000000  136.250000    5.000000\n",
      "max    199.000000  160.000000    5.000000\n",
      "(400, 4)\n"
     ]
    }
   ],
   "source": [
    "# Summary statistics\n",
    "print(data.describe())\n",
    "\n",
    "# Dimensions of the dataset\n",
    "print(data.shape)"
   ]
  },
  {
   "cell_type": "markdown",
   "id": "bb40dc19",
   "metadata": {
    "id": "bb40dc19"
   },
   "source": [
    "**Save Cleaned Data**  \n",
    "Finally, save the cleaned dataset for further analysis.\n"
   ]
  },
  {
   "cell_type": "code",
   "execution_count": 13,
   "id": "d72bfdce",
   "metadata": {
    "id": "d72bfdce"
   },
   "outputs": [],
   "source": [
    "# Save cleaned data\n",
    "data.to_csv(\"cleaned_data.csv\", index=False)\n"
   ]
  },
  {
   "cell_type": "code",
   "execution_count": null,
   "id": "642b5200-7734-4b72-9e61-1f1b70af34d8",
   "metadata": {},
   "outputs": [],
   "source": []
  }
 ],
 "metadata": {
  "colab": {
   "provenance": [
    {
     "file_id": "1EuApTXBbeooYtH9H_VDrTG8c0xI3ZLN0",
     "timestamp": 1719815883629
    }
   ]
  },
  "kernelspec": {
   "display_name": "Python 3 (ipykernel)",
   "language": "python",
   "name": "python3"
  },
  "language_info": {
   "codemirror_mode": {
    "name": "ipython",
    "version": 3
   },
   "file_extension": ".py",
   "mimetype": "text/x-python",
   "name": "python",
   "nbconvert_exporter": "python",
   "pygments_lexer": "ipython3",
   "version": "3.11.7"
  }
 },
 "nbformat": 4,
 "nbformat_minor": 5
}
