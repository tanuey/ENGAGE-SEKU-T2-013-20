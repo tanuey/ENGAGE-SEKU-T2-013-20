{
 "cells": [
  {
   "cell_type": "markdown",
   "id": "cc1421ad",
   "metadata": {
    "id": "cc1421ad"
   },
   "source": [
    "<h2>MODEL DEPLOYMENT</h2>\n",
    "\n",
    "By the end of this module the learner should be able to:\n",
    "1. Define model deployment.\n",
    "2. Distinguish between the different deployment models.\n",
    "3. Identify the various deployment environments.\n",
    "4. Create a web app using streamlit.\n",
    "5. Create a model\n",
    "6. Integrate a model into an application.\n",
    "\n",
    "<h2>Definition of model deployment</h2>\n",
    "\n",
    "Lets us start by thinking about what model deployment is all about. When we create the models in our jupyter notebooks or R environment, we are not able to share this with the people who want to constantily use them for the machine learning tasks such as predictions, classification and so on. We therefore need to make our models accessible for the actual users to be able to use them. This process of availing our models to potential users is what is reffered to us **model deployment**.\n",
    "\n",
    "Deploying a  model will involve integrating it with existing applications. For example if you were building a machine learning model to help doctors diagnosize patients with diabetics, you will need to integrate it with the existing health management system used in the hospital or you will need to develop an application that will help the doctor put the patients sysmptoms and then this information is sent to the model through an API (Intergreted application interface). The model then serves the request and sends the prediction to the doctor.\n",
    "\n",
    "As much as model deployment is the last stage in the machine learning cycle, model deployment is the first step in what is reffered to us model management.\n",
    "\n",
    "A typical cycle for machine learning model management is shown in the diagram below;\n",
    "\n",
    "\n",
    "The first step  involves the deployment of the model. Once the model is deployed, its performance is monitored. If the performance of the model reduces to a cerain level, the model will require retraining and evaluation and so that the old model can be replaced with a new model.\n",
    "\n",
    "<h3>Why deploy the models</h3>\n",
    "\n",
    "- Model deployment is the final step in the machine learning pipeline, where the model transitions from a development/testing phase to real-world usage.\n",
    "- Deployed models enable organizations to automate decision-making processes, optimize workflows, and derive actionable insights from data.\n",
    "- Efficient deployment ensures that the benefits of machine learning models are realized in practical applications, leading to improved efficiency, accuracy, and competitiveness.\n",
    "\n",
    "<h2>Machine learning model deployment models</h2>\n",
    "\n",
    "In general, there are 3 ways you can deploy our trained machine learning model.\n",
    "\n",
    "1. one off\n",
    "The one off model is applicable in cases where the model is only required at one particular time. This is appliable if the model is required for a temporary task. This can be applicable in a scenerio where for example if the governemnt is rolling out vaccination lets say for measals, they can develop a model for predicting the people at high risk for priotizing the distribution of the vaccine.\n",
    "\n",
    "2. Batch\n",
    "The batch model allows you to have an updated version of the model at all times. This is useful in cases where you do not need predictions done on real time data. The model gets trained on the whole dataset at certain period and used for prediction. An applicable area can be in disease servillance where the data is collected periodically like monthly and used in training the model.\n",
    "3. Realtime\n",
    "\n",
    "Realtime deployment is applicable where predictions are needed in realtime. Realtime deployment of the machine learning model can be applicable in cases such as disease servillance in case of pandemics where you might want to know everytime where new cases are reported.\n",
    "\n",
    "<h2>Factors to consider when choosing a model deployment model</h2>\n",
    "\n",
    "- How frequent/often are the predictions required and how urgent the results are required\n",
    "\n",
    "- Do we need individualpredictions or batch predictions\n",
    "\n",
    "- Cost of deploying the model\n",
    "- Computing capabilities required by the model\n",
    "- The complexity of the model. Realtime deployment model requires less complex models\n",
    "\n",
    "<h2>Challenges in machine learning model deployment</h2>\n",
    "\n",
    "- The discrepancies in programming langauges: As you have noted by now machine learning models mostily using R or Python but most applications that the model need to be integreated into are written in other langauges such as Java, PhP, type script, Ruby, C#. The integration of the models to this applications may pose a challenge.\n",
    "\n",
    "- Model drift: When the performance of a machine learning model degrades to a level that is below the benchmark, it is reffered to us model drift. Depending on the use of the model, the degradation of the model performance can cause a major impact expecially in the medical field. It is therefore very important to be able to monitor the performance of machine learning models so that any degradation in performance can be captured at an early stage. Model degradation can be caused by:\n",
    "\n",
    "1. Changing data behavior: In a typical machine learning model creation, the model is trained using historical data which is in a particular format but we know data data can change and the machine learning model will be exposed with data it has not seen before hence the poor performance. For example if a machine learning was trained to identify wheather someone had covid-19 using the data collected in 2019 which had various symptoms. At the beginning the machine learning model will perform well when patients present with the same symptoms the model was trained for. But over time when new variants of Covid-19 with different symptoms arise, the model may fail to identify if a person has Covid-19 based on the new symptoms. In such cases when there is a degredation of the performance of the model, is important to train the model on the emwrging data  or new data.\n",
    "\n",
    "2. Changing interpretation of the new data (Concept drift): Concept drift happens when the clasification of an outcome variable changes in meaning. For example if previous target variable for the machine learning model for covid during the early stages was either someone had covid or not. But with the emergence of the new variants more outcome variable are available. Instead of just wanting to know if someone has covid or not, one will be interested to find the covid variant that soemone is suffering from based on the symptoms. With such change it is important to retrain the model with the new knowledge.\n",
    "\n",
    "3. Deploying the model on the cloud or on premise: Just like the discussion on whether to adopt cloud compputing or deploy applications on premise, the decisons of where the model will be hosted has trendoffs to be made. The issues of security, privacy and accessibility will suffice.\n",
    "4. Model monitoring: It is important to have model monitorin plan. This will help in being able to determine the threshold of the model performance. If there is no plan, there is a danger of failing to monitor the performance of the model.\n",
    "\n",
    "5. Vesrion control: With the fact that the machine learning model will need to be retrained, it is important to keep tab of the versions of the model so that in case of anything you can always go back to the previous working version. One of the most common used version control tools is called Github.\n",
    "\n",
    "\n",
    "<h2>Deployment environments</h2>\n",
    "\n",
    "1. streamlit\n",
    "2. Heroku\n",
    "3. TensorFlow Serving with Docker\n",
    "4. AWS\n",
    "5. Microsoft Azure\n",
    "\n",
    "This are just a few places where you can deploy your machine learning model. You can explore more deployment environments.\n",
    "\n",
    "<h2>Steps for deploying a machine learning model</h2>\n",
    "\n",
    "1. Training of the model\n",
    "2. Saving the model\n",
    "3. Select the deployment environment\n",
    "4. Set up the requirements: This are dependancies that the model depends on such as all the libraries that were imported.\n",
    "5. Serve the model using REST API such as flask, Django, FastAPI or streamlit\n",
    "6. Deploy the model in the selected environment such as heroku server, AWS e.tc.\n",
    "7. Create the interface to access the model such as a webform\n",
    "\n",
    "Lets go through the process listed above using an example for predicting the probablity that someone has cholera or not?\n",
    "\n",
    "<h2>Machine learning deployment as a web service</h2>\n",
    "\n",
    "As we have already learnt, we mainly test and train our machine learning models using Google Colab/jupyter notebook but if we require to conect our model to an app or web service, we will need to deploy it as a webserver. This server can either be in the cloud or on premise. In this section, we are going to explore how to deploy our model Using streamlit.\n",
    "\n",
    "** Introduction to Streamlit**\n",
    "\n",
    "Streamlit is an easy to use open-source Python library used to create and share custom web apps for machine learning and data science projects. It allows you to turn your trained models into shareable web apps in minutes, without needing extensive web development skills.\n",
    "\n",
    "A web application, is an application that you can access using the browser\n",
    "\n",
    "Before we use streamlit to deploy our model, we will need to first of all install it. To install it, we will use pip which you were introduced to in the first chapter. The code to install streamlit is as follows\n",
    "\n",
    "    pip install streamlit\n",
    "If you already have it in the machine, you will get the message \"requirements satisified\"\n",
    "\n",
    "Lets start by learning a few commands that you can use in streamlit by creating the hello world web app."
   ]
  },
  {
   "cell_type": "code",
   "execution_count": 1,
   "id": "Y0J3q-TOK61j",
   "metadata": {
    "colab": {
     "base_uri": "https://localhost:8080/"
    },
    "executionInfo": {
     "elapsed": 31294,
     "status": "ok",
     "timestamp": 1721376342382,
     "user": {
      "displayName": "George Musumba",
      "userId": "16799300476353448120"
     },
     "user_tz": -180
    },
    "id": "Y0J3q-TOK61j",
    "outputId": "6ce2e399-0f1b-48a4-a840-f89a81b3175f",
    "scrolled": true
   },
   "outputs": [
    {
     "name": "stdout",
     "output_type": "stream",
     "text": [
      "Requirement already satisfied: streamlit in c:\\users\\admin\\anaconda3\\lib\\site-packages (1.30.0)\n",
      "Requirement already satisfied: altair<6,>=4.0 in c:\\users\\admin\\anaconda3\\lib\\site-packages (from streamlit) (5.0.1)\n",
      "Requirement already satisfied: blinker<2,>=1.0.0 in c:\\users\\admin\\anaconda3\\lib\\site-packages (from streamlit) (1.6.2)\n",
      "Requirement already satisfied: cachetools<6,>=4.0 in c:\\users\\admin\\anaconda3\\lib\\site-packages (from streamlit) (4.2.2)\n",
      "Requirement already satisfied: click<9,>=7.0 in c:\\users\\admin\\anaconda3\\lib\\site-packages (from streamlit) (8.1.7)\n",
      "Requirement already satisfied: importlib-metadata<8,>=1.4 in c:\\users\\admin\\anaconda3\\lib\\site-packages (from streamlit) (7.0.1)\n",
      "Requirement already satisfied: numpy<2,>=1.19.3 in c:\\users\\admin\\anaconda3\\lib\\site-packages (from streamlit) (1.26.4)\n",
      "Requirement already satisfied: packaging<24,>=16.8 in c:\\users\\admin\\anaconda3\\lib\\site-packages (from streamlit) (23.1)\n",
      "Requirement already satisfied: pandas<3,>=1.3.0 in c:\\users\\admin\\anaconda3\\lib\\site-packages (from streamlit) (2.2.2)\n",
      "Requirement already satisfied: pillow<11,>=7.1.0 in c:\\users\\admin\\anaconda3\\lib\\site-packages (from streamlit) (10.2.0)\n",
      "Requirement already satisfied: protobuf<5,>=3.20 in c:\\users\\admin\\anaconda3\\lib\\site-packages (from streamlit) (3.20.3)\n",
      "Requirement already satisfied: pyarrow>=6.0 in c:\\users\\admin\\anaconda3\\lib\\site-packages (from streamlit) (14.0.2)\n",
      "Requirement already satisfied: python-dateutil<3,>=2.7.3 in c:\\users\\admin\\anaconda3\\lib\\site-packages (from streamlit) (2.8.2)\n",
      "Requirement already satisfied: requests<3,>=2.27 in c:\\users\\admin\\anaconda3\\lib\\site-packages (from streamlit) (2.31.0)\n",
      "Requirement already satisfied: rich<14,>=10.14.0 in c:\\users\\admin\\anaconda3\\lib\\site-packages (from streamlit) (13.3.5)\n",
      "Requirement already satisfied: tenacity<9,>=8.1.0 in c:\\users\\admin\\anaconda3\\lib\\site-packages (from streamlit) (8.2.2)\n",
      "Requirement already satisfied: toml<2,>=0.10.1 in c:\\users\\admin\\anaconda3\\lib\\site-packages (from streamlit) (0.10.2)\n",
      "Requirement already satisfied: typing-extensions<5,>=4.3.0 in c:\\users\\admin\\anaconda3\\lib\\site-packages (from streamlit) (4.9.0)\n",
      "Requirement already satisfied: tzlocal<6,>=1.1 in c:\\users\\admin\\anaconda3\\lib\\site-packages (from streamlit) (2.1)\n",
      "Requirement already satisfied: validators<1,>=0.2 in c:\\users\\admin\\anaconda3\\lib\\site-packages (from streamlit) (0.18.2)\n",
      "Requirement already satisfied: gitpython!=3.1.19,<4,>=3.0.7 in c:\\users\\admin\\anaconda3\\lib\\site-packages (from streamlit) (3.1.37)\n",
      "Requirement already satisfied: pydeck<1,>=0.8.0b4 in c:\\users\\admin\\anaconda3\\lib\\site-packages (from streamlit) (0.8.0)\n",
      "Requirement already satisfied: tornado<7,>=6.0.3 in c:\\users\\admin\\anaconda3\\lib\\site-packages (from streamlit) (6.3.3)\n",
      "Requirement already satisfied: watchdog>=2.1.5 in c:\\users\\admin\\anaconda3\\lib\\site-packages (from streamlit) (2.1.6)\n",
      "Requirement already satisfied: jinja2 in c:\\users\\admin\\anaconda3\\lib\\site-packages (from altair<6,>=4.0->streamlit) (3.1.3)\n",
      "Requirement already satisfied: jsonschema>=3.0 in c:\\users\\admin\\anaconda3\\lib\\site-packages (from altair<6,>=4.0->streamlit) (4.19.2)\n",
      "Requirement already satisfied: toolz in c:\\users\\admin\\anaconda3\\lib\\site-packages (from altair<6,>=4.0->streamlit) (0.12.0)\n",
      "Requirement already satisfied: colorama in c:\\users\\admin\\anaconda3\\lib\\site-packages (from click<9,>=7.0->streamlit) (0.4.6)\n",
      "Requirement already satisfied: gitdb<5,>=4.0.1 in c:\\users\\admin\\anaconda3\\lib\\site-packages (from gitpython!=3.1.19,<4,>=3.0.7->streamlit) (4.0.7)\n",
      "Requirement already satisfied: zipp>=0.5 in c:\\users\\admin\\anaconda3\\lib\\site-packages (from importlib-metadata<8,>=1.4->streamlit) (3.17.0)\n",
      "Requirement already satisfied: pytz>=2020.1 in c:\\users\\admin\\anaconda3\\lib\\site-packages (from pandas<3,>=1.3.0->streamlit) (2023.3.post1)\n",
      "Requirement already satisfied: tzdata>=2022.7 in c:\\users\\admin\\anaconda3\\lib\\site-packages (from pandas<3,>=1.3.0->streamlit) (2023.3)\n",
      "Requirement already satisfied: six>=1.5 in c:\\users\\admin\\anaconda3\\lib\\site-packages (from python-dateutil<3,>=2.7.3->streamlit) (1.16.0)\n",
      "Requirement already satisfied: charset-normalizer<4,>=2 in c:\\users\\admin\\anaconda3\\lib\\site-packages (from requests<3,>=2.27->streamlit) (2.0.4)\n",
      "Requirement already satisfied: idna<4,>=2.5 in c:\\users\\admin\\anaconda3\\lib\\site-packages (from requests<3,>=2.27->streamlit) (3.4)\n",
      "Requirement already satisfied: urllib3<3,>=1.21.1 in c:\\users\\admin\\anaconda3\\lib\\site-packages (from requests<3,>=2.27->streamlit) (2.0.7)\n",
      "Requirement already satisfied: certifi>=2017.4.17 in c:\\users\\admin\\anaconda3\\lib\\site-packages (from requests<3,>=2.27->streamlit) (2024.7.4)\n",
      "Requirement already satisfied: markdown-it-py<3.0.0,>=2.2.0 in c:\\users\\admin\\anaconda3\\lib\\site-packages (from rich<14,>=10.14.0->streamlit) (2.2.0)\n",
      "Requirement already satisfied: pygments<3.0.0,>=2.13.0 in c:\\users\\admin\\anaconda3\\lib\\site-packages (from rich<14,>=10.14.0->streamlit) (2.15.1)\n",
      "Requirement already satisfied: decorator>=3.4.0 in c:\\users\\admin\\anaconda3\\lib\\site-packages (from validators<1,>=0.2->streamlit) (5.1.1)\n",
      "Requirement already satisfied: smmap<5,>=3.0.1 in c:\\users\\admin\\anaconda3\\lib\\site-packages (from gitdb<5,>=4.0.1->gitpython!=3.1.19,<4,>=3.0.7->streamlit) (4.0.0)\n",
      "Requirement already satisfied: MarkupSafe>=2.0 in c:\\users\\admin\\anaconda3\\lib\\site-packages (from jinja2->altair<6,>=4.0->streamlit) (2.1.3)\n",
      "Requirement already satisfied: attrs>=22.2.0 in c:\\users\\admin\\anaconda3\\lib\\site-packages (from jsonschema>=3.0->altair<6,>=4.0->streamlit) (23.1.0)\n",
      "Requirement already satisfied: jsonschema-specifications>=2023.03.6 in c:\\users\\admin\\anaconda3\\lib\\site-packages (from jsonschema>=3.0->altair<6,>=4.0->streamlit) (2023.7.1)\n",
      "Requirement already satisfied: referencing>=0.28.4 in c:\\users\\admin\\anaconda3\\lib\\site-packages (from jsonschema>=3.0->altair<6,>=4.0->streamlit) (0.30.2)\n",
      "Requirement already satisfied: rpds-py>=0.7.1 in c:\\users\\admin\\anaconda3\\lib\\site-packages (from jsonschema>=3.0->altair<6,>=4.0->streamlit) (0.10.6)\n",
      "Requirement already satisfied: mdurl~=0.1 in c:\\users\\admin\\anaconda3\\lib\\site-packages (from markdown-it-py<3.0.0,>=2.2.0->rich<14,>=10.14.0->streamlit) (0.1.0)\n",
      "Note: you may need to restart the kernel to use updated packages.\n"
     ]
    }
   ],
   "source": [
    "pip install streamlit"
   ]
  },
  {
   "cell_type": "markdown",
   "id": "o448uouALFuZ",
   "metadata": {
    "id": "o448uouALFuZ"
   },
   "source": [
    "Before we start using streamlit, we have to import it. We will import it with an alias st the same way we were importing pandas with the alias pd as follows"
   ]
  },
  {
   "cell_type": "code",
   "execution_count": 19,
   "id": "n27d8QQMYzGN",
   "metadata": {
    "colab": {
     "base_uri": "https://localhost:8080/"
    },
    "executionInfo": {
     "elapsed": 2754,
     "status": "ok",
     "timestamp": 1721376365688,
     "user": {
      "displayName": "George Musumba",
      "userId": "16799300476353448120"
     },
     "user_tz": -180
    },
    "id": "n27d8QQMYzGN",
    "outputId": "28d5e216-d5be-4f6c-e9ae-65179960e10c"
   },
   "outputs": [],
   "source": [
    "import streamlit as st\n",
    "# Title of the app\n",
    "st.title('Hello World Streamlit App')\n",
    "\n",
    "# Display text\n",
    "st.write('Hello, World! This is my first Streamlit app.')\n",
    "\n",
    "# Add a slider widget\n",
    "number = st.slider('Pick a number', 0, 100, 50)\n",
    "st.write('You selected:', number)"
   ]
  },
  {
   "cell_type": "markdown",
   "id": "dPHkty-sL7pk",
   "metadata": {
    "id": "dPHkty-sL7pk"
   },
   "source": [
    "**Code explanation**\n",
    "\n",
    "The **st. title** method helps to write a title for our application\n",
    "\n",
    "The **st.write\"** is used to write any thing to the screen\n",
    "\n",
    "The **st.slider** will create a slider for you that you can be able to drag through.\n",
    "\n",
    "To see how our app is working, we will transfer the code above to a text editor and save it as app.py then we will use the streamlit run command to run our file from the command prompt."
   ]
  },
  {
   "cell_type": "markdown",
   "id": "djGKCaMiUytx",
   "metadata": {
    "id": "djGKCaMiUytx"
   },
   "source": [
    "\n",
    "**<h2>CREATING OUR MODEL</h2>**\n",
    "\n",
    "Now that we know the basic streamlit, lets create the model we will deploy using the stramlit app.\n",
    "\n",
    "**<h4>Importing the libraries</h4>**"
   ]
  },
  {
   "cell_type": "code",
   "execution_count": 1,
   "id": "fCK_kGaffENE",
   "metadata": {
    "id": "fCK_kGaffENE"
   },
   "outputs": [],
   "source": [
    "import pandas as pd\n",
    "import numpy as np\n",
    "from sklearn.linear_model import LinearRegression\n",
    "from sklearn.model_selection import train_test_split\n",
    "from sklearn.metrics import accuracy_score, confusion_matrix, classification_report\n",
    "import matplotlib.pyplot as plt\n"
   ]
  },
  {
   "cell_type": "markdown",
   "id": "RtzxGjz0ftfP",
   "metadata": {
    "id": "RtzxGjz0ftfP"
   },
   "source": [
    "Next we load the dataset for cholera"
   ]
  },
  {
   "cell_type": "code",
   "execution_count": 2,
   "id": "Yv5RJPg6fr2f",
   "metadata": {
    "id": "Yv5RJPg6fr2f"
   },
   "outputs": [],
   "source": [
    "data=pd.read_excel(\"child_data.xlsx\")"
   ]
  },
  {
   "cell_type": "markdown",
   "id": "g4k79Rz5f4t0",
   "metadata": {
    "id": "g4k79Rz5f4t0"
   },
   "source": [
    "Lets look at how the data is by using the head function"
   ]
  },
  {
   "cell_type": "code",
   "execution_count": 3,
   "id": "-vnFd2VegADe",
   "metadata": {
    "colab": {
     "base_uri": "https://localhost:8080/",
     "height": 223
    },
    "executionInfo": {
     "elapsed": 1015,
     "status": "ok",
     "timestamp": 1721391888953,
     "user": {
      "displayName": "Selina Atwani Ochukut",
      "userId": "02295218241410605702"
     },
     "user_tz": -180
    },
    "id": "-vnFd2VegADe",
    "outputId": "f1a7c10f-0dfe-4661-eb86-002052a032bb"
   },
   "outputs": [
    {
     "data": {
      "text/html": [
       "<div>\n",
       "<style scoped>\n",
       "    .dataframe tbody tr th:only-of-type {\n",
       "        vertical-align: middle;\n",
       "    }\n",
       "\n",
       "    .dataframe tbody tr th {\n",
       "        vertical-align: top;\n",
       "    }\n",
       "\n",
       "    .dataframe thead th {\n",
       "        text-align: right;\n",
       "    }\n",
       "</style>\n",
       "<table border=\"1\" class=\"dataframe\">\n",
       "  <thead>\n",
       "    <tr style=\"text-align: right;\">\n",
       "      <th></th>\n",
       "      <th>Age (months)</th>\n",
       "      <th>Sex</th>\n",
       "      <th>Mother's education</th>\n",
       "      <th>Area</th>\n",
       "      <th>Wealth index quintile</th>\n",
       "      <th>Child's weight (kilograms)</th>\n",
       "    </tr>\n",
       "  </thead>\n",
       "  <tbody>\n",
       "    <tr>\n",
       "      <th>0</th>\n",
       "      <td>45</td>\n",
       "      <td>0</td>\n",
       "      <td>1</td>\n",
       "      <td>0</td>\n",
       "      <td>0</td>\n",
       "      <td>16.2</td>\n",
       "    </tr>\n",
       "    <tr>\n",
       "      <th>1</th>\n",
       "      <td>45</td>\n",
       "      <td>1</td>\n",
       "      <td>0</td>\n",
       "      <td>0</td>\n",
       "      <td>1</td>\n",
       "      <td>13.5</td>\n",
       "    </tr>\n",
       "    <tr>\n",
       "      <th>2</th>\n",
       "      <td>36</td>\n",
       "      <td>1</td>\n",
       "      <td>0</td>\n",
       "      <td>0</td>\n",
       "      <td>2</td>\n",
       "      <td>13.4</td>\n",
       "    </tr>\n",
       "    <tr>\n",
       "      <th>3</th>\n",
       "      <td>51</td>\n",
       "      <td>0</td>\n",
       "      <td>0</td>\n",
       "      <td>0</td>\n",
       "      <td>2</td>\n",
       "      <td>15.0</td>\n",
       "    </tr>\n",
       "    <tr>\n",
       "      <th>4</th>\n",
       "      <td>56</td>\n",
       "      <td>0</td>\n",
       "      <td>0</td>\n",
       "      <td>0</td>\n",
       "      <td>2</td>\n",
       "      <td>15.2</td>\n",
       "    </tr>\n",
       "  </tbody>\n",
       "</table>\n",
       "</div>"
      ],
      "text/plain": [
       "   Age (months)  Sex  Mother's education  Area  Wealth index quintile  \\\n",
       "0            45    0                   1     0                      0   \n",
       "1            45    1                   0     0                      1   \n",
       "2            36    1                   0     0                      2   \n",
       "3            51    0                   0     0                      2   \n",
       "4            56    0                   0     0                      2   \n",
       "\n",
       "   Child's weight (kilograms)  \n",
       "0                        16.2  \n",
       "1                        13.5  \n",
       "2                        13.4  \n",
       "3                        15.0  \n",
       "4                        15.2  "
      ]
     },
     "execution_count": 3,
     "metadata": {},
     "output_type": "execute_result"
    }
   ],
   "source": [
    "data.head()"
   ]
  },
  {
   "cell_type": "code",
   "execution_count": null,
   "id": "Z4uwsY52GYTa",
   "metadata": {
    "id": "Z4uwsY52GYTa"
   },
   "outputs": [],
   "source": []
  },
  {
   "cell_type": "code",
   "execution_count": 4,
   "id": "Q6zcZSMaippz",
   "metadata": {
    "id": "Q6zcZSMaippz"
   },
   "outputs": [],
   "source": [
    "missing_data=data.isnull().sum()"
   ]
  },
  {
   "cell_type": "code",
   "execution_count": 5,
   "id": "tJuOZvB6qysm",
   "metadata": {
    "colab": {
     "base_uri": "https://localhost:8080/"
    },
    "executionInfo": {
     "elapsed": 2,
     "status": "ok",
     "timestamp": 1721391905630,
     "user": {
      "displayName": "Selina Atwani Ochukut",
      "userId": "02295218241410605702"
     },
     "user_tz": -180
    },
    "id": "tJuOZvB6qysm",
    "outputId": "2d907aa8-239d-40c5-8864-37c5573cea00"
   },
   "outputs": [
    {
     "data": {
      "text/plain": [
       "array([0, 1], dtype=int64)"
      ]
     },
     "execution_count": 5,
     "metadata": {},
     "output_type": "execute_result"
    }
   ],
   "source": [
    "data[\"Area\"].unique()"
   ]
  },
  {
   "cell_type": "code",
   "execution_count": 6,
   "id": "ixMezVaPiwS5",
   "metadata": {
    "colab": {
     "base_uri": "https://localhost:8080/"
    },
    "executionInfo": {
     "elapsed": 2,
     "status": "ok",
     "timestamp": 1721391908370,
     "user": {
      "displayName": "Selina Atwani Ochukut",
      "userId": "02295218241410605702"
     },
     "user_tz": -180
    },
    "id": "ixMezVaPiwS5",
    "outputId": "0713468b-f5f0-459a-fbc1-bdf5563ce393"
   },
   "outputs": [
    {
     "name": "stdout",
     "output_type": "stream",
     "text": [
      "Age (months)                  0\n",
      "Sex                           0\n",
      "Mother's education            0\n",
      "Area                          0\n",
      "Wealth index quintile         0\n",
      "Child's weight (kilograms)    0\n",
      "dtype: int64\n"
     ]
    }
   ],
   "source": [
    "print(missing_data)"
   ]
  },
  {
   "cell_type": "code",
   "execution_count": 7,
   "id": "-d8aV7VekKR5",
   "metadata": {
    "id": "-d8aV7VekKR5"
   },
   "outputs": [],
   "source": [
    "#Create an X and y values\n",
    "X=data[[\"Sex\",\"Mother's education\",\"Area\",\"Wealth index quintile\"]]\n",
    "y=data[\"Child's weight (kilograms)\"]\n",
    "X=X.to_numpy()\n",
    "y=y.to_numpy()"
   ]
  },
  {
   "cell_type": "code",
   "execution_count": 8,
   "id": "RgN3w19-k9P9",
   "metadata": {
    "id": "RgN3w19-k9P9"
   },
   "outputs": [],
   "source": [
    "X_train, X_test, y_train, y_test = train_test_split(X, y, test_size=0.3, random_state=42)"
   ]
  },
  {
   "cell_type": "code",
   "execution_count": 9,
   "id": "bUHTtIc4kpJS",
   "metadata": {
    "id": "bUHTtIc4kpJS"
   },
   "outputs": [],
   "source": [
    "model=LinearRegression()"
   ]
  },
  {
   "cell_type": "code",
   "execution_count": 10,
   "id": "Uin_HNDUkuWM",
   "metadata": {
    "colab": {
     "base_uri": "https://localhost:8080/",
     "height": 74
    },
    "executionInfo": {
     "elapsed": 729,
     "status": "ok",
     "timestamp": 1721392211357,
     "user": {
      "displayName": "Selina Atwani Ochukut",
      "userId": "02295218241410605702"
     },
     "user_tz": -180
    },
    "id": "Uin_HNDUkuWM",
    "outputId": "e5692468-c3ad-4623-ada9-86a0b1ca8765"
   },
   "outputs": [
    {
     "data": {
      "text/html": [
       "<style>#sk-container-id-1 {color: black;background-color: white;}#sk-container-id-1 pre{padding: 0;}#sk-container-id-1 div.sk-toggleable {background-color: white;}#sk-container-id-1 label.sk-toggleable__label {cursor: pointer;display: block;width: 100%;margin-bottom: 0;padding: 0.3em;box-sizing: border-box;text-align: center;}#sk-container-id-1 label.sk-toggleable__label-arrow:before {content: \"▸\";float: left;margin-right: 0.25em;color: #696969;}#sk-container-id-1 label.sk-toggleable__label-arrow:hover:before {color: black;}#sk-container-id-1 div.sk-estimator:hover label.sk-toggleable__label-arrow:before {color: black;}#sk-container-id-1 div.sk-toggleable__content {max-height: 0;max-width: 0;overflow: hidden;text-align: left;background-color: #f0f8ff;}#sk-container-id-1 div.sk-toggleable__content pre {margin: 0.2em;color: black;border-radius: 0.25em;background-color: #f0f8ff;}#sk-container-id-1 input.sk-toggleable__control:checked~div.sk-toggleable__content {max-height: 200px;max-width: 100%;overflow: auto;}#sk-container-id-1 input.sk-toggleable__control:checked~label.sk-toggleable__label-arrow:before {content: \"▾\";}#sk-container-id-1 div.sk-estimator input.sk-toggleable__control:checked~label.sk-toggleable__label {background-color: #d4ebff;}#sk-container-id-1 div.sk-label input.sk-toggleable__control:checked~label.sk-toggleable__label {background-color: #d4ebff;}#sk-container-id-1 input.sk-hidden--visually {border: 0;clip: rect(1px 1px 1px 1px);clip: rect(1px, 1px, 1px, 1px);height: 1px;margin: -1px;overflow: hidden;padding: 0;position: absolute;width: 1px;}#sk-container-id-1 div.sk-estimator {font-family: monospace;background-color: #f0f8ff;border: 1px dotted black;border-radius: 0.25em;box-sizing: border-box;margin-bottom: 0.5em;}#sk-container-id-1 div.sk-estimator:hover {background-color: #d4ebff;}#sk-container-id-1 div.sk-parallel-item::after {content: \"\";width: 100%;border-bottom: 1px solid gray;flex-grow: 1;}#sk-container-id-1 div.sk-label:hover label.sk-toggleable__label {background-color: #d4ebff;}#sk-container-id-1 div.sk-serial::before {content: \"\";position: absolute;border-left: 1px solid gray;box-sizing: border-box;top: 0;bottom: 0;left: 50%;z-index: 0;}#sk-container-id-1 div.sk-serial {display: flex;flex-direction: column;align-items: center;background-color: white;padding-right: 0.2em;padding-left: 0.2em;position: relative;}#sk-container-id-1 div.sk-item {position: relative;z-index: 1;}#sk-container-id-1 div.sk-parallel {display: flex;align-items: stretch;justify-content: center;background-color: white;position: relative;}#sk-container-id-1 div.sk-item::before, #sk-container-id-1 div.sk-parallel-item::before {content: \"\";position: absolute;border-left: 1px solid gray;box-sizing: border-box;top: 0;bottom: 0;left: 50%;z-index: -1;}#sk-container-id-1 div.sk-parallel-item {display: flex;flex-direction: column;z-index: 1;position: relative;background-color: white;}#sk-container-id-1 div.sk-parallel-item:first-child::after {align-self: flex-end;width: 50%;}#sk-container-id-1 div.sk-parallel-item:last-child::after {align-self: flex-start;width: 50%;}#sk-container-id-1 div.sk-parallel-item:only-child::after {width: 0;}#sk-container-id-1 div.sk-dashed-wrapped {border: 1px dashed gray;margin: 0 0.4em 0.5em 0.4em;box-sizing: border-box;padding-bottom: 0.4em;background-color: white;}#sk-container-id-1 div.sk-label label {font-family: monospace;font-weight: bold;display: inline-block;line-height: 1.2em;}#sk-container-id-1 div.sk-label-container {text-align: center;}#sk-container-id-1 div.sk-container {/* jupyter's `normalize.less` sets `[hidden] { display: none; }` but bootstrap.min.css set `[hidden] { display: none !important; }` so we also need the `!important` here to be able to override the default hidden behavior on the sphinx rendered scikit-learn.org. See: https://github.com/scikit-learn/scikit-learn/issues/21755 */display: inline-block !important;position: relative;}#sk-container-id-1 div.sk-text-repr-fallback {display: none;}</style><div id=\"sk-container-id-1\" class=\"sk-top-container\"><div class=\"sk-text-repr-fallback\"><pre>LinearRegression()</pre><b>In a Jupyter environment, please rerun this cell to show the HTML representation or trust the notebook. <br />On GitHub, the HTML representation is unable to render, please try loading this page with nbviewer.org.</b></div><div class=\"sk-container\" hidden><div class=\"sk-item\"><div class=\"sk-estimator sk-toggleable\"><input class=\"sk-toggleable__control sk-hidden--visually\" id=\"sk-estimator-id-1\" type=\"checkbox\" checked><label for=\"sk-estimator-id-1\" class=\"sk-toggleable__label sk-toggleable__label-arrow\">LinearRegression</label><div class=\"sk-toggleable__content\"><pre>LinearRegression()</pre></div></div></div></div></div>"
      ],
      "text/plain": [
       "LinearRegression()"
      ]
     },
     "execution_count": 10,
     "metadata": {},
     "output_type": "execute_result"
    }
   ],
   "source": [
    "model.fit(X_train, y_train)"
   ]
  },
  {
   "cell_type": "code",
   "execution_count": 11,
   "id": "FjZYOjjwljYO",
   "metadata": {
    "id": "FjZYOjjwljYO"
   },
   "outputs": [],
   "source": [
    "y_pred=model.predict(X_test)"
   ]
  },
  {
   "cell_type": "code",
   "execution_count": 17,
   "id": "49904573-1879-4fa0-bacf-0a3da5ba6011",
   "metadata": {},
   "outputs": [],
   "source": [
    "#convert probabilities to binary labels\n",
    "y_pred_labels=(y_pred>=0.5).astype(int)"
   ]
  },
  {
   "cell_type": "code",
   "execution_count": 12,
   "id": "ac29111d-120b-41ef-bfab-c4f5cbc9a51e",
   "metadata": {},
   "outputs": [],
   "source": [
    "y_test_labels = (y_test >= 0.5).astype(int)\n"
   ]
  },
  {
   "cell_type": "code",
   "execution_count": 18,
   "id": "30b32420-db9d-4425-9d38-34d17f3faa28",
   "metadata": {},
   "outputs": [
    {
     "name": "stdout",
     "output_type": "stream",
     "text": [
      "MSE: 12.39059040588651\n",
      "R-SQUARE: -0.01903614828894873\n"
     ]
    }
   ],
   "source": [
    "from sklearn.metrics import mean_squared_error, r2_score\n",
    "\n",
    "mse = mean_squared_error(y_test, y_pred)\n",
    "r2 = r2_score(y_test, y_pred)\n",
    "\n",
    "print(f\"MSE: {mse}\")\n",
    "print(f\"R-SQUARE: {r2}\")\n"
   ]
  },
  {
   "cell_type": "code",
   "execution_count": 19,
   "id": "FWKN7gbfl0TC",
   "metadata": {
    "id": "FWKN7gbfl0TC"
   },
   "outputs": [
    {
     "name": "stdout",
     "output_type": "stream",
     "text": [
      "Accuracy: 1.0\n",
      "Confusion Matrix:\n",
      "[[231]]\n",
      "Classification Report:\n",
      "              precision    recall  f1-score   support\n",
      "\n",
      "           1       1.00      1.00      1.00       231\n",
      "\n",
      "    accuracy                           1.00       231\n",
      "   macro avg       1.00      1.00      1.00       231\n",
      "weighted avg       1.00      1.00      1.00       231\n",
      "\n"
     ]
    }
   ],
   "source": [
    "accuracy = accuracy_score(y_test_labels, y_pred_labels)\n",
    "conf_matrix = confusion_matrix(y_test_labels, y_pred_labels)\n",
    "class_report = classification_report(y_test_labels, y_pred_labels)\n",
    "\n",
    "print(f\"Accuracy: {accuracy}\")\n",
    "print(f\"Confusion Matrix:\\n{conf_matrix}\")\n",
    "print(f\"Classification Report:\\n{class_report}\")"
   ]
  },
  {
   "cell_type": "code",
   "execution_count": 20,
   "id": "hiEo6ZfSl3eV",
   "metadata": {
    "colab": {
     "base_uri": "https://localhost:8080/"
    },
    "executionInfo": {
     "elapsed": 782,
     "status": "ok",
     "timestamp": 1721391163322,
     "user": {
      "displayName": "Selina Atwani Ochukut",
      "userId": "02295218241410605702"
     },
     "user_tz": -180
    },
    "id": "hiEo6ZfSl3eV",
    "outputId": "603e3cef-7a45-4c88-b296-163afb8fc803"
   },
   "outputs": [
    {
     "name": "stdout",
     "output_type": "stream",
     "text": [
      "1.0\n",
      "<function confusion_matrix at 0x000001714FCDA700>\n",
      "              precision    recall  f1-score   support\n",
      "\n",
      "           1       1.00      1.00      1.00       231\n",
      "\n",
      "    accuracy                           1.00       231\n",
      "   macro avg       1.00      1.00      1.00       231\n",
      "weighted avg       1.00      1.00      1.00       231\n",
      "\n"
     ]
    }
   ],
   "source": [
    "print(accuracy)\n",
    "print(confusion_matrix)\n",
    "print(class_report)"
   ]
  },
  {
   "cell_type": "markdown",
   "id": "CpV29M7NmOeR",
   "metadata": {
    "id": "CpV29M7NmOeR"
   },
   "source": [
    "Once we trained our model and we are satisfied with the output, we will save our model using joblib"
   ]
  },
  {
   "cell_type": "code",
   "execution_count": 25,
   "id": "4wMlZeiG8D_1",
   "metadata": {
    "colab": {
     "base_uri": "https://localhost:8080/"
    },
    "executionInfo": {
     "elapsed": 719,
     "status": "ok",
     "timestamp": 1721392251176,
     "user": {
      "displayName": "Selina Atwani Ochukut",
      "userId": "02295218241410605702"
     },
     "user_tz": -180
    },
    "id": "4wMlZeiG8D_1",
    "outputId": "9fd36936-6fe3-47f1-a397-beacceb9725f"
   },
   "outputs": [
    {
     "data": {
      "text/plain": [
       "array([16.88260421])"
      ]
     },
     "execution_count": 25,
     "metadata": {},
     "output_type": "execute_result"
    }
   ],
   "source": [
    "model.predict([[20,1,1,4]])"
   ]
  },
  {
   "cell_type": "code",
   "execution_count": 26,
   "id": "fJQ-6sGGmNel",
   "metadata": {
    "colab": {
     "base_uri": "https://localhost:8080/"
    },
    "executionInfo": {
     "elapsed": 1245,
     "status": "ok",
     "timestamp": 1721392289763,
     "user": {
      "displayName": "Selina Atwani Ochukut",
      "userId": "02295218241410605702"
     },
     "user_tz": -180
    },
    "id": "fJQ-6sGGmNel",
    "outputId": "1f668fa9-44ee-4a67-db64-9281fc7e53da"
   },
   "outputs": [
    {
     "data": {
      "text/plain": [
       "['linear_regression_model.joblib']"
      ]
     },
     "execution_count": 26,
     "metadata": {},
     "output_type": "execute_result"
    }
   ],
   "source": [
    "import joblib\n",
    "joblib_file = \"linear_regression_model.joblib\"\n",
    "joblib.dump(model, joblib_file)"
   ]
  },
  {
   "cell_type": "markdown",
   "id": "XJX4F4yOzehy",
   "metadata": {
    "id": "XJX4F4yOzehy"
   },
   "source": [
    "Once the model is saved we can now create a simple app which we can use to serve our model. We can create the app using streamlit as follows"
   ]
  },
  {
   "cell_type": "code",
   "execution_count": 27,
   "id": "owblEEVp_Adr",
   "metadata": {
    "id": "owblEEVp_Adr"
   },
   "outputs": [],
   "source": [
    "#Importing the necessary libraries\n",
    "import streamlit as st\n",
    "import joblib\n",
    "import numpy as np\n",
    "#Loading your saved model. Be sure to change the path\n",
    "model = joblib.load('linear_regression_model.joblib')\n",
    "st.title('Child weight pediction app')\n",
    "st.write(\"This app predicts a child's weight based on a childs age.\")\n",
    "age = st.number_input('Age', min_value=0.0, max_value=100.0, value=6.0)\n",
    "if st.button('Predict'):\n",
    "    input_features = np.array([[age]])\n",
    "    prediction = model.predict(input_features)\n",
    "    st.write(f'Predicted weight: {[prediction][0]}')"
   ]
  },
  {
   "cell_type": "markdown",
   "id": "E3mRzwWQ3XD8",
   "metadata": {
    "id": "E3mRzwWQ3XD8"
   },
   "source": [
    "<h3> TASK </h2>\n",
    "\n",
    "Save the model you created in classfication session and deploy it"
   ]
  },
  {
   "cell_type": "markdown",
   "id": "glV1unrnzac3",
   "metadata": {
    "id": "glV1unrnzac3"
   },
   "source": []
  },
  {
   "cell_type": "code",
   "execution_count": null,
   "id": "sVyQYhQVfMPC",
   "metadata": {
    "colab": {
     "base_uri": "https://localhost:8080/"
    },
    "executionInfo": {
     "elapsed": 30140,
     "status": "ok",
     "timestamp": 1721391019580,
     "user": {
      "displayName": "Selina Atwani Ochukut",
      "userId": "02295218241410605702"
     },
     "user_tz": -180
    },
    "id": "sVyQYhQVfMPC",
    "outputId": "d3c03f4b-fcf4-4f01-9585-0dc3a19b5a3c"
   },
   "outputs": [
    {
     "name": "stdout",
     "output_type": "stream",
     "text": [
      "Mounted at /content/drive\n"
     ]
    }
   ],
   "source": [
    "from google.colab import drive\n",
    "drive.mount('/content/drive')"
   ]
  },
  {
   "cell_type": "markdown",
   "id": "j_aP_q5HE0kO",
   "metadata": {
    "id": "j_aP_q5HE0kO"
   },
   "source": []
  }
 ],
 "metadata": {
  "colab": {
   "provenance": [
    {
     "file_id": "1XquLFOgFA2mnKNfDUuu2oRRE6cIZn6jK",
     "timestamp": 1719816120889
    }
   ]
  },
  "kernelspec": {
   "display_name": "Python 3 (ipykernel)",
   "language": "python",
   "name": "python3"
  },
  "language_info": {
   "codemirror_mode": {
    "name": "ipython",
    "version": 3
   },
   "file_extension": ".py",
   "mimetype": "text/x-python",
   "name": "python",
   "nbconvert_exporter": "python",
   "pygments_lexer": "ipython3",
   "version": "3.11.7"
  }
 },
 "nbformat": 4,
 "nbformat_minor": 5
}
